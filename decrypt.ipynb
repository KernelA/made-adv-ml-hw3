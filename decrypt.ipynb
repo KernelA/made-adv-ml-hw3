{
 "cells": [
  {
   "source": [
    "Для запуска в Google Colab раскомментируйте ячейки ниже. После установки зависимостей необходимо перезапустить среду (runtime)."
   ],
   "cell_type": "markdown",
   "metadata": {}
  },
  {
   "cell_type": "code",
   "execution_count": 1,
   "metadata": {},
   "outputs": [],
   "source": [
    "# !apt install git-lfs"
   ]
  },
  {
   "cell_type": "code",
   "execution_count": 2,
   "metadata": {},
   "outputs": [],
   "source": [
    "# !git clone -b master https://github.com/KernelA/made-adv-ml-hw3.git"
   ]
  },
  {
   "cell_type": "code",
   "execution_count": 3,
   "metadata": {},
   "outputs": [],
   "source": [
    "# %cd /content/made-adv-ml-hw3"
   ]
  },
  {
   "cell_type": "code",
   "execution_count": 4,
   "metadata": {},
   "outputs": [],
   "source": [
    "# !git lfs pull"
   ]
  },
  {
   "cell_type": "code",
   "execution_count": 5,
   "metadata": {},
   "outputs": [],
   "source": [
    "# !pip install --no-cache -r ./requirements.txt"
   ]
  },
  {
   "cell_type": "code",
   "execution_count": 57,
   "metadata": {},
   "outputs": [],
   "source": [
    "import zipfile\n",
    "import pathlib\n",
    "import string\n",
    "import random\n",
    "from collections import Counter\n",
    "from typing import List\n",
    "\n",
    "import pandas as pd\n",
    "import networkx as nx\n",
    "import numpy as np\n",
    "from IPython.display import HTML, display\n",
    "from tabulate import tabulate\n",
    "from plotly import express as ex"
   ]
  },
  {
   "cell_type": "code",
   "execution_count": 7,
   "metadata": {},
   "outputs": [],
   "source": [
    "%load_ext autoreload\n",
    "\n",
    "%autoreload 2\n",
    "\n",
    "from utils import read_text, preprocess_text, LetterPermutation, get_emoji_vocab\n",
    "from language_model import count_ngram, NGramStat\n",
    "from simple_decoder import beam_search, build_graph, decode_ngrams, encode_text, decode_text\n",
    "from mcmc_decoding import mcmc_decryption\n",
    "from constants import RUSSIAN_LETTERS"
   ]
  },
  {
   "cell_type": "code",
   "execution_count": 8,
   "metadata": {},
   "outputs": [],
   "source": [
    "SEED = 32\n",
    "\n",
    "RND_GENERATOR = random.Random(SEED)"
   ]
  },
  {
   "cell_type": "code",
   "execution_count": 9,
   "metadata": {},
   "outputs": [],
   "source": [
    "path_to_zip = pathlib.Path(\"data\", \"corpora.zip\")"
   ]
  },
  {
   "cell_type": "code",
   "execution_count": 10,
   "metadata": {},
   "outputs": [],
   "source": [
    "texts = read_text(path_to_zip, ignore_files=[\"WarAndPeaceEng.txt\"])"
   ]
  },
  {
   "cell_type": "code",
   "execution_count": 11,
   "metadata": {},
   "outputs": [],
   "source": [
    "for text in texts:\n",
    "    texts[text] = preprocess_text(texts[text])"
   ]
  },
  {
   "cell_type": "code",
   "execution_count": 12,
   "metadata": {},
   "outputs": [],
   "source": [
    "n_gram = 1"
   ]
  },
  {
   "cell_type": "code",
   "execution_count": 13,
   "metadata": {},
   "outputs": [],
   "source": [
    "source_freq = Counter()\n",
    "for name in texts:\n",
    "    source_freq.update(count_ngram(texts[name], n_gram=n_gram))"
   ]
  },
  {
   "cell_type": "code",
   "execution_count": 14,
   "metadata": {},
   "outputs": [],
   "source": [
    "unigram_stat = NGramStat(source_freq)"
   ]
  },
  {
   "cell_type": "code",
   "execution_count": 15,
   "metadata": {},
   "outputs": [
    {
     "output_type": "execute_result",
     "data": {
      "text/plain": [
       "'е'"
      ]
     },
     "metadata": {},
     "execution_count": 15
    }
   ],
   "source": [
    "unigram_stat.get_ngram_by_rank(2)"
   ]
  },
  {
   "source": [
    "Для шифрования методом перестановки символов возьмём за основу emoji в качестве символов для шифрования."
   ],
   "cell_type": "markdown",
   "metadata": {}
  },
  {
   "cell_type": "code",
   "execution_count": 16,
   "metadata": {},
   "outputs": [],
   "source": [
    "original_vocab = set(RUSSIAN_LETTERS)\n",
    "original_vocab.add(\" \")\n",
    "emodji_vocab = list(get_emoji_vocab())\n",
    "\n",
    "symmetric_key = LetterPermutation(frozenset(original_vocab), frozenset(RND_GENERATOR.sample(emodji_vocab, k=len(original_vocab))))\n",
    "\n",
    "permutations = list(range(len(symmetric_key)))\n",
    "RND_GENERATOR.shuffle(permutations)\n",
    "symmetric_key.permute(permutations)\n",
    "del permutations"
   ]
  },
  {
   "cell_type": "markdown",
   "metadata": {},
   "source": [
    "# 1 Частотное декодирование на основе униграмм"
   ]
  },
  {
   "cell_type": "code",
   "execution_count": 17,
   "metadata": {},
   "outputs": [],
   "source": [
    "test_text = \"Российский физик Александр Попов продемонстрировал новейший прибор, предназначенный для показывания быстрых колебаний в атмосферном электричестве. Именно этот день считается днем рождения радиоприемника. В разных городах России студенты профильных технических вузов отмечают этот праздник. Также с профессиональным праздником поздравляют всех работников сферы связи и радиовещания.\""
   ]
  },
  {
   "cell_type": "code",
   "execution_count": 18,
   "metadata": {},
   "outputs": [
    {
     "output_type": "stream",
     "name": "stdout",
     "text": [
      "Encoded text length: 376\n"
     ]
    }
   ],
   "source": [
    "encoded_text, original_processed = encode_text(test_text, symmetric_key, n_gram=n_gram)"
   ]
  },
  {
   "cell_type": "code",
   "execution_count": 19,
   "metadata": {},
   "outputs": [
    {
     "output_type": "execute_result",
     "data": {
      "text/plain": [
       "'❓👰💠💠🍡📴💠👧🍡📴👴👖🍡👂🍡👧👴🔸💅🐢👧💠🔸🆑⏫❓👴🚸👰🚸👰🔮👴🚸❓👰⏫🐢🌚👰🆑💠🚦❓🍡❓👰🔮🔸💅👴🆑👰🔮🐢📴🍸🍡📴👴🚸❓🍡🎪👰❓👴🚸❓🐢⏫🆑🔸👂🆑🔸🌱🐢🆑🆑🚛📴👴⏫💅✅👴🚸👰👧🔸👂🚛🔮🔸🆑🍡✅👴🎪🚛💠🚦❓🚛🎱👴👧👰💅🐢🎪🔸🆑🍡📴👴🔮👴🔸🚦🌚👰💠👖🐢❓🆑👰🌚👴🚳💅🐢👧🚦❓🍡🌱🐢💠🚦🔮🐢👴🍡🌚🐢🆑🆑👰👴🚳🚦👰🚦👴⏫🐢🆑🚗👴💠🌱🍡🚦🔸🐢🚦💠✅👴⏫🆑🐢🌚👴❓👰💟⏫🐢🆑🍡✅👴❓🔸⏫🍡👰🚸❓🍡🐢🌚🆑🍡👧🔸👴🔮👴❓🔸👂🆑🚛🎱👴🏦👰❓👰⏫🔸🎱👴❓👰💠💠🍡🍡👴💠🚦🔐⏫🐢🆑🚦🚛👴🚸❓👰👖🍡💅🚗🆑🚛🎱👴🚦🐢🎱🆑🍡🌱🐢💠👧🍡🎱👴🔮🔐👂👰🔮👴👰🚦🌚🐢🌱🔸🗻🚦👴🚳🚦👰🚦👴🚸❓🔸👂⏫🆑🍡👧👴🚦🔸👧💟🐢👴💠👴🚸❓👰👖🐢💠💠🍡👰🆑🔸💅🚗🆑🚛🌚👴🚸❓🔸👂⏫🆑🍡👧👰🌚👴🚸👰👂⏫❓🔸🔮💅✅🗻🚦👴🔮💠🐢🎱👴❓🔸🎪👰🚦🆑🍡👧👰🔮👴💠👖🐢❓🚛👴💠🔮✅👂🍡👴🍡👴❓🔸⏫🍡👰🔮🐢🐏🔸🆑🍡✅'"
      ]
     },
     "metadata": {},
     "execution_count": 19
    }
   ],
   "source": [
    "encoded_text"
   ]
  },
  {
   "cell_type": "code",
   "execution_count": 20,
   "metadata": {},
   "outputs": [
    {
     "output_type": "display_data",
     "data": {
      "text/plain": "Beam search:   0%|          | 0/375 [00:00<?, ?it/s]",
      "application/vnd.jupyter.widget-view+json": {
       "version_major": 2,
       "version_minor": 0,
       "model_id": "ea2d2dfe12e54e7781fd6b6e3d43d95c"
      }
     },
     "metadata": {}
    }
   ],
   "source": [
    "decoding_proposals = decode_text(encoded_text, unigram_stat, n_gram, beam_search_width=1)"
   ]
  },
  {
   "cell_type": "code",
   "execution_count": 21,
   "metadata": {},
   "outputs": [
    {
     "output_type": "display_data",
     "data": {
      "text/plain": "<IPython.core.display.HTML object>",
      "text/html": "<table>\n<thead>\n<tr><th>Оригинальный текст                                                                                                                                                                                                                                                                                                                                                                      </th><th>Перевод                                                                                                                                                                                                                                                                                                                                                                                 </th></tr>\n</thead>\n<tbody>\n<tr><td>российский физик александр попов продемонстрировал новейший прибор предназначенный для показывания быстрых колебаний в атмосферном электричестве именно этот день считается днем рождения радиоприемника в разных городах россии студенты профильных технических вузов отмечают этот праздник также с профессиональным праздником поздравляют всех работников сферы связи и радиовещания</td><td>носсеыскеы бемек тяикставн додор дновиуоаслненортя аориыэеы днечон дниватматзиаапы вяь доктмпртаеь чпслнпг кояичтаеы р тлуосбинаоу жяиклнезислри еуиаао жлол виай сзелтилсь ваиу ношвиаеь нтвеоднеиуаект р нтмапг цоновтг носсее слхвиалп днобеяйапг лигаезискег рхмор олуизтюл жлол днтмваек лткши с днобиссеоатяйапу днтмваекоу домвнтряьюл рсиг нтчолаекор сбинп срьме е нтвеорищтаеь</td></tr>\n</tbody>\n</table>"
     },
     "metadata": {}
    }
   ],
   "source": [
    "display(HTML(tabulate([[original_processed, decoding_proposals[0].phrase]], headers=[\"Оригинальный текст\", \"Перевод\"], stralign=\"left\",  tablefmt='html')))"
   ]
  },
  {
   "cell_type": "markdown",
   "metadata": {},
   "source": [
    "# 2 Частотное декодирование на основе биграмм"
   ]
  },
  {
   "cell_type": "code",
   "execution_count": 22,
   "metadata": {},
   "outputs": [],
   "source": [
    "n_gram = 2\n",
    "source_freq = Counter()\n",
    "for name in texts:\n",
    "    source_freq.update(count_ngram(texts[name], n_gram=n_gram))"
   ]
  },
  {
   "cell_type": "code",
   "execution_count": 23,
   "metadata": {},
   "outputs": [],
   "source": [
    "bigram_stat = NGramStat(source_freq)"
   ]
  },
  {
   "cell_type": "code",
   "execution_count": 24,
   "metadata": {},
   "outputs": [
    {
     "output_type": "stream",
     "name": "stdout",
     "text": [
      "Encoded text length: 376\n"
     ]
    }
   ],
   "source": [
    "encoded_text, original_processed = encode_text(test_text, symmetric_key, n_gram=n_gram)"
   ]
  },
  {
   "cell_type": "code",
   "execution_count": 25,
   "metadata": {},
   "outputs": [
    {
     "output_type": "execute_result",
     "data": {
      "text/plain": [
       "'❓👰💠💠🍡📴💠👧🍡📴👴👖🍡👂🍡👧👴🔸💅🐢👧💠🔸🆑⏫❓👴🚸👰🚸👰🔮👴🚸❓👰⏫🐢🌚👰🆑💠🚦❓🍡❓👰🔮🔸💅👴🆑👰🔮🐢📴🍸🍡📴👴🚸❓🍡🎪👰❓👴🚸❓🐢⏫🆑🔸👂🆑🔸🌱🐢🆑🆑🚛📴👴⏫💅✅👴🚸👰👧🔸👂🚛🔮🔸🆑🍡✅👴🎪🚛💠🚦❓🚛🎱👴👧👰💅🐢🎪🔸🆑🍡📴👴🔮👴🔸🚦🌚👰💠👖🐢❓🆑👰🌚👴🚳💅🐢👧🚦❓🍡🌱🐢💠🚦🔮🐢👴🍡🌚🐢🆑🆑👰👴🚳🚦👰🚦👴⏫🐢🆑🚗👴💠🌱🍡🚦🔸🐢🚦💠✅👴⏫🆑🐢🌚👴❓👰💟⏫🐢🆑🍡✅👴❓🔸⏫🍡👰🚸❓🍡🐢🌚🆑🍡👧🔸👴🔮👴❓🔸👂🆑🚛🎱👴🏦👰❓👰⏫🔸🎱👴❓👰💠💠🍡🍡👴💠🚦🔐⏫🐢🆑🚦🚛👴🚸❓👰👖🍡💅🚗🆑🚛🎱👴🚦🐢🎱🆑🍡🌱🐢💠👧🍡🎱👴🔮🔐👂👰🔮👴👰🚦🌚🐢🌱🔸🗻🚦👴🚳🚦👰🚦👴🚸❓🔸👂⏫🆑🍡👧👴🚦🔸👧💟🐢👴💠👴🚸❓👰👖🐢💠💠🍡👰🆑🔸💅🚗🆑🚛🌚👴🚸❓🔸👂⏫🆑🍡👧👰🌚👴🚸👰👂⏫❓🔸🔮💅✅🗻🚦👴🔮💠🐢🎱👴❓🔸🎪👰🚦🆑🍡👧👰🔮👴💠👖🐢❓🚛👴💠🔮✅👂🍡👴🍡👴❓🔸⏫🍡👰🔮🐢🐏🔸🆑🍡✅'"
      ]
     },
     "metadata": {},
     "execution_count": 25
    }
   ],
   "source": [
    "encoded_text"
   ]
  },
  {
   "source": [
    "Т. к. при дешифровании на основе биграмм возникают неоднозначности для отдельных символов. Например, при дешифровании текста образуются биграммы: \\['аб', 'ке'\\]. Буквой на второй позиции может быть как 'б' так и 'к'. Для оценки наиболее правдоподобной последовательности использовался следующий подход.\n",
    "\n",
    "Строится направленный граф возможных вариантов разбора. Например, для текста:"
   ],
   "cell_type": "markdown",
   "metadata": {}
  },
  {
   "cell_type": "code",
   "execution_count": 26,
   "metadata": {},
   "outputs": [
    {
     "output_type": "stream",
     "name": "stdout",
     "text": [
      "Рос\n"
     ]
    }
   ],
   "source": [
    "demo_text = test_text[:3]\n",
    "print(demo_text)"
   ]
  },
  {
   "cell_type": "code",
   "execution_count": 27,
   "metadata": {},
   "outputs": [
    {
     "output_type": "stream",
     "name": "stdout",
     "text": [
      "Encoded text length: 3\n"
     ]
    }
   ],
   "source": [
    "demo_encoded, demo_processes = encode_text(demo_text, symmetric_key, n_gram=n_gram)\n",
    "decoded_ngrams = decode_ngrams(demo_encoded, bigram_stat, n_gram=n_gram)"
   ]
  },
  {
   "source": [
    "Граф будет таким:"
   ],
   "cell_type": "markdown",
   "metadata": {}
  },
  {
   "cell_type": "code",
   "execution_count": 28,
   "metadata": {},
   "outputs": [
    {
     "output_type": "display_data",
     "data": {
      "text/plain": "<Figure size 432x288 with 1 Axes>",
      "image/svg+xml": "<?xml version=\"1.0\" encoding=\"utf-8\" standalone=\"no\"?>\r\n<!DOCTYPE svg PUBLIC \"-//W3C//DTD SVG 1.1//EN\"\r\n  \"http://www.w3.org/Graphics/SVG/1.1/DTD/svg11.dtd\">\r\n<!-- Created with matplotlib (https://matplotlib.org/) -->\r\n<svg height=\"302.4pt\" version=\"1.1\" viewBox=\"0 0 446.4 302.4\" width=\"446.4pt\" xmlns=\"http://www.w3.org/2000/svg\" xmlns:xlink=\"http://www.w3.org/1999/xlink\">\r\n <metadata>\r\n  <rdf:RDF xmlns:cc=\"http://creativecommons.org/ns#\" xmlns:dc=\"http://purl.org/dc/elements/1.1/\" xmlns:rdf=\"http://www.w3.org/1999/02/22-rdf-syntax-ns#\">\r\n   <cc:Work>\r\n    <dc:type rdf:resource=\"http://purl.org/dc/dcmitype/StillImage\"/>\r\n    <dc:date>2021-05-08T19:20:52.177196</dc:date>\r\n    <dc:format>image/svg+xml</dc:format>\r\n    <dc:creator>\r\n     <cc:Agent>\r\n      <dc:title>Matplotlib v3.3.4, https://matplotlib.org/</dc:title>\r\n     </cc:Agent>\r\n    </dc:creator>\r\n   </cc:Work>\r\n  </rdf:RDF>\r\n </metadata>\r\n <defs>\r\n  <style type=\"text/css\">*{stroke-linecap:butt;stroke-linejoin:round;}</style>\r\n </defs>\r\n <g id=\"figure_1\">\r\n  <g id=\"patch_1\">\r\n   <path d=\"M 0 302.4 \r\nL 446.4 302.4 \r\nL 446.4 0 \r\nL 0 0 \r\nz\r\n\" style=\"fill:#ffffff;\"/>\r\n  </g>\r\n  <g id=\"axes_1\">\r\n   <g id=\"patch_2\">\r\n    <path clip-path=\"url(#p3d12857484)\" d=\"M 401.410046 150.796865 \r\nQ 357.083783 91.695185 313.42834 33.487932 \r\n\" style=\"fill:none;stroke:#000000;stroke-linecap:round;\"/>\r\n    <path clip-path=\"url(#p3d12857484)\" d=\"M 314.22834 37.887932 \r\nL 313.42834 33.487932 \r\nL 317.42834 35.487932 \r\nL 314.22834 37.887932 \r\nz\r\n\" style=\"stroke:#000000;stroke-linecap:round;\"/>\r\n   </g>\r\n   <g id=\"patch_3\">\r\n    <path clip-path=\"url(#p3d12857484)\" d=\"M 401.25887 150.998433 \r\nQ 267.831789 91.697514 135.42638 32.850672 \r\n\" style=\"fill:none;stroke:#000000;stroke-linecap:round;\"/>\r\n    <path clip-path=\"url(#p3d12857484)\" d=\"M 138.269349 36.302849 \r\nL 135.42638 32.850672 \r\nL 139.893903 32.647603 \r\nL 138.269349 36.302849 \r\nz\r\n\" style=\"stroke:#000000;stroke-linecap:round;\"/>\r\n   </g>\r\n   <g id=\"patch_4\">\r\n    <path clip-path=\"url(#p3d12857484)\" d=\"M 312.002667 32.393303 \r\nQ 178.575593 91.694232 46.170192 150.541084 \r\n\" style=\"fill:none;stroke:#000000;stroke-linecap:round;\"/>\r\n    <path clip-path=\"url(#p3d12857484)\" d=\"M 50.637715 150.744153 \r\nL 46.170192 150.541084 \r\nL 49.013161 147.088907 \r\nL 50.637715 150.744153 \r\nz\r\n\" style=\"stroke:#000000;stroke-linecap:round;\"/>\r\n   </g>\r\n   <g id=\"patch_5\">\r\n    <path clip-path=\"url(#p3d12857484)\" d=\"M 312.153842 32.59487 \r\nQ 223.199749 151.200341 134.916477 268.911385 \r\n\" style=\"fill:none;stroke:#000000;stroke-linecap:round;\"/>\r\n    <path clip-path=\"url(#p3d12857484)\" d=\"M 138.916477 266.911385 \r\nL 134.916477 268.911385 \r\nL 135.716477 264.511385 \r\nL 138.916477 266.911385 \r\nz\r\n\" style=\"stroke:#000000;stroke-linecap:round;\"/>\r\n   </g>\r\n   <g id=\"patch_6\">\r\n    <path clip-path=\"url(#p3d12857484)\" d=\"M 133.64144 32.594878 \r\nQ 89.315185 91.696561 45.65975 149.903816 \r\n\" style=\"fill:none;stroke:#000000;stroke-linecap:round;\"/>\r\n    <path clip-path=\"url(#p3d12857484)\" d=\"M 49.65975 147.903815 \r\nL 45.65975 149.903816 \r\nL 46.45975 145.503816 \r\nL 49.65975 147.903815 \r\nz\r\n\" style=\"stroke:#000000;stroke-linecap:round;\"/>\r\n   </g>\r\n   <g id=\"patch_7\">\r\n    <path clip-path=\"url(#p3d12857484)\" d=\"M 133.943791 32.689306 \r\nQ 133.943804 151.200524 133.943817 268.593708 \r\n\" style=\"fill:none;stroke:#000000;stroke-linecap:round;\"/>\r\n    <path clip-path=\"url(#p3d12857484)\" d=\"M 135.943817 264.593708 \r\nL 133.943817 268.593708 \r\nL 131.943817 264.593708 \r\nL 135.943817 264.593708 \r\nz\r\n\" style=\"stroke:#000000;stroke-linecap:round;\"/>\r\n   </g>\r\n   <g id=\"patch_8\">\r\n    <path clip-path=\"url(#p3d12857484)\" d=\"M 45.14113 151.401579 \r\nQ 178.568198 210.702496 310.973594 269.549336 \r\n\" style=\"fill:none;stroke:#000000;stroke-linecap:round;\"/>\r\n    <path clip-path=\"url(#p3d12857484)\" d=\"M 308.130625 266.097159 \r\nL 310.973594 269.549336 \r\nL 306.506071 269.752406 \r\nL 308.130625 266.097159 \r\nz\r\n\" style=\"stroke:#000000;stroke-linecap:round;\"/>\r\n   </g>\r\n   <g id=\"patch_9\">\r\n    <path clip-path=\"url(#p3d12857484)\" d=\"M 134.442288 270.208264 \r\nQ 223.19798 270.208264 310.835637 270.208264 \r\n\" style=\"fill:none;stroke:#000000;stroke-linecap:round;\"/>\r\n    <path clip-path=\"url(#p3d12857484)\" d=\"M 306.835637 268.208264 \r\nL 310.835637 270.208264 \r\nL 306.835637 272.208264 \r\nL 306.835637 268.208264 \r\nz\r\n\" style=\"stroke:#000000;stroke-linecap:round;\"/>\r\n   </g>\r\n   <g id=\"PathCollection_1\">\r\n    <defs>\r\n     <path d=\"M 0 0.5 \r\nC 0.132602 0.5 0.25979 0.447317 0.353553 0.353553 \r\nC 0.447317 0.25979 0.5 0.132602 0.5 0 \r\nC 0.5 -0.132602 0.447317 -0.25979 0.353553 -0.353553 \r\nC 0.25979 -0.447317 0.132602 -0.5 0 -0.5 \r\nC -0.132602 -0.5 -0.25979 -0.447317 -0.353553 -0.353553 \r\nC -0.447317 -0.25979 -0.5 -0.132602 -0.5 0 \r\nC -0.5 0.132602 -0.447317 0.25979 -0.353553 0.353553 \r\nC -0.25979 0.447317 -0.132602 0.5 0 0.5 \r\nz\r\n\" id=\"m7339cd3715\" style=\"stroke:#1f78b4;\"/>\r\n    </defs>\r\n    <g clip-path=\"url(#p3d12857484)\">\r\n     <use style=\"fill:#1f78b4;stroke:#1f78b4;\" x=\"401.712397\" xlink:href=\"#m7339cd3715\" y=\"151.2\"/>\r\n     <use style=\"fill:#1f78b4;stroke:#1f78b4;\" x=\"312.456193\" xlink:href=\"#m7339cd3715\" y=\"32.191736\"/>\r\n     <use style=\"fill:#1f78b4;stroke:#1f78b4;\" x=\"133.943791\" xlink:href=\"#m7339cd3715\" y=\"32.191744\"/>\r\n     <use style=\"fill:#1f78b4;stroke:#1f78b4;\" x=\"44.687603\" xlink:href=\"#m7339cd3715\" y=\"151.200012\"/>\r\n     <use style=\"fill:#1f78b4;stroke:#1f78b4;\" x=\"133.943818\" xlink:href=\"#m7339cd3715\" y=\"270.208264\"/>\r\n     <use style=\"fill:#1f78b4;stroke:#1f78b4;\" x=\"312.456182\" xlink:href=\"#m7339cd3715\" y=\"270.208264\"/>\r\n    </g>\r\n   </g>\r\n   <g id=\"text_1\">\r\n    <g clip-path=\"url(#p3d12857484)\">\r\n     <!-- (0, 'ё') -->\r\n     <g transform=\"translate(382.409272 154.51125)scale(0.12 -0.12)\">\r\n      <defs>\r\n       <path d=\"M 31 75.875 \r\nQ 24.46875 64.65625 21.28125 53.65625 \r\nQ 18.109375 42.671875 18.109375 31.390625 \r\nQ 18.109375 20.125 21.3125 9.0625 \r\nQ 24.515625 -2 31 -13.1875 \r\nL 23.1875 -13.1875 \r\nQ 15.875 -1.703125 12.234375 9.375 \r\nQ 8.59375 20.453125 8.59375 31.390625 \r\nQ 8.59375 42.28125 12.203125 53.3125 \r\nQ 15.828125 64.359375 23.1875 75.875 \r\nz\r\n\" id=\"DejaVuSans-40\"/>\r\n       <path d=\"M 31.78125 66.40625 \r\nQ 24.171875 66.40625 20.328125 58.90625 \r\nQ 16.5 51.421875 16.5 36.375 \r\nQ 16.5 21.390625 20.328125 13.890625 \r\nQ 24.171875 6.390625 31.78125 6.390625 \r\nQ 39.453125 6.390625 43.28125 13.890625 \r\nQ 47.125 21.390625 47.125 36.375 \r\nQ 47.125 51.421875 43.28125 58.90625 \r\nQ 39.453125 66.40625 31.78125 66.40625 \r\nz\r\nM 31.78125 74.21875 \r\nQ 44.046875 74.21875 50.515625 64.515625 \r\nQ 56.984375 54.828125 56.984375 36.375 \r\nQ 56.984375 17.96875 50.515625 8.265625 \r\nQ 44.046875 -1.421875 31.78125 -1.421875 \r\nQ 19.53125 -1.421875 13.0625 8.265625 \r\nQ 6.59375 17.96875 6.59375 36.375 \r\nQ 6.59375 54.828125 13.0625 64.515625 \r\nQ 19.53125 74.21875 31.78125 74.21875 \r\nz\r\n\" id=\"DejaVuSans-48\"/>\r\n       <path d=\"M 11.71875 12.40625 \r\nL 22.015625 12.40625 \r\nL 22.015625 4 \r\nL 14.015625 -11.625 \r\nL 7.71875 -11.625 \r\nL 11.71875 4 \r\nz\r\n\" id=\"DejaVuSans-44\"/>\r\n       <path id=\"DejaVuSans-32\"/>\r\n       <path d=\"M 17.921875 72.90625 \r\nL 17.921875 45.796875 \r\nL 9.625 45.796875 \r\nL 9.625 72.90625 \r\nz\r\n\" id=\"DejaVuSans-39\"/>\r\n       <path d=\"M 56.203125 29.59375 \r\nL 56.203125 25.203125 \r\nL 14.890625 25.203125 \r\nQ 15.484375 15.921875 20.484375 11.0625 \r\nQ 25.484375 6.203125 34.421875 6.203125 \r\nQ 39.59375 6.203125 44.453125 7.46875 \r\nQ 49.3125 8.734375 54.109375 11.28125 \r\nL 54.109375 2.78125 \r\nQ 49.265625 0.734375 44.1875 -0.34375 \r\nQ 39.109375 -1.421875 33.890625 -1.421875 \r\nQ 20.796875 -1.421875 13.15625 6.1875 \r\nQ 5.515625 13.8125 5.515625 26.8125 \r\nQ 5.515625 40.234375 12.765625 48.109375 \r\nQ 20.015625 56 32.328125 56 \r\nQ 43.359375 56 49.78125 48.890625 \r\nQ 56.203125 41.796875 56.203125 29.59375 \r\nz\r\nM 47.21875 32.234375 \r\nQ 47.125 39.59375 43.09375 43.984375 \r\nQ 39.0625 48.390625 32.421875 48.390625 \r\nQ 24.90625 48.390625 20.390625 44.140625 \r\nQ 15.875 39.890625 15.1875 32.171875 \r\nz\r\nM 36.921875 75.78125 \r\nL 46.828125 75.78125 \r\nL 46.828125 65.921875 \r\nL 36.921875 65.921875 \r\nz\r\nM 17.828125 75.78125 \r\nL 27.734375 75.78125 \r\nL 27.734375 65.921875 \r\nL 17.828125 65.921875 \r\nz\r\n\" id=\"DejaVuSans-1105\"/>\r\n       <path d=\"M 8.015625 75.875 \r\nL 15.828125 75.875 \r\nQ 23.140625 64.359375 26.78125 53.3125 \r\nQ 30.421875 42.28125 30.421875 31.390625 \r\nQ 30.421875 20.453125 26.78125 9.375 \r\nQ 23.140625 -1.703125 15.828125 -13.1875 \r\nL 8.015625 -13.1875 \r\nQ 14.5 -2 17.703125 9.0625 \r\nQ 20.90625 20.125 20.90625 31.390625 \r\nQ 20.90625 42.671875 17.703125 53.65625 \r\nQ 14.5 64.65625 8.015625 75.875 \r\nz\r\n\" id=\"DejaVuSans-41\"/>\r\n      </defs>\r\n      <use xlink:href=\"#DejaVuSans-40\"/>\r\n      <use x=\"39.013672\" xlink:href=\"#DejaVuSans-48\"/>\r\n      <use x=\"102.636719\" xlink:href=\"#DejaVuSans-44\"/>\r\n      <use x=\"134.423828\" xlink:href=\"#DejaVuSans-32\"/>\r\n      <use x=\"166.210938\" xlink:href=\"#DejaVuSans-39\"/>\r\n      <use x=\"193.701172\" xlink:href=\"#DejaVuSans-1105\"/>\r\n      <use x=\"255.224609\" xlink:href=\"#DejaVuSans-39\"/>\r\n      <use x=\"282.714844\" xlink:href=\"#DejaVuSans-41\"/>\r\n     </g>\r\n    </g>\r\n   </g>\r\n   <g id=\"text_2\">\r\n    <g clip-path=\"url(#p3d12857484)\">\r\n     <!-- (1, ' ') -->\r\n     <g transform=\"translate(294.938068 35.502986)scale(0.12 -0.12)\">\r\n      <defs>\r\n       <path d=\"M 12.40625 8.296875 \r\nL 28.515625 8.296875 \r\nL 28.515625 63.921875 \r\nL 10.984375 60.40625 \r\nL 10.984375 69.390625 \r\nL 28.421875 72.90625 \r\nL 38.28125 72.90625 \r\nL 38.28125 8.296875 \r\nL 54.390625 8.296875 \r\nL 54.390625 0 \r\nL 12.40625 0 \r\nz\r\n\" id=\"DejaVuSans-49\"/>\r\n      </defs>\r\n      <use xlink:href=\"#DejaVuSans-40\"/>\r\n      <use x=\"39.013672\" xlink:href=\"#DejaVuSans-49\"/>\r\n      <use x=\"102.636719\" xlink:href=\"#DejaVuSans-44\"/>\r\n      <use x=\"134.423828\" xlink:href=\"#DejaVuSans-32\"/>\r\n      <use x=\"166.210938\" xlink:href=\"#DejaVuSans-39\"/>\r\n      <use x=\"193.701172\" xlink:href=\"#DejaVuSans-32\"/>\r\n      <use x=\"225.488281\" xlink:href=\"#DejaVuSans-39\"/>\r\n      <use x=\"252.978516\" xlink:href=\"#DejaVuSans-41\"/>\r\n     </g>\r\n    </g>\r\n   </g>\r\n   <g id=\"text_3\">\r\n    <g clip-path=\"url(#p3d12857484)\">\r\n     <!-- (1, 'э') -->\r\n     <g transform=\"translate(115.039104 35.502994)scale(0.12 -0.12)\">\r\n      <defs>\r\n       <path d=\"M 5.515625 10.40625 \r\nQ 13.234375 6.203125 20.90625 6.203125 \r\nQ 28.078125 6.203125 33.203125 10.375 \r\nQ 38.328125 14.546875 39.265625 25.203125 \r\nL 11.53125 25.203125 \r\nL 11.53125 32.375 \r\nL 38.96875 32.375 \r\nQ 38.375 37.5 34.484375 42.9375 \r\nQ 30.609375 48.390625 20.90625 48.390625 \r\nQ 13.375 48.390625 5.515625 44.1875 \r\nL 5.515625 52.59375 \r\nQ 13.1875 56 21.296875 56 \r\nQ 34.078125 56 41.421875 48.265625 \r\nQ 48.78125 40.53125 48.78125 27.296875 \r\nQ 48.78125 14.109375 41.625 6.34375 \r\nQ 34.46875 -1.421875 21.921875 -1.421875 \r\nQ 12.703125 -1.421875 5.515625 2.09375 \r\nz\r\n\" id=\"DejaVuSans-1101\"/>\r\n      </defs>\r\n      <use xlink:href=\"#DejaVuSans-40\"/>\r\n      <use x=\"39.013672\" xlink:href=\"#DejaVuSans-49\"/>\r\n      <use x=\"102.636719\" xlink:href=\"#DejaVuSans-44\"/>\r\n      <use x=\"134.423828\" xlink:href=\"#DejaVuSans-32\"/>\r\n      <use x=\"166.210938\" xlink:href=\"#DejaVuSans-39\"/>\r\n      <use x=\"193.701172\" xlink:href=\"#DejaVuSans-1101\"/>\r\n      <use x=\"248.583984\" xlink:href=\"#DejaVuSans-39\"/>\r\n      <use x=\"276.074219\" xlink:href=\"#DejaVuSans-41\"/>\r\n     </g>\r\n    </g>\r\n   </g>\r\n   <g id=\"text_4\">\r\n    <g clip-path=\"url(#p3d12857484)\">\r\n     <!-- (2, 'т') -->\r\n     <g transform=\"translate(25.581353 154.511262)scale(0.12 -0.12)\">\r\n      <defs>\r\n       <path d=\"M 19.1875 8.296875 \r\nL 53.609375 8.296875 \r\nL 53.609375 0 \r\nL 7.328125 0 \r\nL 7.328125 8.296875 \r\nQ 12.9375 14.109375 22.625 23.890625 \r\nQ 32.328125 33.6875 34.8125 36.53125 \r\nQ 39.546875 41.84375 41.421875 45.53125 \r\nQ 43.3125 49.21875 43.3125 52.78125 \r\nQ 43.3125 58.59375 39.234375 62.25 \r\nQ 35.15625 65.921875 28.609375 65.921875 \r\nQ 23.96875 65.921875 18.8125 64.3125 \r\nQ 13.671875 62.703125 7.8125 59.421875 \r\nL 7.8125 69.390625 \r\nQ 13.765625 71.78125 18.9375 73 \r\nQ 24.125 74.21875 28.421875 74.21875 \r\nQ 39.75 74.21875 46.484375 68.546875 \r\nQ 53.21875 62.890625 53.21875 53.421875 \r\nQ 53.21875 48.921875 51.53125 44.890625 \r\nQ 49.859375 40.875 45.40625 35.40625 \r\nQ 44.1875 33.984375 37.640625 27.21875 \r\nQ 31.109375 20.453125 19.1875 8.296875 \r\nz\r\n\" id=\"DejaVuSans-50\"/>\r\n       <path d=\"M 2.9375 54.6875 \r\nL 55.328125 54.6875 \r\nL 55.328125 47.515625 \r\nL 33.546875 47.515625 \r\nL 33.546875 0 \r\nL 24.703125 0 \r\nL 24.703125 47.515625 \r\nL 2.9375 47.515625 \r\nz\r\n\" id=\"DejaVuSans-1090\"/>\r\n      </defs>\r\n      <use xlink:href=\"#DejaVuSans-40\"/>\r\n      <use x=\"39.013672\" xlink:href=\"#DejaVuSans-50\"/>\r\n      <use x=\"102.636719\" xlink:href=\"#DejaVuSans-44\"/>\r\n      <use x=\"134.423828\" xlink:href=\"#DejaVuSans-32\"/>\r\n      <use x=\"166.210938\" xlink:href=\"#DejaVuSans-39\"/>\r\n      <use x=\"193.701172\" xlink:href=\"#DejaVuSans-1090\"/>\r\n      <use x=\"251.953125\" xlink:href=\"#DejaVuSans-39\"/>\r\n      <use x=\"279.443359\" xlink:href=\"#DejaVuSans-41\"/>\r\n     </g>\r\n    </g>\r\n   </g>\r\n   <g id=\"text_5\">\r\n    <g clip-path=\"url(#p3d12857484)\">\r\n     <!-- (2, 'й') -->\r\n     <g transform=\"translate(114.433505 273.519514)scale(0.12 -0.12)\">\r\n      <defs>\r\n       <path d=\"M 55.90625 54.6875 \r\nL 55.90625 0 \r\nL 46.96875 0 \r\nL 46.96875 43.890625 \r\nL 20.609375 0 \r\nL 9.078125 0 \r\nL 9.078125 54.6875 \r\nL 18.015625 54.6875 \r\nL 18.015625 10.890625 \r\nL 44.34375 54.6875 \r\nz\r\nM 17.234375 75.96875 \r\nL 23 75.96875 \r\nQ 23.53125 72.3125 25.890625 70.46875 \r\nQ 28.265625 68.640625 32.515625 68.640625 \r\nQ 36.71875 68.640625 39.0625 70.453125 \r\nQ 41.40625 72.265625 42.046875 75.96875 \r\nL 47.796875 75.96875 \r\nQ 47.3125 68.984375 43.453125 65.46875 \r\nQ 39.59375 61.953125 32.515625 61.953125 \r\nQ 25.4375 61.953125 21.578125 65.46875 \r\nQ 17.71875 68.984375 17.234375 75.96875 \r\nz\r\n\" id=\"DejaVuSans-1081\"/>\r\n      </defs>\r\n      <use xlink:href=\"#DejaVuSans-40\"/>\r\n      <use x=\"39.013672\" xlink:href=\"#DejaVuSans-50\"/>\r\n      <use x=\"102.636719\" xlink:href=\"#DejaVuSans-44\"/>\r\n      <use x=\"134.423828\" xlink:href=\"#DejaVuSans-32\"/>\r\n      <use x=\"166.210938\" xlink:href=\"#DejaVuSans-39\"/>\r\n      <use x=\"193.701172\" xlink:href=\"#DejaVuSans-1081\"/>\r\n      <use x=\"258.691406\" xlink:href=\"#DejaVuSans-39\"/>\r\n      <use x=\"286.181641\" xlink:href=\"#DejaVuSans-41\"/>\r\n     </g>\r\n    </g>\r\n   </g>\r\n   <g id=\"text_6\">\r\n    <g clip-path=\"url(#p3d12857484)\">\r\n     <!-- (3, ' ') -->\r\n     <g transform=\"translate(294.938057 273.519514)scale(0.12 -0.12)\">\r\n      <defs>\r\n       <path d=\"M 40.578125 39.3125 \r\nQ 47.65625 37.796875 51.625 33 \r\nQ 55.609375 28.21875 55.609375 21.1875 \r\nQ 55.609375 10.40625 48.1875 4.484375 \r\nQ 40.765625 -1.421875 27.09375 -1.421875 \r\nQ 22.515625 -1.421875 17.65625 -0.515625 \r\nQ 12.796875 0.390625 7.625 2.203125 \r\nL 7.625 11.71875 \r\nQ 11.71875 9.328125 16.59375 8.109375 \r\nQ 21.484375 6.890625 26.8125 6.890625 \r\nQ 36.078125 6.890625 40.9375 10.546875 \r\nQ 45.796875 14.203125 45.796875 21.1875 \r\nQ 45.796875 27.640625 41.28125 31.265625 \r\nQ 36.765625 34.90625 28.71875 34.90625 \r\nL 20.21875 34.90625 \r\nL 20.21875 43.015625 \r\nL 29.109375 43.015625 \r\nQ 36.375 43.015625 40.234375 45.921875 \r\nQ 44.09375 48.828125 44.09375 54.296875 \r\nQ 44.09375 59.90625 40.109375 62.90625 \r\nQ 36.140625 65.921875 28.71875 65.921875 \r\nQ 24.65625 65.921875 20.015625 65.03125 \r\nQ 15.375 64.15625 9.8125 62.3125 \r\nL 9.8125 71.09375 \r\nQ 15.4375 72.65625 20.34375 73.4375 \r\nQ 25.25 74.21875 29.59375 74.21875 \r\nQ 40.828125 74.21875 47.359375 69.109375 \r\nQ 53.90625 64.015625 53.90625 55.328125 \r\nQ 53.90625 49.265625 50.4375 45.09375 \r\nQ 46.96875 40.921875 40.578125 39.3125 \r\nz\r\n\" id=\"DejaVuSans-51\"/>\r\n      </defs>\r\n      <use xlink:href=\"#DejaVuSans-40\"/>\r\n      <use x=\"39.013672\" xlink:href=\"#DejaVuSans-51\"/>\r\n      <use x=\"102.636719\" xlink:href=\"#DejaVuSans-44\"/>\r\n      <use x=\"134.423828\" xlink:href=\"#DejaVuSans-32\"/>\r\n      <use x=\"166.210938\" xlink:href=\"#DejaVuSans-39\"/>\r\n      <use x=\"193.701172\" xlink:href=\"#DejaVuSans-32\"/>\r\n      <use x=\"225.488281\" xlink:href=\"#DejaVuSans-39\"/>\r\n      <use x=\"252.978516\" xlink:href=\"#DejaVuSans-41\"/>\r\n     </g>\r\n    </g>\r\n   </g>\r\n  </g>\r\n </g>\r\n <defs>\r\n  <clipPath id=\"p3d12857484\">\r\n   <rect height=\"288\" width=\"432\" x=\"7.2\" y=\"7.2\"/>\r\n  </clipPath>\r\n </defs>\r\n</svg>\r\n",
      "image/png": "[encoded data removed]"
     },
     "metadata": {}
    }
   ],
   "source": [
    "nx.draw_circular(build_graph(decoded_ngrams), with_labels=True, node_size=1)"
   ]
  },
  {
   "source": [
    "На основе собранный статистике по n-граммам строится языковая модель. Она используется для оценки того насколько правдоподобен вариант дешифровки в beam search при обходе графа, начиная с первого символа. Одновременно отслеживаются заданное число наиболее вероятных гипотез дешифровки (beam_search_width - параметр алгоритма)."
   ],
   "cell_type": "markdown",
   "metadata": {}
  },
  {
   "cell_type": "code",
   "execution_count": 29,
   "metadata": {},
   "outputs": [
    {
     "output_type": "stream",
     "name": "stdout",
     "text": [
      "Encoded text length: 376\n"
     ]
    }
   ],
   "source": [
    "encoded_text, original_processed = encode_text(test_text, symmetric_key, n_gram=n_gram)"
   ]
  },
  {
   "cell_type": "code",
   "execution_count": 30,
   "metadata": {},
   "outputs": [
    {
     "output_type": "display_data",
     "data": {
      "text/plain": "Beam search:   0%|          | 0/1 [00:00<?, ?it/s]",
      "application/vnd.jupyter.widget-view+json": {
       "version_major": 2,
       "version_minor": 0,
       "model_id": "295153de1d824fb6abe0abc0b0e9290b"
      }
     },
     "metadata": {}
    }
   ],
   "source": [
    "decoding_proposals = decode_text(encoded_text, bigram_stat, n_gram, beam_search_width=20)"
   ]
  },
  {
   "cell_type": "code",
   "execution_count": 31,
   "metadata": {
    "tags": []
   },
   "outputs": [],
   "source": [
    "table_data = []\n",
    "for serach_res in decoding_proposals:\n",
    "    table_data.append([serach_res.log_likelihood, original_processed, serach_res.phrase])"
   ]
  },
  {
   "cell_type": "code",
   "execution_count": 32,
   "metadata": {},
   "outputs": [
    {
     "output_type": "display_data",
     "data": {
      "text/plain": "<IPython.core.display.HTML object>",
      "text/html": "<table>\n<thead>\n<tr><th>Логаримф правдоподобия (больше лучше)  </th><th>Оригинальный текст                                                                                                                                                                                                                                                                                                                                                                      </th><th>Перевод                                                                                                                                                                                                                                                                                                                                                                                 </th></tr>\n</thead>\n<tbody>\n<tr><td>-349.189                               </td><td>российский физик александр попов продемонстрировал новейший прибор предназначенный для показывания быстрых колебаний в атмосферном электричестве именно этот день считается днем рождения радиоприемника в разных городах россии студенты профильных технических вузов отмечают этот праздник также с профессиональным праздником поздравляют всех работников сферы связи и радиовещания</td><td>быщамечимекреррео и диылрираз дарабыканадабеордамионнаакё я госоькраота у цух аллиц фрра са муылглесмабетомо пйсылме ве ц кипошьшлтии фабох неъюитвоалатъетьцичакоеныхбазнщеи лехаыхкам щеа знз болем ва вхал аль этбыерь быщао неужкаалдегобузджетодоыйи х киби ви даоть оратлаъетьрае ы м доресеилергобускм удмижеенрае ы м е чту ы и ждрол о ыйхачутьм е цее ондесьра н на знда кылгл</td></tr>\n<tr><td>-349.201                               </td><td>российский физик александр попов продемонстрировал новейший прибор предназначенный для показывания быстрых колебаний в атмосферном электричестве именно этот день считается днем рождения радиоприемника в разных городах россии студенты профильных технических вузов отмечают этот праздник также с профессиональным праздником поздравляют всех работников сферы связи и радиовещания</td><td>быщамечимекреррео и диылрираз дарабыканадабеордамионнаакё я госоькраота у цух аллиц фрра са муылглесмабетомо пйсылме ве ц кипошьшлтии фабох неъюитвоалатъетьцичакоеныхбазнщеи лехаыхкам щеа знз болем ва вхал аль этбыерь быщао неужкаалдегобузджетодоыйи х чиби ви даоть оратлаъетьрае ы м доресеилергобускм удмижеенрае ы м е чту ы и ждрол о ыйхачутьм е цее ондесьра н на знда кылгл</td></tr>\n<tr><td>-349.205                               </td><td>российский физик александр попов продемонстрировал новейший прибор предназначенный для показывания быстрых колебаний в атмосферном электричестве именно этот день считается днем рождения радиоприемника в разных городах россии студенты профильных технических вузов отмечают этот праздник также с профессиональным праздником поздравляют всех работников сферы связи и радиовещания</td><td>быщамечимекреррео и диылрираз дарабыканадабеордамионнаакё я госоькраота у цух аллиц фрра са муылглесмабетомо пйсылме ве ц кипошьшлтии фабох неъюитвоалатъетьцичакоеныхбазнщеи лехаыхкам щеа знз болем ва вхал аль этбыерь быщао неужкаалдегобузджетодоыйи х киби ви даоть оратлаъетьрае ы м доресеилергобускм удмижеенрае ы м е чту ы и ждролао ыйхачутьм е цее ондесьра н на знда кылгл</td></tr>\n<tr><td>-349.217                               </td><td>российский физик александр попов продемонстрировал новейший прибор предназначенный для показывания быстрых колебаний в атмосферном электричестве именно этот день считается днем рождения радиоприемника в разных городах россии студенты профильных технических вузов отмечают этот праздник также с профессиональным праздником поздравляют всех работников сферы связи и радиовещания</td><td>быщамечимекреррео и диылрираз дарабыканадабеордамионнаакё я госоькраота у цух аллиц фрра са муылглесмабетомо пйсылме ве ц кипошьшлтии фабох неъюитвоалатъетьцичакоеныхбазнщеи лехаыхкам щеа знз болем ва вхал аль этбыерь быщао неужкаалдегобузджетодоыйи х чиби ви даоть оратлаъетьрае ы м доресеилергобускм удмижеенрае ы м е чту ы и ждролао ыйхачутьм е цее ондесьра н на знда кылгл</td></tr>\n<tr><td>-349.222                               </td><td>российский физик александр попов продемонстрировал новейший прибор предназначенный для показывания быстрых колебаний в атмосферном электричестве именно этот день считается днем рождения радиоприемника в разных городах россии студенты профильных технических вузов отмечают этот праздник также с профессиональным праздником поздравляют всех работников сферы связи и радиовещания</td><td>быщамечимекреррео и диылрираз дарабыканадабеордамионнаакё я госоькраота у цух аллиц фрра са муылглесмабетомо пйсылме ве ц кипошьшлтии фабох неъюитвоалатъетьцичакоеныхбазнщеи лехаыхкам щее знз болем ва вхал аль этбыерь быщао неужкаалдегобузджетодоыйи х киби ви даоть оратлаъетьрае ы м доресеилергобускм удмижеенрае ы м е чту ы и ждрол о ыйхачутьм е цее ондесьра н на знда кылгл</td></tr>\n<tr><td>-349.222                               </td><td>российский физик александр попов продемонстрировал новейший прибор предназначенный для показывания быстрых колебаний в атмосферном электричестве именно этот день считается днем рождения радиоприемника в разных городах россии студенты профильных технических вузов отмечают этот праздник также с профессиональным праздником поздравляют всех работников сферы связи и радиовещания</td><td>быщамечимекреррео и диылрираз дарабыканадабеордамионнаакё я госоькраоте у цух аллиц фрра са муылглесмабетомо пйсылме ве ц кипошьшлтии фабох неъюитвоалатъетьцичакоеныхбазнщеи лехаыхкам щеа знз болем ва вхал аль этбыерь быщао неужкаалдегобузджетодоыйи х киби ви даоть оратлаъетьрае ы м доресеилергобускм удмижеенрае ы м е чту ы и ждрол о ыйхачутьм е цее ондесьра н на знда кылгл</td></tr>\n<tr><td>-349.222                               </td><td>российский физик александр попов продемонстрировал новейший прибор предназначенный для показывания быстрых колебаний в атмосферном электричестве именно этот день считается днем рождения радиоприемника в разных городах россии студенты профильных технических вузов отмечают этот праздник также с профессиональным праздником поздравляют всех работников сферы связи и радиовещания</td><td>быщамечимекреррео и диылрираз дарабыканадабеордамионнаакё я госоькраота у цух аллиц фрра са муылглесмабетомо пйсылме ве ц кипошьшлтии фабох неъюитвоалатъетьцичакоеныхбазнщеи лехаыхкам щеа знз болем ва вхал аль этбыерь быщао неужкаалдегобузджетодоыйи х киби ви даоть оратлаъетьрае ы м доресеилергобускм удмижеенрае ы м е чту ы и ждрол о ыйхачутьм е цее ондесьра н не знда кылгл</td></tr>\n<tr><td>-349.223                               </td><td>российский физик александр попов продемонстрировал новейший прибор предназначенный для показывания быстрых колебаний в атмосферном электричестве именно этот день считается днем рождения радиоприемника в разных городах россии студенты профильных технических вузов отмечают этот праздник также с профессиональным праздником поздравляют всех работников сферы связи и радиовещания</td><td>быщамечимекреррео и диылрираз дарабыканадабеордамионнаакё я госоькраота у цух аллиц фрра са муылгльсмабетомо пйсылме ве ц кипошьшлтии фабох неъюитвоалатъетьцичакоеныхбазнщеи лехаыхкам щеа знз болем ва вхал аль этбыерь быщао неужкаалдегобузджетодоыйи х киби ви даоть оратлаъетьрае ы м доресеилергобускм удмижеенрае ы м е чту ы и ждрол о ыйхачутьм е цее ондесьра н на знда кылгл</td></tr>\n<tr><td>-349.231                               </td><td>российский физик александр попов продемонстрировал новейший прибор предназначенный для показывания быстрых колебаний в атмосферном электричестве именно этот день считается днем рождения радиоприемника в разных городах россии студенты профильных технических вузов отмечают этот праздник также с профессиональным праздником поздравляют всех работников сферы связи и радиовещания</td><td>быщамечимекреррео и диылрираз дарабыканадабеордамионнаакё я госоькраота у цух аллиц фрра са муылглесмабетомо пйсылме ве ц кипошьшлтии фабох неъюитвоалатъетьцичакоеныхбазнщеи лехатркам щеа знз болем ва вхал аль этбыерь быщао неужкаалдегобузджетодоыйи х киби ви даоть оратлаъетьрае ы м доресеилергобускм удмижеенрае ы м е чту ы и ждрол о ыйхачутьм е цее ондесьра н на знда кылгл</td></tr>\n<tr><td>-349.234                               </td><td>российский физик александр попов продемонстрировал новейший прибор предназначенный для показывания быстрых колебаний в атмосферном электричестве именно этот день считается днем рождения радиоприемника в разных городах россии студенты профильных технических вузов отмечают этот праздник также с профессиональным праздником поздравляют всех работников сферы связи и радиовещания</td><td>быщамечимекреррео и диылрираз дарабыканадабеордамионнаакё я госоькраота у цух аллиц фрра са муылглесмабетомо пйсылме ве ц кипошьшлтии фабох неъюитвоалатъетьцичакоеныхбазнщеи лехаыхкам щее знз болем ва вхал аль этбыерь быщао неужкаалдегобузджетодоыйи х чиби ви даоть оратлаъетьрае ы м доресеилергобускм удмижеенрае ы м е чту ы и ждрол о ыйхачутьм е цее ондесьра н на знда кылгл</td></tr>\n<tr><td>-350.749                               </td><td>российский физик александр попов продемонстрировал новейший прибор предназначенный для показывания быстрых колебаний в атмосферном электричестве именно этот день считается днем рождения радиоприемника в разных городах россии студенты профильных технических вузов отмечают этот праздник также с профессиональным праздником поздравляют всех работников сферы связи и радиовещания</td><td>быщамечимекреррео и диылрираз дарабыканадабеордамионнаакё я госоькраота у цух аллиц фрра са муылглесмабетомо пйсылме ве ц кипошьшлтии фабох неъюитвоалатъетьцичакоеныхбазнщеи лехаыхкам щеа знз болем ва вхал аль этбыерь быщао неужкаалдегобузджетодоыйи х киби ви даоть оратлаъетьрае ы м доресеилергобускм удмижеенрае ы м е чту ы и ждрол о ыйхачутьм е цее ондесьра н на знда кыл л</td></tr>\n<tr><td>-350.761                               </td><td>российский физик александр попов продемонстрировал новейший прибор предназначенный для показывания быстрых колебаний в атмосферном электричестве именно этот день считается днем рождения радиоприемника в разных городах россии студенты профильных технических вузов отмечают этот праздник также с профессиональным праздником поздравляют всех работников сферы связи и радиовещания</td><td>быщамечимекреррео и диылрираз дарабыканадабеордамионнаакё я госоькраота у цух аллиц фрра са муылглесмабетомо пйсылме ве ц кипошьшлтии фабох неъюитвоалатъетьцичакоеныхбазнщеи лехаыхкам щеа знз болем ва вхал аль этбыерь быщао неужкаалдегобузджетодоыйи х чиби ви даоть оратлаъетьрае ы м доресеилергобускм удмижеенрае ы м е чту ы и ждрол о ыйхачутьм е цее ондесьра н на знда кыл л</td></tr>\n<tr><td>-350.765                               </td><td>российский физик александр попов продемонстрировал новейший прибор предназначенный для показывания быстрых колебаний в атмосферном электричестве именно этот день считается днем рождения радиоприемника в разных городах россии студенты профильных технических вузов отмечают этот праздник также с профессиональным праздником поздравляют всех работников сферы связи и радиовещания</td><td>быщамечимекреррео и диылрираз дарабыканадабеордамионнаакё я госоькраота у цух аллиц фрра са муылглесмабетомо пйсылме ве ц кипошьшлтии фабох неъюитвоалатъетьцичакоеныхбазнщеи лехаыхкам щеа знз болем ва вхал аль этбыерь быщао неужкаалдегобузджетодоыйи х киби ви даоть оратлаъетьрае ы м доресеилергобускм удмижеенрае ы м е чту ы и ждролао ыйхачутьм е цее ондесьра н на знда кыл л</td></tr>\n<tr><td>-350.777                               </td><td>российский физик александр попов продемонстрировал новейший прибор предназначенный для показывания быстрых колебаний в атмосферном электричестве именно этот день считается днем рождения радиоприемника в разных городах россии студенты профильных технических вузов отмечают этот праздник также с профессиональным праздником поздравляют всех работников сферы связи и радиовещания</td><td>быщамечимекреррео и диылрираз дарабыканадабеордамионнаакё я госоькраота у цух аллиц фрра са муылглесмабетомо пйсылме ве ц кипошьшлтии фабох неъюитвоалатъетьцичакоеныхбазнщеи лехаыхкам щеа знз болем ва вхал аль этбыерь быщао неужкаалдегобузджетодоыйи х чиби ви даоть оратлаъетьрае ы м доресеилергобускм удмижеенрае ы м е чту ы и ждролао ыйхачутьм е цее ондесьра н на знда кыл л</td></tr>\n<tr><td>-350.782                               </td><td>российский физик александр попов продемонстрировал новейший прибор предназначенный для показывания быстрых колебаний в атмосферном электричестве именно этот день считается днем рождения радиоприемника в разных городах россии студенты профильных технических вузов отмечают этот праздник также с профессиональным праздником поздравляют всех работников сферы связи и радиовещания</td><td>быщамечимекреррео и диылрираз дарабыканадабеордамионнаакё я госоькраота у цух аллиц фрра са муылглесмабетомо пйсылме ве ц кипошьшлтии фабох неъюитвоалатъетьцичакоеныхбазнщеи лехаыхкам щее знз болем ва вхал аль этбыерь быщао неужкаалдегобузджетодоыйи х киби ви даоть оратлаъетьрае ы м доресеилергобускм удмижеенрае ы м е чту ы и ждрол о ыйхачутьм е цее ондесьра н на знда кыл л</td></tr>\n<tr><td>-350.782                               </td><td>российский физик александр попов продемонстрировал новейший прибор предназначенный для показывания быстрых колебаний в атмосферном электричестве именно этот день считается днем рождения радиоприемника в разных городах россии студенты профильных технических вузов отмечают этот праздник также с профессиональным праздником поздравляют всех работников сферы связи и радиовещания</td><td>быщамечимекреррео и диылрираз дарабыканадабеордамионнаакё я госоькраоте у цух аллиц фрра са муылглесмабетомо пйсылме ве ц кипошьшлтии фабох неъюитвоалатъетьцичакоеныхбазнщеи лехаыхкам щеа знз болем ва вхал аль этбыерь быщао неужкаалдегобузджетодоыйи х киби ви даоть оратлаъетьрае ы м доресеилергобускм удмижеенрае ы м е чту ы и ждрол о ыйхачутьм е цее ондесьра н на знда кыл л</td></tr>\n<tr><td>-350.782                               </td><td>российский физик александр попов продемонстрировал новейший прибор предназначенный для показывания быстрых колебаний в атмосферном электричестве именно этот день считается днем рождения радиоприемника в разных городах россии студенты профильных технических вузов отмечают этот праздник также с профессиональным праздником поздравляют всех работников сферы связи и радиовещания</td><td>быщамечимекреррео и диылрираз дарабыканадабеордамионнаакё я госоькраота у цух аллиц фрра са муылглесмабетомо пйсылме ве ц кипошьшлтии фабох неъюитвоалатъетьцичакоеныхбазнщеи лехаыхкам щеа знз болем ва вхал аль этбыерь быщао неужкаалдегобузджетодоыйи х киби ви даоть оратлаъетьрае ы м доресеилергобускм удмижеенрае ы м е чту ы и ждрол о ыйхачутьм е цее ондесьра н не знда кыл л</td></tr>\n<tr><td>-350.783                               </td><td>российский физик александр попов продемонстрировал новейший прибор предназначенный для показывания быстрых колебаний в атмосферном электричестве именно этот день считается днем рождения радиоприемника в разных городах россии студенты профильных технических вузов отмечают этот праздник также с профессиональным праздником поздравляют всех работников сферы связи и радиовещания</td><td>быщамечимекреррео и диылрираз дарабыканадабеордамионнаакё я госоькраота у цух аллиц фрра са муылгльсмабетомо пйсылме ве ц кипошьшлтии фабох неъюитвоалатъетьцичакоеныхбазнщеи лехаыхкам щеа знз болем ва вхал аль этбыерь быщао неужкаалдегобузджетодоыйи х киби ви даоть оратлаъетьрае ы м доресеилергобускм удмижеенрае ы м е чту ы и ждрол о ыйхачутьм е цее ондесьра н на знда кыл л</td></tr>\n<tr><td>-350.791                               </td><td>российский физик александр попов продемонстрировал новейший прибор предназначенный для показывания быстрых колебаний в атмосферном электричестве именно этот день считается днем рождения радиоприемника в разных городах россии студенты профильных технических вузов отмечают этот праздник также с профессиональным праздником поздравляют всех работников сферы связи и радиовещания</td><td>быщамечимекреррео и диылрираз дарабыканадабеордамионнаакё я госоькраота у цух аллиц фрра са муылглесмабетомо пйсылме ве ц кипошьшлтии фабох неъюитвоалатъетьцичакоеныхбазнщеи лехатркам щеа знз болем ва вхал аль этбыерь быщао неужкаалдегобузджетодоыйи х киби ви даоть оратлаъетьрае ы м доресеилергобускм удмижеенрае ы м е чту ы и ждрол о ыйхачутьм е цее ондесьра н на знда кыл л</td></tr>\n<tr><td>-350.794                               </td><td>российский физик александр попов продемонстрировал новейший прибор предназначенный для показывания быстрых колебаний в атмосферном электричестве именно этот день считается днем рождения радиоприемника в разных городах россии студенты профильных технических вузов отмечают этот праздник также с профессиональным праздником поздравляют всех работников сферы связи и радиовещания</td><td>быщамечимекреррео и диылрираз дарабыканадабеордамионнаакё я госоькраота у цух аллиц фрра са муылглесмабетомо пйсылме ве ц кипошьшлтии фабох неъюитвоалатъетьцичакоеныхбазнщеи лехаыхкам щее знз болем ва вхал аль этбыерь быщао неужкаалдегобузджетодоыйи х чиби ви даоть оратлаъетьрае ы м доресеилергобускм удмижеенрае ы м е чту ы и ждрол о ыйхачутьм е цее ондесьра н на знда кыл л</td></tr>\n</tbody>\n</table>"
     },
     "metadata": {}
    }
   ],
   "source": [
    "display(HTML(tabulate(table_data, headers=[\"Логаримф правдоподобия (больше лучше)\", \"Оригинальный текст\", \"Перевод\"], numalign=\"left\", tablefmt='html')))"
   ]
  },
  {
   "source": [
    "# 3 Декодирование с помощью MCMC"
   ],
   "cell_type": "markdown",
   "metadata": {}
  },
  {
   "source": [
    "Оригинальная идеи были взяты из следующих статей:\n",
    "\n",
    "\n",
    "Основная идея, которая была применена.\n",
    "\n",
    "Мы знаем заранее или предполагаем, что в зашифрованном тексте каждый символ шифрованного текста соответствует какому-то символу исходного текста. Формально нам нужно найти соответствие между символами алфавита в зашифрованном сообщении и исходном. Если предположить для начала, что каждый символы соответствуют другому в порядке сортировки т. е. сортируем символы алфавита и ставим соответствия на основе их позиции. Для того чтобы найти ключ дешифрования нам необходимо найти нужную перестановку символов исходного или зашифрованного алфавита при неизменных позициях символов противоположного алфавита.\n",
    "\n",
    "Таким образом, образуется пространство состояний с конечным множество состояний, состоящее из всевозможных перестановок символов алфавита длинной N. Чтобы найти шифр нужно найти \"оптимальное\" состояние.\n",
    "\n",
    "Для перехода между состояниями предлагается использовать алгоритм Метрополиса-Гастингса. Мы генерируем новое состояние (перестановку в нашем случае), оцениваем насколько она улучшает результат дешифрования и принимаем решение о принятии нового состояние.\n",
    "\n",
    "Для оценки того насколько \"оптимально\" новое состояние (перестановка $\\pi$) в статьях предлагается использовать следующий критерий:\n",
    "$$\n",
    "Q(\\pi) = \\prod_{i=1}^{L-n + 1} c(x_i, x_{i+1}, \\ldots, x_{i+n-1})^{c_{\\pi}(x_i, x_{i+1}, \\ldots, x_{i+n-1})},\n",
    "$$\n",
    "где $L \\in \\mathbb{N} -$ длина зашифрованного текста в символах, $n \\in \\mathbb{N}-$ это параметр модели для n-грамм (при $n=2$ получаем модель на основе биграмм), $c(\\cdot)-$ сколько раз последовательность $n-$грамм встречается в базовом корпусе текстов исходного алфавита после дешифрования текста с помощью перестановки $\\pi$, $ c_{\\pi}(\\cdot)$- сколько раз последовательность $n-$грамм встречается в тексте после его дешифрования с помощью перестановки $\\pi$.\n",
    "\n",
    "Базовый корпус это какой-то набор текстов на языке исходного алфавита, предназначенный для расчёта статистик $n-$ грамм и построения языковой модели.\n",
    "\n",
    "Для избежания проблем с численной неустойчивостью при расчётах имеет смысл перейти к $\\log Q(\\pi) $:\n",
    "$$\n",
    "\\log Q(\\pi) = \\sum_{i=1}^{L-n + 1} c_{\\pi}(x_i, x_{i+1}, \\ldots, x_{i+n-1}) \\cdot \\log c(x_i, x_{i+1}, \\ldots, x_{i+n-1})\n",
    "$$ \n",
    "\n",
    "Имея критерий оценки перестановок мы можем воспользоваться алгоритмом Метрополиса-Гастингса для генерации новой перестановки и вычисления вероятности её принятия в качестве нового состояния. \n",
    "\n",
    "Новые перестановки генерируются достаточно просто. Необходимо случайным образом поменять два элемента в текущей перестановке. Это сделано специально, чтобы перестановки не сильно отличались друг от друга в пространстве состояний и мы не совершали слишком больших переходов.\n",
    "\n",
    "Базовый алгоритм примерно следующий: \n",
    "\n",
    "1. Генерируем новую перестановку $\\pi^\\prime $ из $ \\pi $.\n",
    "2. Генерируем случайную величину $u$ с равномерным распределением на $[0;1]$.\n",
    "3. Считаем вероятность принятия новой перестановки. Если $ \\log u < p \\cdot \\left( \\log Q(\\pi^\\prime) - \\log Q(\\pi) \\right) $, то принимаем новую перестановку $\\pi^\\prime$, иначе остаёмся со старой перестановкой $\\pi$.\n",
    "\n",
    "Для нахождения нужной перестановки шаги 1-3 повторяются $ Iter \\in \\mathbb{N} $ раз. $p > 0-$ это параметр, который влияет на вероятность принятия новой перестановки. По умолчанию его можно сделать равным 1.\n",
    "\n",
    "Дополнительно в алгоритме используется следующая эвристика: после работы алгоритма перестановка с максимальным значением $Q(\\cdot)$ возвращается в качестве результата."
   ],
   "cell_type": "markdown",
   "metadata": {}
  },
  {
   "cell_type": "code",
   "execution_count": 33,
   "metadata": {},
   "outputs": [],
   "source": [
    "enc_mapping = symmetric_key.get_encode_mapping()"
   ]
  },
  {
   "cell_type": "code",
   "execution_count": 34,
   "metadata": {},
   "outputs": [],
   "source": [
    "encoded = \"\".join(map(lambda x: enc_mapping[x], original_processed))"
   ]
  },
  {
   "cell_type": "code",
   "execution_count": 35,
   "metadata": {},
   "outputs": [
    {
     "output_type": "execute_result",
     "data": {
      "text/plain": [
       "'российский физик александр попов продемонстрировал новейший прибор предназначенный для показывания быстрых колебаний в атмосферном электричестве именно этот день считается днем рождения радиоприемника в разных городах россии студенты профильных технических вузов отмечают этот праздник также с профессиональным праздником поздравляют всех работников сферы связи и радиовещания'"
      ]
     },
     "metadata": {},
     "execution_count": 35
    }
   ],
   "source": [
    "original_processed"
   ]
  },
  {
   "cell_type": "code",
   "execution_count": 36,
   "metadata": {},
   "outputs": [
    {
     "output_type": "execute_result",
     "data": {
      "text/plain": [
       "'❓👰💠💠🍡📴💠👧🍡📴👴👖🍡👂🍡👧👴🔸💅🐢👧💠🔸🆑⏫❓👴🚸👰🚸👰🔮👴🚸❓👰⏫🐢🌚👰🆑💠🚦❓🍡❓👰🔮🔸💅👴🆑👰🔮🐢📴🍸🍡📴👴🚸❓🍡🎪👰❓👴🚸❓🐢⏫🆑🔸👂🆑🔸🌱🐢🆑🆑🚛📴👴⏫💅✅👴🚸👰👧🔸👂🚛🔮🔸🆑🍡✅👴🎪🚛💠🚦❓🚛🎱👴👧👰💅🐢🎪🔸🆑🍡📴👴🔮👴🔸🚦🌚👰💠👖🐢❓🆑👰🌚👴🚳💅🐢👧🚦❓🍡🌱🐢💠🚦🔮🐢👴🍡🌚🐢🆑🆑👰👴🚳🚦👰🚦👴⏫🐢🆑🚗👴💠🌱🍡🚦🔸🐢🚦💠✅👴⏫🆑🐢🌚👴❓👰💟⏫🐢🆑🍡✅👴❓🔸⏫🍡👰🚸❓🍡🐢🌚🆑🍡👧🔸👴🔮👴❓🔸👂🆑🚛🎱👴🏦👰❓👰⏫🔸🎱👴❓👰💠💠🍡🍡👴💠🚦🔐⏫🐢🆑🚦🚛👴🚸❓👰👖🍡💅🚗🆑🚛🎱👴🚦🐢🎱🆑🍡🌱🐢💠👧🍡🎱👴🔮🔐👂👰🔮👴👰🚦🌚🐢🌱🔸🗻🚦👴🚳🚦👰🚦👴🚸❓🔸👂⏫🆑🍡👧👴🚦🔸👧💟🐢👴💠👴🚸❓👰👖🐢💠💠🍡👰🆑🔸💅🚗🆑🚛🌚👴🚸❓🔸👂⏫🆑🍡👧👰🌚👴🚸👰👂⏫❓🔸🔮💅✅🗻🚦👴🔮💠🐢🎱👴❓🔸🎪👰🚦🆑🍡👧👰🔮👴💠👖🐢❓🚛👴💠🔮✅👂🍡👴🍡👴❓🔸⏫🍡👰🔮🐢🐏🔸🆑🍡✅'"
      ]
     },
     "metadata": {},
     "execution_count": 36
    }
   ],
   "source": [
    "encoded"
   ]
  },
  {
   "cell_type": "code",
   "execution_count": 37,
   "metadata": {},
   "outputs": [
    {
     "output_type": "display_data",
     "data": {
      "text/plain": "  0%|          | 0/30000 [00:00<?, ?it/s]",
      "application/vnd.jupyter.widget-view+json": {
       "version_major": 2,
       "version_minor": 0,
       "model_id": "bd5ac015d4b94592b244d6fb42eb8632"
      }
     },
     "metadata": {}
    },
    {
     "output_type": "display_data",
     "data": {
      "text/plain": "  0%|          | 0/30000 [00:00<?, ?it/s]",
      "application/vnd.jupyter.widget-view+json": {
       "version_major": 2,
       "version_minor": 0,
       "model_id": "29bbf8fda6514f9f8d7cb54e7bddb857"
      }
     },
     "metadata": {}
    },
    {
     "output_type": "display_data",
     "data": {
      "text/plain": "  0%|          | 0/30000 [00:00<?, ?it/s]",
      "application/vnd.jupyter.widget-view+json": {
       "version_major": 2,
       "version_minor": 0,
       "model_id": "e48f1786905c47d7bd8376e082c10b19"
      }
     },
     "metadata": {}
    },
    {
     "output_type": "display_data",
     "data": {
      "text/plain": "  0%|          | 0/30000 [00:00<?, ?it/s]",
      "application/vnd.jupyter.widget-view+json": {
       "version_major": 2,
       "version_minor": 0,
       "model_id": "d1f65893f3bd496b8d57654168e60506"
      }
     },
     "metadata": {}
    },
    {
     "output_type": "display_data",
     "data": {
      "text/plain": "  0%|          | 0/30000 [00:00<?, ?it/s]",
      "application/vnd.jupyter.widget-view+json": {
       "version_major": 2,
       "version_minor": 0,
       "model_id": "cb8ccbe019534893b49cfd39cfb38533"
      }
     },
     "metadata": {}
    }
   ],
   "source": [
    "possible_decodings = []\n",
    "for i in range(5):\n",
    "    possible_decodings.append(mcmc_decryption(encoded, bigram_stat, symmetric_key.src_vocab(), symmetric_key.chiper_vocab(), 30_000, generator=RND_GENERATOR))"
   ]
  },
  {
   "cell_type": "code",
   "execution_count": 38,
   "metadata": {},
   "outputs": [],
   "source": [
    "possible_decodings.sort(key=lambda x: x.log_score, reverse=True)"
   ]
  },
  {
   "cell_type": "code",
   "execution_count": 39,
   "metadata": {},
   "outputs": [
    {
     "output_type": "display_data",
     "data": {
      "text/plain": "<IPython.core.display.HTML object>",
      "text/html": "<table>\n<thead>\n<tr><th>Логаримф оценки правдоподобности текста  </th><th>Перевод                                                                                                                                                                                                                                                                                                                                                                                 </th><th>Перестановка                                          </th></tr>\n</thead>\n<tbody>\n<tr><td>3318.81                                  </td><td>российский чизик александр попов продемонстрировал новейций прибор предназнашенный для показывания быстрых колебаний в атмосчерном электришестве именно этот день сшитается днем рождения радиоприемника в разных городах россии студенты прочильных технишеских вузов отмешают этот праздник также с прочессиональным праздником поздравляют всех работников счеры связи и радиовещания</td><td>&lt;utils.LetterPermutation object at 0x000001CA69C5E4F0&gt;</td></tr>\n<tr><td>3265.02                                  </td><td>нассийский чигик обексордн зазал знадеварстниналоб ралейций знипан знедрогрошерруй дбя закогулория пустнум кабепорий л отвасченрав эбектнишестле иверра этат деры сшитоется древ наждерия нодиазниеврико л ногрум фанадом нассии стьдерту значибырум темришеским льгал атвешоют этат зногдрик токже с значессиаробырув зногдрикав загднолбяют лсем нопатрикал счену сляги и нодиалехория</td><td>&lt;utils.LetterPermutation object at 0x000001CA69C34E20&gt;</td></tr>\n<tr><td>3262.59                                  </td><td>нассийслий чигил обелсордн зазав знадекарстнинавоб равейций знипан знедрогрошерруй дбя залогувория пустнум лабепорий в откасченрак эбелтнишестве икерра этат деры сшитоется дрек наждерия нодиазниекрило в ногрум фанадом нассии стьдерту значибырум темришеслим вьгав аткешоют этат зногдрил толже с значессиаробырук зногдрилак загдновбяют всем нопатрилав счену свяги и нодиавехория</td><td>&lt;utils.LetterPermutation object at 0x000001CA6A4015B0&gt;</td></tr>\n<tr><td>3129.99                                  </td><td>орссеюсмею шедем нятмсниво прпра порвтурискоеораня иратющею поегро потвиндинчтиилю вяй прмндланией глсколь мрятгниею а нкурсштоиру бятмкоечтскат еутиир бкрк втиж счекнтксй виту орывтией онверпоетуиемн а ондиль фрорвнь орссее скзвтикл поршеяжиль ктьиечтсмеь аздра ркутчнцк бкрк пондвием кнмыт с порштссериняжилу пондвиемру прдвонаяйцк асть онгркиемра сштол сайде е онвератхнией</td><td>&lt;utils.LetterPermutation object at 0x000001CA6A376820&gt;</td></tr>\n<tr><td>3027.14                                  </td><td>тессвьсзвьохвавзону зснидточечемочтед кеисртвтемнуоием ьцвьочтвшеточт динаиня иильодупочезналмнивпошлсртлгозеу шнивьомонркесх тиекобу зртвя срм овк ииеобрерод ижосяврн рсподи котейд ивпотндвечтв кивзномотнаилгощетеднготессввосрюд ирлочтехвужилгор гивя сзвгомюаемоерк яныробрерочтнадивзорнзй осочтех ссвеинужилкочтнадивзекочеадтнмупыромс готншеривземосх тлосмпавовотндвем энивп</td><td>&lt;utils.LetterPermutation object at 0x000001CA6A376700&gt;</td></tr>\n</tbody>\n</table>"
     },
     "metadata": {}
    }
   ],
   "source": [
    "headers = [\"Логаримф оценки правдоподобности текста\", \"Перевод\", \"Перестановка\"]\n",
    "display(HTML(tabulate(possible_decodings, headers=headers, numalign=\"left\", tablefmt='html')))"
   ]
  },
  {
   "source": [
    "# 4 Расшифровка тестового текста"
   ],
   "cell_type": "markdown",
   "metadata": {}
  },
  {
   "source": [
    "## 4.1 Расшифровка на основе биграмм"
   ],
   "cell_type": "markdown",
   "metadata": {}
  },
  {
   "cell_type": "code",
   "execution_count": 40,
   "metadata": {},
   "outputs": [],
   "source": [
    "input_text = \"←⇠⇒↟↹↷⇊↹↷↟↤↟↨←↹↝⇛⇯↳⇴⇒⇈↝⇊↾↹↟⇒↟↹⇷⇛⇞↨↟↹↝⇛⇯↳⇴⇒⇈↝⇊↾↹↨←⇌⇠↨↹⇙↹⇸↨⇛↙⇛↹⇠⇛⇛↲⇆←↝↟↞↹⇌⇛↨⇛⇯⇊↾↹⇒←↙⇌⇛↹⇷⇯⇛⇞↟↨⇴↨⇈↹⇠⇌⇛⇯←←↹↷⇠←↙⇛↹↷⇊↹↷⇠←↹⇠↤←⇒⇴⇒↟↹⇷⇯⇴↷↟⇒⇈↝⇛↹↟↹⇷⇛⇒⇙⇞↟↨←↹↳⇴⇌⇠↟↳⇴⇒⇈↝⇊↾↹↲⇴⇒⇒↹⇰⇴↹⇷⇛⇠⇒←↤↝←←↹⇞←↨↷←⇯↨⇛←↹⇰⇴↤⇴↝↟←↹⇌⇙⇯⇠⇴↹↘⇛↨↞↹⇌⇛↝←⇞↝⇛↹↞↹↝↟⇞←↙⇛↹↝←↹⇛↲←⇆⇴⇏\""
   ]
  },
  {
   "cell_type": "code",
   "execution_count": 41,
   "metadata": {},
   "outputs": [
    {
     "output_type": "execute_result",
     "data": {
      "text/plain": [
       "28"
      ]
     },
     "metadata": {},
     "execution_count": 41
    }
   ],
   "source": [
    "len(set(input_text))"
   ]
  },
  {
   "source": [
    "Попробуем расшифровать текст с предположением, что он на русском языке."
   ],
   "cell_type": "markdown",
   "metadata": {}
  },
  {
   "cell_type": "code",
   "execution_count": 42,
   "metadata": {},
   "outputs": [],
   "source": [
    "original_vocab = set(RUSSIAN_LETTERS)\n",
    "original_vocab.add(\" \")\n",
    "target_vocab = list(set(input_text))\n",
    "emojii_vocab = list(get_emoji_vocab())\n",
    "target_vocab += emodji_vocab[:len(original_vocab) - len(target_vocab)]\n",
    "del emojii_vocab\n",
    "\n",
    "symmetric_key = LetterPermutation(original_vocab, target_vocab)"
   ]
  },
  {
   "cell_type": "code",
   "execution_count": 43,
   "metadata": {},
   "outputs": [
    {
     "output_type": "stream",
     "name": "stdout",
     "text": [
      "[('↹', 34), ('←', 22), ('⇛', 22), ('↟', 15), ('⇒', 13), ('↝', 13), ('⇴', 13), ('↨', 12), ('⇠', 10), ('⇯', 8), ('↷', 7), ('⇌', 7), ('⇊', 6), ('⇞', 6), ('⇈', 5), ('⇷', 5), ('↤', 4), ('↳', 4), ('↾', 4), ('↙', 4), ('⇙', 3), ('↲', 3), ('↞', 3), ('⇆', 2), ('⇰', 2), ('⇸', 1), ('↘', 1), ('⇏', 1)]\n"
     ]
    }
   ],
   "source": [
    "print(Counter(input_text).most_common(), sep=\" \")"
   ]
  },
  {
   "cell_type": "code",
   "execution_count": 44,
   "metadata": {},
   "outputs": [
    {
     "output_type": "stream",
     "name": "stdout",
     "text": [
      "Scaling:  0.5 \n\n"
     ]
    },
    {
     "output_type": "display_data",
     "data": {
      "text/plain": "  0%|          | 0/30000 [00:00<?, ?it/s]",
      "application/vnd.jupyter.widget-view+json": {
       "version_major": 2,
       "version_minor": 0,
       "model_id": "bc904de89818420dbc82330b06db809a"
      }
     },
     "metadata": {}
    },
    {
     "output_type": "display_data",
     "data": {
      "text/plain": "  0%|          | 0/30000 [00:00<?, ?it/s]",
      "application/vnd.jupyter.widget-view+json": {
       "version_major": 2,
       "version_minor": 0,
       "model_id": "6f8990b375634d5d822944e37757ca36"
      }
     },
     "metadata": {}
    },
    {
     "output_type": "display_data",
     "data": {
      "text/plain": "  0%|          | 0/30000 [00:00<?, ?it/s]",
      "application/vnd.jupyter.widget-view+json": {
       "version_major": 2,
       "version_minor": 0,
       "model_id": "726a693f2a9e4e6e8ec6b67466460568"
      }
     },
     "metadata": {}
    },
    {
     "output_type": "display_data",
     "data": {
      "text/plain": "  0%|          | 0/30000 [00:00<?, ?it/s]",
      "application/vnd.jupyter.widget-view+json": {
       "version_major": 2,
       "version_minor": 0,
       "model_id": "029488a70809435dbce69fd4d76766f9"
      }
     },
     "metadata": {}
    },
    {
     "output_type": "display_data",
     "data": {
      "text/plain": "  0%|          | 0/30000 [00:00<?, ?it/s]",
      "application/vnd.jupyter.widget-view+json": {
       "version_major": 2,
       "version_minor": 0,
       "model_id": "e48712e1f8634825b0d5a955fbcd1bb5"
      }
     },
     "metadata": {}
    },
    {
     "output_type": "stream",
     "name": "stdout",
     "text": [
      "Scaling:  1 \n\n"
     ]
    },
    {
     "output_type": "display_data",
     "data": {
      "text/plain": "  0%|          | 0/30000 [00:00<?, ?it/s]",
      "application/vnd.jupyter.widget-view+json": {
       "version_major": 2,
       "version_minor": 0,
       "model_id": "899ba7d4b8b14a5b880582b070a2fb6c"
      }
     },
     "metadata": {}
    },
    {
     "output_type": "display_data",
     "data": {
      "text/plain": "  0%|          | 0/30000 [00:00<?, ?it/s]",
      "application/vnd.jupyter.widget-view+json": {
       "version_major": 2,
       "version_minor": 0,
       "model_id": "78ceeffe62564664bce926b7cb020b30"
      }
     },
     "metadata": {}
    },
    {
     "output_type": "display_data",
     "data": {
      "text/plain": "  0%|          | 0/30000 [00:00<?, ?it/s]",
      "application/vnd.jupyter.widget-view+json": {
       "version_major": 2,
       "version_minor": 0,
       "model_id": "ea998cf8cc074c39892b08714ffe3231"
      }
     },
     "metadata": {}
    },
    {
     "output_type": "display_data",
     "data": {
      "text/plain": "  0%|          | 0/30000 [00:00<?, ?it/s]",
      "application/vnd.jupyter.widget-view+json": {
       "version_major": 2,
       "version_minor": 0,
       "model_id": "5ed8eae5deb641319977da7fbb962831"
      }
     },
     "metadata": {}
    },
    {
     "output_type": "display_data",
     "data": {
      "text/plain": "  0%|          | 0/30000 [00:00<?, ?it/s]",
      "application/vnd.jupyter.widget-view+json": {
       "version_major": 2,
       "version_minor": 0,
       "model_id": "6b411e98d7364c40950333bd5aa4543a"
      }
     },
     "metadata": {}
    },
    {
     "output_type": "stream",
     "name": "stdout",
     "text": [
      "Scaling:  1.25 \n\n"
     ]
    },
    {
     "output_type": "display_data",
     "data": {
      "text/plain": "  0%|          | 0/30000 [00:00<?, ?it/s]",
      "application/vnd.jupyter.widget-view+json": {
       "version_major": 2,
       "version_minor": 0,
       "model_id": "77d6a603c84e4ab88e35df435a69f19a"
      }
     },
     "metadata": {}
    },
    {
     "output_type": "display_data",
     "data": {
      "text/plain": "  0%|          | 0/30000 [00:00<?, ?it/s]",
      "application/vnd.jupyter.widget-view+json": {
       "version_major": 2,
       "version_minor": 0,
       "model_id": "d28a7bae33454c3cb2faf1ef3939755f"
      }
     },
     "metadata": {}
    },
    {
     "output_type": "display_data",
     "data": {
      "text/plain": "  0%|          | 0/30000 [00:00<?, ?it/s]",
      "application/vnd.jupyter.widget-view+json": {
       "version_major": 2,
       "version_minor": 0,
       "model_id": "5e04f50b3348452587584d349efa00b8"
      }
     },
     "metadata": {}
    },
    {
     "output_type": "display_data",
     "data": {
      "text/plain": "  0%|          | 0/30000 [00:00<?, ?it/s]",
      "application/vnd.jupyter.widget-view+json": {
       "version_major": 2,
       "version_minor": 0,
       "model_id": "c2aab13fdf64420196184bd8f331c347"
      }
     },
     "metadata": {}
    },
    {
     "output_type": "display_data",
     "data": {
      "text/plain": "  0%|          | 0/30000 [00:00<?, ?it/s]",
      "application/vnd.jupyter.widget-view+json": {
       "version_major": 2,
       "version_minor": 0,
       "model_id": "72c3d412743140f88720cec5a67a04fd"
      }
     },
     "metadata": {}
    }
   ],
   "source": [
    "possible_decodings = []\n",
    "num_iters = 30_000\n",
    "num_exp = 5\n",
    "for scaling in [0.5, 1, 1.25]:\n",
    "    print(\"Scaling: \", scaling, \"\\n\")\n",
    "    for i in range(num_exp):\n",
    "        possible_decodings.append((scaling,) + mcmc_decryption(input_text, bigram_stat, symmetric_key.src_vocab(), symmetric_key.chiper_vocab(), num_iters = num_iters\n",
    ", scaling=scaling, generator=RND_GENERATOR))"
   ]
  },
  {
   "cell_type": "code",
   "execution_count": 45,
   "metadata": {},
   "outputs": [],
   "source": [
    "possible_decodings.sort(key=lambda x: x[1], reverse=True)"
   ]
  },
  {
   "cell_type": "code",
   "execution_count": 46,
   "metadata": {},
   "outputs": [
    {
     "output_type": "display_data",
     "data": {
      "text/plain": "<IPython.core.display.HTML object>",
      "text/html": "<table>\n<thead>\n<tr><th>Параметр масштабирования  </th><th>Логаримф оценки правдоподобности текста  </th><th>Перевод                                                                                                                                                                                                                               </th><th>Перестановка                                          </th></tr>\n</thead>\n<tbody>\n<tr><td>0.5                       </td><td>2116.44                                  </td><td>если вы вимите нордальный или почти нордальный текст у этого сообщения который легко прочитать скорее всего вы все смелали правильно и получите даксидальный балл за послемнее четвертое замание курса хотя конечно я ничего не обещаж</td><td>&lt;utils.LetterPermutation object at 0x000001CA6A3F7AC0&gt;</td></tr>\n<tr><td>1                         </td><td>2116.44                                  </td><td>если вы вимите нордальный или почти нордальный текст у этого сообщения который легко прочитать скорее всего вы все смелали правильно и получите даксидальный балл за послемнее четвертое замание курса хотя конечно я ничего не обещаж</td><td>&lt;utils.LetterPermutation object at 0x000001CA6A494220&gt;</td></tr>\n<tr><td>0.5                       </td><td>2115.08                                  </td><td>если вы вимите нордальный или почти нордальный текст у этого сообшения который легко прочитать скорее всего вы все смелали правильно и получите даксидальный балл за послемнее четвертое замание курса хотя конечно я ничего не обешаж</td><td>&lt;utils.LetterPermutation object at 0x000001CA69C533A0&gt;</td></tr>\n<tr><td>1.25                      </td><td>2092.77                                  </td><td>евли сь сичине торкалытью или помни торкалытью недвн у жного вообщетия донорью легдо проминаны вдорее свего сь све вчелали прасилыто и полумине кадвикалытью балл за повлечтее менсерное зачатие дурва хоня дотемто я тимего те обещаш</td><td>&lt;utils.LetterPermutation object at 0x000001CA6A41C850&gt;</td></tr>\n<tr><td>0.5                       </td><td>2092.56                                  </td><td>евли сь сичине торкалытью или помни торкалытью недвн у жного вообщетия донорью легдо проминаны вдорее свего сь све вчелали прасилыто и полумине кадвикалытью балл за повлечтее менсерное зачатие дурва хоня дотемто я тимего те обещай</td><td>&lt;utils.LetterPermutation object at 0x000001CA69C53AF0&gt;</td></tr>\n<tr><td>0.5                       </td><td>2090.74                                  </td><td>ерли пы пимите новзальный или содти новзальный текрт у этого рообщения котовый легко сводитать рковее прего пы пре рмелали свапильно и солудите закризальный балл ча сорлемнее детпевтое чамание кувра хотя конедно я нидего не обещаж</td><td>&lt;utils.LetterPermutation object at 0x000001CA69C53AC0&gt;</td></tr>\n<tr><td>0.5                       </td><td>2083.62                                  </td><td>ерни пь пимите лосканылью ини вочти лосканылью тедрт у этого рообщелия дотосью негдо всочитаты рдосее прего пь пре рменани всапиныло и вонучите кадриканылью банн за ворнемлее четпестое замалие дусра хотя долечло я личего ле обещаж</td><td>&lt;utils.LetterPermutation object at 0x000001CA6A390280&gt;</td></tr>\n<tr><td>1                         </td><td>2073.05                                  </td><td>евли ду дишине корчалькую или помни корчалькую нетвн с жного вообщекия тонорую легто проминань вторее двего ду две вшелали прадилько и полсмине чатвичалькую балл за повлешкее мендерное зашакие тсрва хоня токемко я кимего ке обещай</td><td>&lt;utils.LetterPermutation object at 0x000001CA6A42BA60&gt;</td></tr>\n<tr><td>1.25                      </td><td>2072                                     </td><td>ерни пл пишите восманывль ини кочти восманывль тедрт у этого рообщевия дотосль негдо ксочитаты рдосее прего пл пре ршенани ксапиныво и конучите мадриманывль банн за корнешвее четпестое зашавие дусра хотя довечво я вичего ве обещаж</td><td>&lt;utils.LetterPermutation object at 0x000001CA6A53DEB0&gt;</td></tr>\n<tr><td>1.25                      </td><td>2071.08                                  </td><td>отви сь сидино леркавылью иви пегни леркавылью ночтн у жнеме теебхолия ченерью вомче прегинаны тчероо стоме сь сто тдовави прасивыле и певугино качтикавылью бавв за петводлоо гонсорнео задалио чурта шеня челогле я лигоме ло ебохай</td><td>&lt;utils.LetterPermutation object at 0x000001CA6A538B20&gt;</td></tr>\n<tr><td>1.25                      </td><td>2070.08                                  </td><td>ерни пл пишите водчанывль ини гости водчанывль текрт у этомо рообщевия котодль немко гдоситаты ркодее премо пл пре ршенани гдапиныво и гонусите чакричанывль банн за горнешвее сетпедтое зашавие кудра хотя ковесво я висемо ве обещаж</td><td>&lt;utils.LetterPermutation object at 0x000001CA6A44EAF0&gt;</td></tr>\n<tr><td>1.25                      </td><td>2066.81                                  </td><td>ерни пь пигиве латконылью ини часви латконылью ведрв у хваза раамшелия даватью незда чтасивовы рдатее преза пь пре ргенони чтопиныла и чанусиве кодриконылью монн бо чарнеглее севпетвае боголие дутро жавя далесла я лисеза ле амешой</td><td>&lt;utils.LetterPermutation object at 0x000001CA6A4623A0&gt;</td></tr>\n<tr><td>1                         </td><td>1894.77                                  </td><td>сондегрегдюдлсетику натрыедндешиялдетику натрыелсмолебепливиеоиизьстджемиликрыенсвмиешкиядл лаеомикссегосвиегрегосеоюсн ндешк гднатиедешинбядлсеу моду натрыез нней ешионсютссеяслгсклисей ю тдсембко ечилжемитсятиежетдясвиетсеизсь э</td><td>&lt;utils.LetterPermutation object at 0x000001CA6A318AC0&gt;</td></tr>\n<tr><td>1                         </td><td>1879.64                                  </td><td>лосваявасьси внерутоднязвсосвпекисвнерутоднязви ыливгвшиебевлеемю нсхвыеиерязво быевпрекситидвлыер  вал беваявал вль отосвпртасодневсвпеогкси вутылсутоднязвмтоовчтвпело ьн  вк иа рие вчтьтнс выгрлтвщеихвыен кневхвнск бевн вем ютц </td><td>&lt;utils.LetterPermutation object at 0x000001CA6A42BDC0&gt;</td></tr>\n<tr><td>1                         </td><td>1878.99                                  </td><td>вадрумрудлдн роесятакомпрдадрьегндроесятакомпрн ивнрзржнебервеейч одыриенесмпра биерьсегднтнкрвиес  рув берумрув рвл атадрьстудакоердрьеазгдн рятивдятакомпрйтаарютрьева ло  рг ну сне рютлтод ризсвтршеныриео гоерыродг беро рей чтц </td><td>&lt;utils.LetterPermutation object at 0x000001CA6A4D0FD0&gt;</td></tr>\n</tbody>\n</table>"
     },
     "metadata": {}
    }
   ],
   "source": [
    "display(HTML(tabulate(possible_decodings, headers=[\"Параметр масштабирования\"] + headers, numalign=\"left\", tablefmt='html')))"
   ]
  },
  {
   "source": [
    "## 4.2 Расшифровка на основе триграмм "
   ],
   "cell_type": "markdown",
   "metadata": {}
  },
  {
   "cell_type": "code",
   "execution_count": 47,
   "metadata": {},
   "outputs": [],
   "source": [
    "n_gram = 3\n",
    "source_freq = Counter()\n",
    "for name in texts:\n",
    "    source_freq.update(count_ngram(texts[name], n_gram=n_gram))"
   ]
  },
  {
   "cell_type": "code",
   "execution_count": 48,
   "metadata": {},
   "outputs": [],
   "source": [
    "trigram_stat = NGramStat(source_freq)"
   ]
  },
  {
   "cell_type": "code",
   "execution_count": 49,
   "metadata": {},
   "outputs": [
    {
     "output_type": "stream",
     "name": "stdout",
     "text": [
      "Scaling:  0.25 \n\n"
     ]
    },
    {
     "output_type": "display_data",
     "data": {
      "text/plain": "  0%|          | 0/8000 [00:00<?, ?it/s]",
      "application/vnd.jupyter.widget-view+json": {
       "version_major": 2,
       "version_minor": 0,
       "model_id": "f1d8d178636a42a0b101326d47695fd4"
      }
     },
     "metadata": {}
    },
    {
     "output_type": "display_data",
     "data": {
      "text/plain": "  0%|          | 0/8000 [00:00<?, ?it/s]",
      "application/vnd.jupyter.widget-view+json": {
       "version_major": 2,
       "version_minor": 0,
       "model_id": "5d0dba440fb74ad8b94cd91155037fdd"
      }
     },
     "metadata": {}
    },
    {
     "output_type": "display_data",
     "data": {
      "text/plain": "  0%|          | 0/8000 [00:00<?, ?it/s]",
      "application/vnd.jupyter.widget-view+json": {
       "version_major": 2,
       "version_minor": 0,
       "model_id": "26c1047d55304985968f294dd4a69906"
      }
     },
     "metadata": {}
    },
    {
     "output_type": "display_data",
     "data": {
      "text/plain": "  0%|          | 0/8000 [00:00<?, ?it/s]",
      "application/vnd.jupyter.widget-view+json": {
       "version_major": 2,
       "version_minor": 0,
       "model_id": "c993c3f856634229a4e9001fe1da92ef"
      }
     },
     "metadata": {}
    },
    {
     "output_type": "display_data",
     "data": {
      "text/plain": "  0%|          | 0/8000 [00:00<?, ?it/s]",
      "application/vnd.jupyter.widget-view+json": {
       "version_major": 2,
       "version_minor": 0,
       "model_id": "ba9a326ea7144752b2984db194a57c3e"
      }
     },
     "metadata": {}
    },
    {
     "output_type": "stream",
     "name": "stdout",
     "text": [
      "Scaling:  1 \n\n"
     ]
    },
    {
     "output_type": "display_data",
     "data": {
      "text/plain": "  0%|          | 0/8000 [00:00<?, ?it/s]",
      "application/vnd.jupyter.widget-view+json": {
       "version_major": 2,
       "version_minor": 0,
       "model_id": "a6c3ea32ab9d420e9c7ade8aa96176bc"
      }
     },
     "metadata": {}
    },
    {
     "output_type": "display_data",
     "data": {
      "text/plain": "  0%|          | 0/8000 [00:00<?, ?it/s]",
      "application/vnd.jupyter.widget-view+json": {
       "version_major": 2,
       "version_minor": 0,
       "model_id": "a7577ee0edc14d2badd076030d85b5ad"
      }
     },
     "metadata": {}
    },
    {
     "output_type": "display_data",
     "data": {
      "text/plain": "  0%|          | 0/8000 [00:00<?, ?it/s]",
      "application/vnd.jupyter.widget-view+json": {
       "version_major": 2,
       "version_minor": 0,
       "model_id": "c991ddae886a44c49fbe6d29f8639461"
      }
     },
     "metadata": {}
    },
    {
     "output_type": "display_data",
     "data": {
      "text/plain": "  0%|          | 0/8000 [00:00<?, ?it/s]",
      "application/vnd.jupyter.widget-view+json": {
       "version_major": 2,
       "version_minor": 0,
       "model_id": "da7b323be8a34f5693452a71c349a60e"
      }
     },
     "metadata": {}
    },
    {
     "output_type": "display_data",
     "data": {
      "text/plain": "  0%|          | 0/8000 [00:00<?, ?it/s]",
      "application/vnd.jupyter.widget-view+json": {
       "version_major": 2,
       "version_minor": 0,
       "model_id": "5ff4a94123e0472c9a812025967bbba3"
      }
     },
     "metadata": {}
    },
    {
     "output_type": "stream",
     "name": "stdout",
     "text": [
      "Scaling:  10 \n\n"
     ]
    },
    {
     "output_type": "display_data",
     "data": {
      "text/plain": "  0%|          | 0/8000 [00:00<?, ?it/s]",
      "application/vnd.jupyter.widget-view+json": {
       "version_major": 2,
       "version_minor": 0,
       "model_id": "807da82cd5444bb2b3a96e2b27c45dad"
      }
     },
     "metadata": {}
    },
    {
     "output_type": "display_data",
     "data": {
      "text/plain": "  0%|          | 0/8000 [00:00<?, ?it/s]",
      "application/vnd.jupyter.widget-view+json": {
       "version_major": 2,
       "version_minor": 0,
       "model_id": "2eab2a26403a43fd830bf90ddbc5b35f"
      }
     },
     "metadata": {}
    },
    {
     "output_type": "display_data",
     "data": {
      "text/plain": "  0%|          | 0/8000 [00:00<?, ?it/s]",
      "application/vnd.jupyter.widget-view+json": {
       "version_major": 2,
       "version_minor": 0,
       "model_id": "e5a2d866288d487689a1dc14155dbdf2"
      }
     },
     "metadata": {}
    },
    {
     "output_type": "display_data",
     "data": {
      "text/plain": "  0%|          | 0/8000 [00:00<?, ?it/s]",
      "application/vnd.jupyter.widget-view+json": {
       "version_major": 2,
       "version_minor": 0,
       "model_id": "3ea9d66f838441d0900fac25f3f895c1"
      }
     },
     "metadata": {}
    },
    {
     "output_type": "display_data",
     "data": {
      "text/plain": "  0%|          | 0/8000 [00:00<?, ?it/s]",
      "application/vnd.jupyter.widget-view+json": {
       "version_major": 2,
       "version_minor": 0,
       "model_id": "155623f56dcd4f739271264ed26ddfb2"
      }
     },
     "metadata": {}
    },
    {
     "output_type": "stream",
     "name": "stdout",
     "text": [
      "Scaling:  100 \n\n"
     ]
    },
    {
     "output_type": "display_data",
     "data": {
      "text/plain": "  0%|          | 0/8000 [00:00<?, ?it/s]",
      "application/vnd.jupyter.widget-view+json": {
       "version_major": 2,
       "version_minor": 0,
       "model_id": "ea40a03029fc4a2894acff946574e4f2"
      }
     },
     "metadata": {}
    },
    {
     "output_type": "display_data",
     "data": {
      "text/plain": "  0%|          | 0/8000 [00:00<?, ?it/s]",
      "application/vnd.jupyter.widget-view+json": {
       "version_major": 2,
       "version_minor": 0,
       "model_id": "bac3fe111fc4455ca8ca8cbb5e6f3bd9"
      }
     },
     "metadata": {}
    },
    {
     "output_type": "display_data",
     "data": {
      "text/plain": "  0%|          | 0/8000 [00:00<?, ?it/s]",
      "application/vnd.jupyter.widget-view+json": {
       "version_major": 2,
       "version_minor": 0,
       "model_id": "efccf92ef4a34adfa4158f677ab9e123"
      }
     },
     "metadata": {}
    },
    {
     "output_type": "display_data",
     "data": {
      "text/plain": "  0%|          | 0/8000 [00:00<?, ?it/s]",
      "application/vnd.jupyter.widget-view+json": {
       "version_major": 2,
       "version_minor": 0,
       "model_id": "09e7c30e37a948f8b0b1255cabf04d15"
      }
     },
     "metadata": {}
    },
    {
     "output_type": "display_data",
     "data": {
      "text/plain": "  0%|          | 0/8000 [00:00<?, ?it/s]",
      "application/vnd.jupyter.widget-view+json": {
       "version_major": 2,
       "version_minor": 0,
       "model_id": "518fcd5c6d1f4c5d9cccb5377796f4da"
      }
     },
     "metadata": {}
    }
   ],
   "source": [
    "possible_decodings = []\n",
    "num_iters = 8_000\n",
    "num_exp = 5\n",
    "for scaling in [0.25, 1, 10, 100]:\n",
    "    print(\"Scaling: \", scaling, \"\\n\")\n",
    "    for i in range(num_exp):\n",
    "        possible_decodings.append((scaling,) + mcmc_decryption(input_text, trigram_stat, symmetric_key.src_vocab(), symmetric_key.chiper_vocab(), num_iters=num_iters, scaling=scaling, generator=RND_GENERATOR))"
   ]
  },
  {
   "cell_type": "code",
   "execution_count": 50,
   "metadata": {},
   "outputs": [],
   "source": [
    "possible_decodings.sort(key=lambda x: x[1], reverse=True)"
   ]
  },
  {
   "cell_type": "code",
   "execution_count": 51,
   "metadata": {},
   "outputs": [
    {
     "output_type": "display_data",
     "data": {
      "text/plain": "<IPython.core.display.HTML object>",
      "text/html": "<table>\n<thead>\n<tr><th>Параметр масштабирования  </th><th>Логаримф оценки правдоподобности текста  </th><th>Перевод                                                                                                                                                                                                                               </th><th>Перестановка                                          </th></tr>\n</thead>\n<tbody>\n<tr><td>10                        </td><td>1608.44                                  </td><td>если вы видите нормальный или почти нормальный текст у этого сообщения который легко прочитать скорее всего вы все сделали правильно и получите максимальный балл за последнее четвертое задание курса хотя конечно я ничего не обещаю</td><td>&lt;utils.LetterPermutation object at 0x000001CA6A498130&gt;</td></tr>\n<tr><td>1                         </td><td>1605.18                                  </td><td>если вы видите нормальный или почти нормальный текст у этого сообщения который легко прочитать скорее всего вы все сделали правильно и получите максимальный балл за последнее четвертое задание курса хотя конечно я ничего не обещаж</td><td>&lt;utils.LetterPermutation object at 0x000001CA6A41C160&gt;</td></tr>\n<tr><td>0.25                      </td><td>1602.5                                   </td><td>если вы видите норжальный или почти норжальный текст у этого сообщения который легко прочитать скорее всего вы все сделали правильно и получите жаксижальный балл за последнее четвертое задание курса мотя конечно я ничего не обещаю</td><td>&lt;utils.LetterPermutation object at 0x000001CA6A4831F0&gt;</td></tr>\n<tr><td>1                         </td><td>1602.5                                   </td><td>если вы видите норжальный или почти норжальный текст у этого сообщения который легко прочитать скорее всего вы все сделали правильно и получите жаксижальный балл за последнее четвертое задание курса мотя конечно я ничего не обещаю</td><td>&lt;utils.LetterPermutation object at 0x000001CA6A4CD370&gt;</td></tr>\n<tr><td>0.25                      </td><td>1600.81                                  </td><td>если вы видите норжальный или почти норжальный текст у этого сообщения который легко прочитать скорее всего вы все сделали правильно и получите жаксижальный балл за последнее четвертое задание курса хотя конечно я ничего не обещаю</td><td>&lt;utils.LetterPermutation object at 0x000001CA6A3E2CD0&gt;</td></tr>\n<tr><td>100                       </td><td>1574.08                                  </td><td>есла вы вадате нормильный ала пошта нормильный текст у чтого сообщеная который легко прошатить скорее всего вы все сделила привально а полушате миксамильный билл жи последнее шетвертое жидинае курси хотя конешно я нашего не обещиц</td><td>&lt;utils.LetterPermutation object at 0x000001CA6A483250&gt;</td></tr>\n<tr><td>1                         </td><td>1554.63                                  </td><td>если ву видите нормальную или почти нормальную текст ж этого сообщения которую легко прочитать скорее всего ву все сделали правильно и полжчите максимальную балл за последнее четвертое задание кжрса хотя конечно я ничего не обещай</td><td>&lt;utils.LetterPermutation object at 0x000001CA6A456580&gt;</td></tr>\n<tr><td>100                       </td><td>1489.18                                  </td><td>если вы видите нархольный или пачти нархольный текст у этаза саамбения катарый лезка прачитоть скарее всеза вы все сделоли провильна и палучите хоксихольный молл го паследнее четвертае годоние курсо жатя канечна я ничеза не амебою</td><td>&lt;utils.LetterPermutation object at 0x000001CA6A44E490&gt;</td></tr>\n<tr><td>0.25                      </td><td>1395.83                                  </td><td>идна зь зачали торженятью ана повла торженятью лигдл у шлосо дообщитак голорью нисго провалеля дгории здисо зь зди дчинена презанято а понували жегдаженятью бенн ме подничтии вилзирлои мечетаи гурде холк готивто к тависо ти обищеы</td><td>&lt;utils.LetterPermutation object at 0x000001CA6A3E2D00&gt;</td></tr>\n<tr><td>10                        </td><td>1394.17                                  </td><td>енси му мибите лоржасклую иси подти лоржасклую тевнт ы этого ноочшелия воторую сегво продитатк нворее мнего му мне нбесаси прамискло и посыдите жавнижасклую часс за понсеблее детмертое забалие вырна хотя воледло я лидего ле очешай</td><td>&lt;utils.LetterPermutation object at 0x000001CA6A4CDE50&gt;</td></tr>\n<tr><td>100                       </td><td>1363.43                                  </td><td>енси мы митиле роджаспрый иси вобли роджаспрый лекнл у элого ноочшерия колодый сегко вдобилалп нкодее мнего мы мне нтесаси вдамиспро и восубиле жакнижаспрый часс за вонсетрее белмедлое затарие кудна холя коребро я рибего ре очешаю</td><td>&lt;utils.LetterPermutation object at 0x000001CA6A44E5B0&gt;</td></tr>\n<tr><td>10                        </td><td>1358.85                                  </td><td>ерси пь пимиле натвосынью иси чашли натвосынью лекрл у хлада раазбения калатью седка чташилолы ркатее преда пь пре рмесоси чтописына и часушиле вокривосынью зосс го чарсемнее шелпетлае гомоние кутро жаля канешна я нишеда не азебой</td><td>&lt;utils.LetterPermutation object at 0x000001CA6A4CDD00&gt;</td></tr>\n<tr><td>100                       </td><td>1310.35                                  </td><td>ерми пд пишите навкомундь ими засти навкомундь тебрт ы этала раахжения батавдь мелба зваситоту рбавее прела пд пре ршемоми звопимуна и замысите кобрикомундь хомм го зармешнее сетпевтае гошоние бывро чатя банесна я нисела не ахежой</td><td>&lt;utils.LetterPermutation object at 0x000001CA6A4CD820&gt;</td></tr>\n<tr><td>0.25                      </td><td>1288.39                                  </td><td>ирно кс козоли ветманувся оно чебло ветманувся лидрл ь элеже реегшивою делется нижде чтеболалу рдетии криже кс кри рзинано чтаконуве о ченьболи мадроманувся ганн па чернизвии билкитлеи пазавои дьтра целю девибве ю вобиже ви егишай</td><td>&lt;utils.LetterPermutation object at 0x000001CA6A41C6A0&gt;</td></tr>\n<tr><td>100                       </td><td>1260.67                                  </td><td>икло сь соготи денбалудья оло мерто денбалудья тишкт п этече кеехщидов шетенья личше мнеротату кшении скиче сь ски кгилало мнасолуде о мелпроти башкобалудья халл за меклигдии ритсинтеи загадои шпнка жетв шедирде в дориче ди ехищай</td><td>&lt;utils.LetterPermutation object at 0x000001CA6A444F70&gt;</td></tr>\n<tr><td>1                         </td><td>1143.15                                  </td><td>инаткутказал твобщенявуютанатьодлатвобщенявуютл рилтытйлопотиоомж вастролобуютн протьбодалелятироб  тки поткутки тиз ненатьбеканявотатьоныдал тщериащенявуютменнтчетьоин зв  тд лк бло тчезева трыбиетголстров двотствад потв том жеш </td><td>&lt;utils.LetterPermutation object at 0x000001CA6A462A30&gt;</td></tr>\n<tr><td>1                         </td><td>1112.52                                  </td><td>нкодившивдчдание спрожешлидодий задие спрожешлианткаиьица у ик  бынедмит а сшлионут ийс здаражикт сннивкну ившивкникчнородийсрвдоже идий оьзданипрткдпрожешлиброоигрий конченнизнавнса нигрчреднитьскрия амит ензе имиедзну иени бнырэ</td><td>&lt;utils.LetterPermutation object at 0x000001CA6A53DE20&gt;</td></tr>\n<tr><td>10                        </td><td>1105.16                                  </td><td>вист пл птзтав онужесколь тст мнрат онужесколь авдиа ю ганын иннчшвотя днануль свыдн мунртаеак иднувв пивын пл пив извсест муептскон т мнсюртав жедитжесколь чесс бе мнисвзовв рвапвуанв безеотв дюуие эная дноврон я отрвын ов нчвшей</td><td>&lt;utils.LetterPermutation object at 0x000001CA69C436A0&gt;</td></tr>\n<tr><td>0.25                      </td><td>1041.53                                  </td><td>стройшойряре одниматьдшкортрожнуеродниматьдшкое всеопочензноснных дрговненишкот звножинуреаеьосвни  ойс знойшойс ося татрожиайртьднорожнтпуре омавсрматьдшкоыаттобаожнст яд  оу ей иен обаяадр овписаолнеговнд удногодру знод оны хаю </td><td>&lt;utils.LetterPermutation object at 0x000001CA6A498310&gt;</td></tr>\n<tr><td>10                        </td><td>991.152                                  </td><td>ыстандантмтв аеругоследшатстакривтаеругоследшав бывачайврпраыррья етзабрврудшас пбракуритвовлаыбру  аны пранданы аым состакуонтслератакрсчитв агобытгоследшаьоссахоакрыс ме  аи вн увр ахомоет абчуыоафрвзабре иеразаети прае арь яоъ </td><td>&lt;utils.LetterPermutation object at 0x000001CA6A2FBD30&gt;</td></tr>\n</tbody>\n</table>"
     },
     "metadata": {}
    }
   ],
   "source": [
    "display(HTML(tabulate(possible_decodings, headers=[\"Параметр масштабирования\"] + headers, numalign=\"left\", tablefmt='html')))"
   ]
  },
  {
   "source": [
    "# 5 Бонус Сравнение разных параметров"
   ],
   "cell_type": "markdown",
   "metadata": {}
  },
  {
   "source": [
    "Все метрики были получены с помощью скрипта `metrics.py`. Разные куски корпуса `AnnaKarenina.txt` выступали в качестве теста. Корпус `WarAndPeace.txt` использовался для расчёта статистик.\r\n",
    "\r\n",
    "В качестве метрики `accuracy` выступала доля правильных совпадений между символами алфавита после расшифровки."
   ],
   "cell_type": "markdown",
   "metadata": {}
  },
  {
   "cell_type": "code",
   "execution_count": 108,
   "metadata": {},
   "outputs": [],
   "source": [
    "metric_path = pathlib.Path(\"data\", \"metrics.csv.gz\")"
   ]
  },
  {
   "cell_type": "code",
   "execution_count": 109,
   "metadata": {},
   "outputs": [],
   "source": [
    "metric_data = pd.read_csv(metric_path)"
   ]
  },
  {
   "cell_type": "code",
   "execution_count": 110,
   "metadata": {},
   "outputs": [
    {
     "output_type": "stream",
     "name": "stdout",
     "text": [
      "<class 'pandas.core.frame.DataFrame'>\nRangeIndex: 1350 entries, 0 to 1349\nData columns (total 7 columns):\n #   Column       Non-Null Count  Dtype  \n---  ------       --------------  -----  \n 0   exp_id       1350 non-null   int64  \n 1   num_run      1350 non-null   int64  \n 2   n_gram       1350 non-null   int64  \n 3   num_iter     1350 non-null   int64  \n 4   scaling      1350 non-null   float64\n 5   text_length  1350 non-null   int64  \n 6   accuracy     1350 non-null   float64\ndtypes: float64(2), int64(5)\nmemory usage: 74.0 KB\n"
     ]
    }
   ],
   "source": [
    "metric_data.info()"
   ]
  },
  {
   "cell_type": "code",
   "execution_count": 111,
   "metadata": {},
   "outputs": [
    {
     "output_type": "execute_result",
     "data": {
      "text/plain": [
       "   exp_id  num_run  n_gram  num_iter  scaling  text_length  accuracy\n",
       "0       0        0       2      2000      0.5         2168  0.823529\n",
       "1       0        1       2      2000      0.5         2168  0.411765\n",
       "2       0        2       2      2000      0.5         2168  0.558824\n",
       "3       0        3       2      2000      0.5         2168  0.088235\n",
       "4       0        4       2      2000      0.5         2168  0.176471"
      ],
      "text/html": "<div>\n<style scoped>\n    .dataframe tbody tr th:only-of-type {\n        vertical-align: middle;\n    }\n\n    .dataframe tbody tr th {\n        vertical-align: top;\n    }\n\n    .dataframe thead th {\n        text-align: right;\n    }\n</style>\n<table border=\"1\" class=\"dataframe\">\n  <thead>\n    <tr style=\"text-align: right;\">\n      <th></th>\n      <th>exp_id</th>\n      <th>num_run</th>\n      <th>n_gram</th>\n      <th>num_iter</th>\n      <th>scaling</th>\n      <th>text_length</th>\n      <th>accuracy</th>\n    </tr>\n  </thead>\n  <tbody>\n    <tr>\n      <th>0</th>\n      <td>0</td>\n      <td>0</td>\n      <td>2</td>\n      <td>2000</td>\n      <td>0.5</td>\n      <td>2168</td>\n      <td>0.823529</td>\n    </tr>\n    <tr>\n      <th>1</th>\n      <td>0</td>\n      <td>1</td>\n      <td>2</td>\n      <td>2000</td>\n      <td>0.5</td>\n      <td>2168</td>\n      <td>0.411765</td>\n    </tr>\n    <tr>\n      <th>2</th>\n      <td>0</td>\n      <td>2</td>\n      <td>2</td>\n      <td>2000</td>\n      <td>0.5</td>\n      <td>2168</td>\n      <td>0.558824</td>\n    </tr>\n    <tr>\n      <th>3</th>\n      <td>0</td>\n      <td>3</td>\n      <td>2</td>\n      <td>2000</td>\n      <td>0.5</td>\n      <td>2168</td>\n      <td>0.088235</td>\n    </tr>\n    <tr>\n      <th>4</th>\n      <td>0</td>\n      <td>4</td>\n      <td>2</td>\n      <td>2000</td>\n      <td>0.5</td>\n      <td>2168</td>\n      <td>0.176471</td>\n    </tr>\n  </tbody>\n</table>\n</div>"
     },
     "metadata": {},
     "execution_count": 111
    }
   ],
   "source": [
    "metric_data.head()"
   ]
  },
  {
   "source": [
    "При расшифровке тестового текста наилучшим образом показали себя триграммы. В целом по метрикам триграммы показывают наилучшие результаты. На практике имеет смысл выбирать между биграммами и триграммами.  Большее число n-грамм уже даёт результаты похуже."
   ],
   "cell_type": "markdown",
   "metadata": {}
  },
  {
   "cell_type": "code",
   "execution_count": 119,
   "metadata": {},
   "outputs": [
    {
     "output_type": "display_data",
     "data": {
      "application/vnd.plotly.v1+json": {
       "config": {
        "plotlyServerURL": "https://plot.ly"
       },
       "data": [
        {
         "alignmentgroup": "True",
         "bingroup": "x",
         "hovertemplate": "n_gram=2<br>accuracy=%{x}<br>count=%{y}<extra></extra>",
         "legendgroup": "2",
         "marker": {
          "color": "#636efa"
         },
         "name": "2",
         "offsetgroup": "2",
         "orientation": "v",
         "showlegend": true,
         "type": "histogram",
         "x": [
          0.8235294117647058,
          0.4117647058823529,
          0.5588235294117647,
          0.088235294117647,
          0.1764705882352941,
          0.6764705882352942,
          0.6764705882352942,
          0.7352941176470589,
          0.088235294117647,
          0.1470588235294117,
          0.7058823529411765,
          0.6470588235294118,
          0.1764705882352941,
          0.1176470588235294,
          0.1176470588235294,
          1,
          0.1176470588235294,
          1,
          0.8529411764705882,
          0.1764705882352941,
          1,
          0.0588235294117647,
          0.7352941176470589,
          0.2647058823529412,
          0.1470588235294117,
          0.9411764705882352,
          0.088235294117647,
          1,
          0.9411764705882352,
          0.1470588235294117,
          1,
          1,
          0.1764705882352941,
          0.1470588235294117,
          0.088235294117647,
          1,
          0.7647058823529411,
          0.1470588235294117,
          0.1764705882352941,
          0.2058823529411764,
          0.1470588235294117,
          1,
          0.9411764705882352,
          0.2647058823529412,
          0.1176470588235294,
          0.0588235294117647,
          0.6470588235294118,
          0.3529411764705882,
          0.5,
          0.1176470588235294,
          0.6470588235294118,
          0.6176470588235294,
          0.6176470588235294,
          0.088235294117647,
          0.2352941176470588,
          0.6176470588235294,
          0.9411764705882352,
          0.4705882352941176,
          0.1764705882352941,
          0.2058823529411764,
          0.0294117647058823,
          1,
          0.1176470588235294,
          0.1176470588235294,
          0.088235294117647,
          1,
          0.1176470588235294,
          0.088235294117647,
          0.0294117647058823,
          0.6470588235294118,
          1,
          0.9411764705882352,
          0.9117647058823528,
          1,
          0.6764705882352942,
          0.1176470588235294,
          0.1470588235294117,
          0.0588235294117647,
          0.1176470588235294,
          0.2352941176470588,
          1,
          0.088235294117647,
          0.9411764705882352,
          0.0294117647058823,
          0.9117647058823528,
          0.1470588235294117,
          0.8823529411764706,
          0.088235294117647,
          0.0294117647058823,
          0.7058823529411765,
          0.0588235294117647,
          0.1764705882352941,
          0.0588235294117647,
          0.088235294117647,
          0.088235294117647,
          0.0588235294117647,
          0.0588235294117647,
          0.1176470588235294,
          0.088235294117647,
          0.1176470588235294,
          0,
          0.0588235294117647,
          0.088235294117647,
          0.0294117647058823,
          0.1470588235294117,
          0.0588235294117647,
          0.088235294117647,
          0.088235294117647,
          0,
          0.0588235294117647,
          0.0588235294117647,
          0,
          0,
          0,
          0.1176470588235294,
          0.0294117647058823,
          0.0588235294117647,
          0.0588235294117647,
          0.2058823529411764,
          0.1176470588235294,
          0.088235294117647,
          0.088235294117647,
          0.0588235294117647,
          0.0588235294117647,
          0.1176470588235294,
          0.0294117647058823,
          0.0294117647058823,
          0.1176470588235294,
          0.1470588235294117,
          0,
          0,
          0.2058823529411764,
          0.0294117647058823,
          0.088235294117647,
          0.0588235294117647,
          0.1764705882352941,
          0.5,
          0.3823529411764705,
          0.1470588235294117,
          0.6176470588235294,
          0.3235294117647059,
          0.4705882352941176,
          0.3823529411764705,
          0.088235294117647,
          0.6470588235294118,
          0.4705882352941176,
          0.5294117647058824,
          0.2941176470588235,
          0.2647058823529412,
          0.6470588235294118,
          0.7647058823529411,
          0.9411764705882352,
          1,
          0.0588235294117647,
          0.9411764705882352,
          0.8823529411764706,
          0.5588235294117647,
          0.9411764705882352,
          0.8529411764705882,
          0.7941176470588235,
          0.9117647058823528,
          0.7941176470588235,
          1,
          0.1176470588235294,
          0.5294117647058824,
          1,
          1,
          0.9411764705882352,
          0.0588235294117647,
          1,
          1,
          1,
          0.9411764705882352,
          0.088235294117647,
          0.1764705882352941,
          0.1176470588235294,
          0.2352941176470588,
          0.0588235294117647,
          0.1176470588235294,
          0.6176470588235294,
          0.0588235294117647,
          0.088235294117647,
          0.2058823529411764,
          0.7352941176470589,
          0.088235294117647,
          0.1176470588235294,
          0.0294117647058823,
          0.2058823529411764,
          0.5882352941176471,
          0.088235294117647,
          0.1176470588235294,
          0.1176470588235294,
          0.2941176470588235,
          0.6470588235294118,
          0.088235294117647,
          0.0588235294117647,
          0.0588235294117647,
          0.1470588235294117,
          0.088235294117647,
          0.088235294117647,
          0.0588235294117647,
          0.0588235294117647,
          0.1764705882352941,
          0.0588235294117647,
          0.088235294117647,
          0.2352941176470588,
          0.0588235294117647,
          0.088235294117647,
          0.0294117647058823,
          0.0588235294117647,
          0.0294117647058823,
          0.1470588235294117,
          0.088235294117647,
          0.088235294117647,
          0.9117647058823528,
          0.088235294117647,
          0.1176470588235294,
          0.0588235294117647,
          0.0588235294117647,
          0.4705882352941176,
          0.9117647058823528,
          0.088235294117647,
          0.9117647058823528,
          0.0294117647058823,
          0.7941176470588235,
          0.6764705882352942,
          0.5588235294117647,
          0.7941176470588235,
          0.8235294117647058,
          0.1764705882352941,
          0.5,
          0.7941176470588235,
          0.6764705882352942,
          0.9117647058823528,
          0.2352941176470588,
          0.2058823529411764,
          0.8823529411764706,
          0.4411764705882353,
          0.7941176470588235,
          0.1470588235294117,
          1,
          0.2058823529411764,
          0.1176470588235294,
          1,
          0.1176470588235294,
          1,
          0.1764705882352941,
          0.1470588235294117,
          1,
          0.0294117647058823,
          0.2058823529411764,
          1,
          0.1470588235294117,
          1,
          0.1176470588235294,
          1,
          0.1470588235294117,
          0.1176470588235294,
          0.1470588235294117,
          1,
          1,
          0.1764705882352941,
          0.0294117647058823,
          0.3235294117647059,
          1,
          0.1764705882352941,
          1,
          1,
          0.2941176470588235,
          1,
          0.1176470588235294,
          0.1176470588235294,
          0.088235294117647,
          0.0588235294117647,
          0.3235294117647059,
          0.3235294117647059,
          0.2058823529411764,
          0,
          0.1470588235294117,
          0.5,
          0.0588235294117647,
          0.1176470588235294,
          0.4117647058823529,
          0.1176470588235294,
          0.3529411764705882,
          0.1176470588235294,
          0.0294117647058823,
          0.5,
          0.0588235294117647,
          0.088235294117647,
          0.5588235294117647,
          0.0588235294117647,
          0.5588235294117647,
          0.2352941176470588,
          0.0588235294117647,
          0.0588235294117647,
          0.0588235294117647,
          0.3235294117647059,
          0.1470588235294117,
          0.0588235294117647,
          0.0588235294117647,
          0.5294117647058824,
          0.0294117647058823,
          0.1176470588235294,
          0.4705882352941176,
          0.5,
          0.4705882352941176,
          0.088235294117647,
          0.088235294117647,
          0.1764705882352941,
          0.1176470588235294,
          0.2941176470588235,
          0.3823529411764705,
          0,
          0.1470588235294117,
          0.3529411764705882,
          0.5588235294117647,
          0.7941176470588235,
          0.2941176470588235,
          0.3529411764705882,
          0.7058823529411765,
          0.5588235294117647,
          0.7352941176470589,
          0.8529411764705882,
          0.1470588235294117,
          0.6764705882352942,
          0.6176470588235294,
          0.7352941176470589,
          0.4411764705882353,
          0.1176470588235294,
          0.5294117647058824,
          0.1470588235294117,
          0.6470588235294118,
          0.5294117647058824,
          0.2941176470588235,
          0.8823529411764706,
          0.0588235294117647,
          0.7941176470588235,
          0.4705882352941176,
          0.2058823529411764,
          1,
          0.0294117647058823,
          0.6470588235294118,
          0.2058823529411764,
          0.1470588235294117,
          0.5,
          0.6470588235294118,
          0.1764705882352941,
          0.088235294117647,
          0.9411764705882352,
          0.9411764705882352,
          0.7941176470588235,
          0.1764705882352941,
          0.0588235294117647,
          0.9117647058823528,
          0.1176470588235294,
          0.9411764705882352,
          0.9411764705882352,
          0.1764705882352941,
          0.9117647058823528,
          0.3235294117647059,
          0.3529411764705882,
          0.6764705882352942,
          0.6176470588235294,
          0.3235294117647059,
          0.5294117647058824,
          0.2941176470588235,
          0.2647058823529412,
          0.4705882352941176,
          0.1764705882352941,
          0.088235294117647,
          0.2058823529411764,
          0.5588235294117647,
          0.3823529411764705,
          0.4705882352941176,
          0.7941176470588235,
          0.0588235294117647,
          0.1470588235294117,
          0.4411764705882353,
          0.5588235294117647,
          0.6470588235294118,
          0,
          0.1470588235294117,
          0.0588235294117647,
          0.0294117647058823,
          0.0294117647058823,
          0.1176470588235294,
          0.088235294117647,
          0.0294117647058823,
          0.1176470588235294,
          0.7352941176470589,
          0.1470588235294117,
          0.8235294117647058,
          0.1470588235294117,
          0.8529411764705882,
          0.8529411764705882,
          0.2058823529411764,
          0.0294117647058823,
          0.088235294117647,
          0.7941176470588235,
          0,
          0.5882352941176471,
          0.5,
          0.1764705882352941,
          0.2058823529411764,
          0.7647058823529411,
          0.8235294117647058,
          0.3823529411764705,
          0.3235294117647059,
          0.1470588235294117,
          0.7941176470588235,
          0.7058823529411765,
          0.5294117647058824,
          0.2941176470588235,
          0.2941176470588235,
          0.9411764705882352,
          0.7058823529411765,
          0.2941176470588235,
          0.2058823529411764,
          0.2058823529411764,
          1,
          0.088235294117647,
          0.3235294117647059,
          1,
          0.1764705882352941,
          1,
          0.1176470588235294,
          1,
          0.1176470588235294,
          0.2058823529411764,
          1,
          0.1176470588235294,
          1,
          0.1470588235294117,
          0.2941176470588235,
          1,
          0.3529411764705882,
          0.3823529411764705,
          0.2941176470588235,
          1,
          1,
          1,
          0.2058823529411764,
          0.2647058823529412,
          1,
          1,
          1,
          1,
          0.0588235294117647,
          1
         ],
         "xaxis": "x",
         "yaxis": "y"
        },
        {
         "alignmentgroup": "True",
         "hovertemplate": "n_gram=2<br>accuracy=%{x}<extra></extra>",
         "legendgroup": "2",
         "marker": {
          "color": "#636efa"
         },
         "name": "2",
         "notched": true,
         "offsetgroup": "2",
         "showlegend": false,
         "type": "box",
         "x": [
          0.8235294117647058,
          0.4117647058823529,
          0.5588235294117647,
          0.088235294117647,
          0.1764705882352941,
          0.6764705882352942,
          0.6764705882352942,
          0.7352941176470589,
          0.088235294117647,
          0.1470588235294117,
          0.7058823529411765,
          0.6470588235294118,
          0.1764705882352941,
          0.1176470588235294,
          0.1176470588235294,
          1,
          0.1176470588235294,
          1,
          0.8529411764705882,
          0.1764705882352941,
          1,
          0.0588235294117647,
          0.7352941176470589,
          0.2647058823529412,
          0.1470588235294117,
          0.9411764705882352,
          0.088235294117647,
          1,
          0.9411764705882352,
          0.1470588235294117,
          1,
          1,
          0.1764705882352941,
          0.1470588235294117,
          0.088235294117647,
          1,
          0.7647058823529411,
          0.1470588235294117,
          0.1764705882352941,
          0.2058823529411764,
          0.1470588235294117,
          1,
          0.9411764705882352,
          0.2647058823529412,
          0.1176470588235294,
          0.0588235294117647,
          0.6470588235294118,
          0.3529411764705882,
          0.5,
          0.1176470588235294,
          0.6470588235294118,
          0.6176470588235294,
          0.6176470588235294,
          0.088235294117647,
          0.2352941176470588,
          0.6176470588235294,
          0.9411764705882352,
          0.4705882352941176,
          0.1764705882352941,
          0.2058823529411764,
          0.0294117647058823,
          1,
          0.1176470588235294,
          0.1176470588235294,
          0.088235294117647,
          1,
          0.1176470588235294,
          0.088235294117647,
          0.0294117647058823,
          0.6470588235294118,
          1,
          0.9411764705882352,
          0.9117647058823528,
          1,
          0.6764705882352942,
          0.1176470588235294,
          0.1470588235294117,
          0.0588235294117647,
          0.1176470588235294,
          0.2352941176470588,
          1,
          0.088235294117647,
          0.9411764705882352,
          0.0294117647058823,
          0.9117647058823528,
          0.1470588235294117,
          0.8823529411764706,
          0.088235294117647,
          0.0294117647058823,
          0.7058823529411765,
          0.0588235294117647,
          0.1764705882352941,
          0.0588235294117647,
          0.088235294117647,
          0.088235294117647,
          0.0588235294117647,
          0.0588235294117647,
          0.1176470588235294,
          0.088235294117647,
          0.1176470588235294,
          0,
          0.0588235294117647,
          0.088235294117647,
          0.0294117647058823,
          0.1470588235294117,
          0.0588235294117647,
          0.088235294117647,
          0.088235294117647,
          0,
          0.0588235294117647,
          0.0588235294117647,
          0,
          0,
          0,
          0.1176470588235294,
          0.0294117647058823,
          0.0588235294117647,
          0.0588235294117647,
          0.2058823529411764,
          0.1176470588235294,
          0.088235294117647,
          0.088235294117647,
          0.0588235294117647,
          0.0588235294117647,
          0.1176470588235294,
          0.0294117647058823,
          0.0294117647058823,
          0.1176470588235294,
          0.1470588235294117,
          0,
          0,
          0.2058823529411764,
          0.0294117647058823,
          0.088235294117647,
          0.0588235294117647,
          0.1764705882352941,
          0.5,
          0.3823529411764705,
          0.1470588235294117,
          0.6176470588235294,
          0.3235294117647059,
          0.4705882352941176,
          0.3823529411764705,
          0.088235294117647,
          0.6470588235294118,
          0.4705882352941176,
          0.5294117647058824,
          0.2941176470588235,
          0.2647058823529412,
          0.6470588235294118,
          0.7647058823529411,
          0.9411764705882352,
          1,
          0.0588235294117647,
          0.9411764705882352,
          0.8823529411764706,
          0.5588235294117647,
          0.9411764705882352,
          0.8529411764705882,
          0.7941176470588235,
          0.9117647058823528,
          0.7941176470588235,
          1,
          0.1176470588235294,
          0.5294117647058824,
          1,
          1,
          0.9411764705882352,
          0.0588235294117647,
          1,
          1,
          1,
          0.9411764705882352,
          0.088235294117647,
          0.1764705882352941,
          0.1176470588235294,
          0.2352941176470588,
          0.0588235294117647,
          0.1176470588235294,
          0.6176470588235294,
          0.0588235294117647,
          0.088235294117647,
          0.2058823529411764,
          0.7352941176470589,
          0.088235294117647,
          0.1176470588235294,
          0.0294117647058823,
          0.2058823529411764,
          0.5882352941176471,
          0.088235294117647,
          0.1176470588235294,
          0.1176470588235294,
          0.2941176470588235,
          0.6470588235294118,
          0.088235294117647,
          0.0588235294117647,
          0.0588235294117647,
          0.1470588235294117,
          0.088235294117647,
          0.088235294117647,
          0.0588235294117647,
          0.0588235294117647,
          0.1764705882352941,
          0.0588235294117647,
          0.088235294117647,
          0.2352941176470588,
          0.0588235294117647,
          0.088235294117647,
          0.0294117647058823,
          0.0588235294117647,
          0.0294117647058823,
          0.1470588235294117,
          0.088235294117647,
          0.088235294117647,
          0.9117647058823528,
          0.088235294117647,
          0.1176470588235294,
          0.0588235294117647,
          0.0588235294117647,
          0.4705882352941176,
          0.9117647058823528,
          0.088235294117647,
          0.9117647058823528,
          0.0294117647058823,
          0.7941176470588235,
          0.6764705882352942,
          0.5588235294117647,
          0.7941176470588235,
          0.8235294117647058,
          0.1764705882352941,
          0.5,
          0.7941176470588235,
          0.6764705882352942,
          0.9117647058823528,
          0.2352941176470588,
          0.2058823529411764,
          0.8823529411764706,
          0.4411764705882353,
          0.7941176470588235,
          0.1470588235294117,
          1,
          0.2058823529411764,
          0.1176470588235294,
          1,
          0.1176470588235294,
          1,
          0.1764705882352941,
          0.1470588235294117,
          1,
          0.0294117647058823,
          0.2058823529411764,
          1,
          0.1470588235294117,
          1,
          0.1176470588235294,
          1,
          0.1470588235294117,
          0.1176470588235294,
          0.1470588235294117,
          1,
          1,
          0.1764705882352941,
          0.0294117647058823,
          0.3235294117647059,
          1,
          0.1764705882352941,
          1,
          1,
          0.2941176470588235,
          1,
          0.1176470588235294,
          0.1176470588235294,
          0.088235294117647,
          0.0588235294117647,
          0.3235294117647059,
          0.3235294117647059,
          0.2058823529411764,
          0,
          0.1470588235294117,
          0.5,
          0.0588235294117647,
          0.1176470588235294,
          0.4117647058823529,
          0.1176470588235294,
          0.3529411764705882,
          0.1176470588235294,
          0.0294117647058823,
          0.5,
          0.0588235294117647,
          0.088235294117647,
          0.5588235294117647,
          0.0588235294117647,
          0.5588235294117647,
          0.2352941176470588,
          0.0588235294117647,
          0.0588235294117647,
          0.0588235294117647,
          0.3235294117647059,
          0.1470588235294117,
          0.0588235294117647,
          0.0588235294117647,
          0.5294117647058824,
          0.0294117647058823,
          0.1176470588235294,
          0.4705882352941176,
          0.5,
          0.4705882352941176,
          0.088235294117647,
          0.088235294117647,
          0.1764705882352941,
          0.1176470588235294,
          0.2941176470588235,
          0.3823529411764705,
          0,
          0.1470588235294117,
          0.3529411764705882,
          0.5588235294117647,
          0.7941176470588235,
          0.2941176470588235,
          0.3529411764705882,
          0.7058823529411765,
          0.5588235294117647,
          0.7352941176470589,
          0.8529411764705882,
          0.1470588235294117,
          0.6764705882352942,
          0.6176470588235294,
          0.7352941176470589,
          0.4411764705882353,
          0.1176470588235294,
          0.5294117647058824,
          0.1470588235294117,
          0.6470588235294118,
          0.5294117647058824,
          0.2941176470588235,
          0.8823529411764706,
          0.0588235294117647,
          0.7941176470588235,
          0.4705882352941176,
          0.2058823529411764,
          1,
          0.0294117647058823,
          0.6470588235294118,
          0.2058823529411764,
          0.1470588235294117,
          0.5,
          0.6470588235294118,
          0.1764705882352941,
          0.088235294117647,
          0.9411764705882352,
          0.9411764705882352,
          0.7941176470588235,
          0.1764705882352941,
          0.0588235294117647,
          0.9117647058823528,
          0.1176470588235294,
          0.9411764705882352,
          0.9411764705882352,
          0.1764705882352941,
          0.9117647058823528,
          0.3235294117647059,
          0.3529411764705882,
          0.6764705882352942,
          0.6176470588235294,
          0.3235294117647059,
          0.5294117647058824,
          0.2941176470588235,
          0.2647058823529412,
          0.4705882352941176,
          0.1764705882352941,
          0.088235294117647,
          0.2058823529411764,
          0.5588235294117647,
          0.3823529411764705,
          0.4705882352941176,
          0.7941176470588235,
          0.0588235294117647,
          0.1470588235294117,
          0.4411764705882353,
          0.5588235294117647,
          0.6470588235294118,
          0,
          0.1470588235294117,
          0.0588235294117647,
          0.0294117647058823,
          0.0294117647058823,
          0.1176470588235294,
          0.088235294117647,
          0.0294117647058823,
          0.1176470588235294,
          0.7352941176470589,
          0.1470588235294117,
          0.8235294117647058,
          0.1470588235294117,
          0.8529411764705882,
          0.8529411764705882,
          0.2058823529411764,
          0.0294117647058823,
          0.088235294117647,
          0.7941176470588235,
          0,
          0.5882352941176471,
          0.5,
          0.1764705882352941,
          0.2058823529411764,
          0.7647058823529411,
          0.8235294117647058,
          0.3823529411764705,
          0.3235294117647059,
          0.1470588235294117,
          0.7941176470588235,
          0.7058823529411765,
          0.5294117647058824,
          0.2941176470588235,
          0.2941176470588235,
          0.9411764705882352,
          0.7058823529411765,
          0.2941176470588235,
          0.2058823529411764,
          0.2058823529411764,
          1,
          0.088235294117647,
          0.3235294117647059,
          1,
          0.1764705882352941,
          1,
          0.1176470588235294,
          1,
          0.1176470588235294,
          0.2058823529411764,
          1,
          0.1176470588235294,
          1,
          0.1470588235294117,
          0.2941176470588235,
          1,
          0.3529411764705882,
          0.3823529411764705,
          0.2941176470588235,
          1,
          1,
          1,
          0.2058823529411764,
          0.2647058823529412,
          1,
          1,
          1,
          1,
          0.0588235294117647,
          1
         ],
         "xaxis": "x2",
         "yaxis": "y2"
        },
        {
         "alignmentgroup": "True",
         "bingroup": "x",
         "hovertemplate": "n_gram=3<br>accuracy=%{x}<br>count=%{y}<extra></extra>",
         "legendgroup": "3",
         "marker": {
          "color": "#EF553B"
         },
         "name": "3",
         "offsetgroup": "3",
         "orientation": "v",
         "showlegend": true,
         "type": "histogram",
         "x": [
          0.0588235294117647,
          0.7352941176470589,
          0.7647058823529411,
          0.8823529411764706,
          0.8235294117647058,
          0.2352941176470588,
          0.6764705882352942,
          0.7352941176470589,
          0.8235294117647058,
          0.9411764705882352,
          0.088235294117647,
          0.6764705882352942,
          0.7647058823529411,
          0.9411764705882352,
          0.7941176470588235,
          0.1176470588235294,
          0.088235294117647,
          0.9411764705882352,
          1,
          0.3235294117647059,
          0.1470588235294117,
          0,
          0.9411764705882352,
          0.9411764705882352,
          0.2058823529411764,
          0.088235294117647,
          0,
          1,
          1,
          0.0294117647058823,
          0.088235294117647,
          0.9411764705882352,
          0.3235294117647059,
          0.2058823529411764,
          0.9411764705882352,
          0.1470588235294117,
          0.9411764705882352,
          0.2352941176470588,
          0.0294117647058823,
          0.9411764705882352,
          0.1176470588235294,
          1,
          0.9411764705882352,
          0.0588235294117647,
          0.9411764705882352,
          0,
          0.4705882352941176,
          0.6470588235294118,
          0.2941176470588235,
          0.1176470588235294,
          0.0294117647058823,
          0.1176470588235294,
          0.6470588235294118,
          0.5,
          0.088235294117647,
          0.0588235294117647,
          0,
          0.7647058823529411,
          0.3529411764705882,
          0.1176470588235294,
          0.0588235294117647,
          0.088235294117647,
          0.7352941176470589,
          0.1176470588235294,
          0.1176470588235294,
          0.0588235294117647,
          0.0588235294117647,
          0.9411764705882352,
          0.0588235294117647,
          0.088235294117647,
          0.088235294117647,
          0.0588235294117647,
          0.9117647058823528,
          0.088235294117647,
          0.088235294117647,
          0.0294117647058823,
          0.9411764705882352,
          0.1176470588235294,
          0.0588235294117647,
          0.9117647058823528,
          0.0294117647058823,
          0.9411764705882352,
          0.088235294117647,
          0.1470588235294117,
          0.9117647058823528,
          0.9117647058823528,
          1,
          0.1176470588235294,
          0.0588235294117647,
          0.9117647058823528,
          0.0294117647058823,
          0.3823529411764705,
          0.0294117647058823,
          0.0588235294117647,
          0.0588235294117647,
          0.088235294117647,
          0.1176470588235294,
          0.088235294117647,
          0.0294117647058823,
          0.1176470588235294,
          0.0294117647058823,
          0.1764705882352941,
          0.0588235294117647,
          0,
          0.088235294117647,
          0,
          0.0294117647058823,
          0.0588235294117647,
          0.3823529411764705,
          0.0588235294117647,
          0.0588235294117647,
          0.088235294117647,
          0.0294117647058823,
          0.0588235294117647,
          0.1176470588235294,
          0.0588235294117647,
          0.0588235294117647,
          0.088235294117647,
          0.2058823529411764,
          0.0294117647058823,
          0,
          0.0588235294117647,
          0.0294117647058823,
          0.0294117647058823,
          0.0588235294117647,
          0.0588235294117647,
          0.088235294117647,
          0.1176470588235294,
          0.0588235294117647,
          0.0294117647058823,
          0,
          0.0294117647058823,
          0.0588235294117647,
          0.0588235294117647,
          0.0294117647058823,
          0.0588235294117647,
          0.5588235294117647,
          0.2058823529411764,
          0.8529411764705882,
          0.9411764705882352,
          0.088235294117647,
          0.5882352941176471,
          0,
          0.7647058823529411,
          0.6470588235294118,
          0.0588235294117647,
          0.2647058823529412,
          0.5882352941176471,
          0.1176470588235294,
          0.8529411764705882,
          0.0588235294117647,
          0,
          1,
          0.1176470588235294,
          0.0294117647058823,
          0,
          0.088235294117647,
          1,
          0.0294117647058823,
          0.0294117647058823,
          0.0588235294117647,
          0.0294117647058823,
          0.9411764705882352,
          0.0588235294117647,
          0.2058823529411764,
          0.0294117647058823,
          1,
          0.0294117647058823,
          0.0294117647058823,
          0.1176470588235294,
          0.0588235294117647,
          1,
          0.0294117647058823,
          1,
          1,
          1,
          0.0588235294117647,
          1,
          0.088235294117647,
          0.9411764705882352,
          0.0588235294117647,
          0.3235294117647059,
          0.6470588235294118,
          0.7058823529411765,
          0.6176470588235294,
          0.0294117647058823,
          0.0588235294117647,
          0.7647058823529411,
          0.7058823529411765,
          0.1176470588235294,
          0.0294117647058823,
          0.0588235294117647,
          0.8529411764705882,
          0.7352941176470589,
          0.1470588235294117,
          0.0294117647058823,
          0.088235294117647,
          0.9117647058823528,
          0,
          0.088235294117647,
          0.1176470588235294,
          0.0588235294117647,
          0.9117647058823528,
          0.0588235294117647,
          0.088235294117647,
          0.0294117647058823,
          0.0294117647058823,
          0.8823529411764706,
          0.0294117647058823,
          0.1470588235294117,
          0.0294117647058823,
          0.9117647058823528,
          0.0294117647058823,
          0.0588235294117647,
          0.1470588235294117,
          0.088235294117647,
          0.9117647058823528,
          0.1176470588235294,
          0.9117647058823528,
          0.1764705882352941,
          0.2058823529411764,
          0.0588235294117647,
          0.8823529411764706,
          0.1176470588235294,
          0.9411764705882352,
          0,
          0.8235294117647058,
          0.4117647058823529,
          1,
          0.1470588235294117,
          0.0294117647058823,
          0.7058823529411765,
          0.7647058823529411,
          0.9117647058823528,
          0.1176470588235294,
          0,
          0.9411764705882352,
          0.6470588235294118,
          1,
          0.8823529411764706,
          0,
          0.0294117647058823,
          1,
          1,
          0.0294117647058823,
          0.0588235294117647,
          0.0294117647058823,
          1,
          1,
          0.2647058823529412,
          0,
          0.0294117647058823,
          1,
          0.1176470588235294,
          0.1176470588235294,
          0,
          1,
          0.0294117647058823,
          0.0294117647058823,
          1,
          0.0294117647058823,
          1,
          0.2647058823529412,
          0.0294117647058823,
          1,
          0.1764705882352941,
          1,
          1,
          0.088235294117647,
          1,
          0.2941176470588235,
          0.3235294117647059,
          0.3823529411764705,
          0.0588235294117647,
          0.6764705882352942,
          0.5294117647058824,
          0.088235294117647,
          0.0294117647058823,
          0.1470588235294117,
          0.5882352941176471,
          0.1764705882352941,
          0.088235294117647,
          0.088235294117647,
          0.0588235294117647,
          0.0294117647058823,
          0.5588235294117647,
          0.0588235294117647,
          0.2352941176470588,
          0.088235294117647,
          0.0588235294117647,
          0.8235294117647058,
          0,
          0.2647058823529412,
          0.1176470588235294,
          0.0294117647058823,
          0.4705882352941176,
          0,
          0.2058823529411764,
          0.088235294117647,
          0.0588235294117647,
          0.7352941176470589,
          0.2058823529411764,
          0.0588235294117647,
          0,
          0.0294117647058823,
          0.8235294117647058,
          0.2647058823529412,
          0.0588235294117647,
          0,
          0.6176470588235294,
          0.8529411764705882,
          0.2647058823529412,
          0.3529411764705882,
          0.1470588235294117,
          0.0294117647058823,
          0.1176470588235294,
          0.1176470588235294,
          0.8823529411764706,
          0.4411764705882353,
          0.0588235294117647,
          0.0588235294117647,
          0.2647058823529412,
          0.7647058823529411,
          0.088235294117647,
          0.0294117647058823,
          0.0588235294117647,
          0.1470588235294117,
          0.8529411764705882,
          0.6176470588235294,
          0.0294117647058823,
          0.088235294117647,
          0.088235294117647,
          0.9411764705882352,
          0.0588235294117647,
          0.1764705882352941,
          0.088235294117647,
          0.1470588235294117,
          0.9411764705882352,
          0.9411764705882352,
          0.088235294117647,
          0.1176470588235294,
          0.1176470588235294,
          0.9117647058823528,
          0.9411764705882352,
          0.1764705882352941,
          0.088235294117647,
          0.9411764705882352,
          0.2647058823529412,
          0.0588235294117647,
          0.2352941176470588,
          0.1176470588235294,
          0.9411764705882352,
          0.0588235294117647,
          0.0588235294117647,
          0.9117647058823528,
          0.1764705882352941,
          1,
          0.9411764705882352,
          0.0588235294117647,
          0.9117647058823528,
          0.0294117647058823,
          0.5588235294117647,
          0.1470588235294117,
          0.1764705882352941,
          0.6764705882352942,
          0.4117647058823529,
          0.6764705882352942,
          0.3235294117647059,
          0.0294117647058823,
          0.8235294117647058,
          0.5294117647058824,
          0.3529411764705882,
          0.5588235294117647,
          0.1176470588235294,
          0.6764705882352942,
          0.088235294117647,
          0.1176470588235294,
          0.1764705882352941,
          0.7058823529411765,
          0.0294117647058823,
          0.8823529411764706,
          0.0294117647058823,
          0.7058823529411765,
          0.8529411764705882,
          0.088235294117647,
          0.8529411764705882,
          0.0588235294117647,
          0.8823529411764706,
          0.8823529411764706,
          0.0294117647058823,
          0.088235294117647,
          0.1470588235294117,
          0.088235294117647,
          0.0294117647058823,
          0.8823529411764706,
          0.8823529411764706,
          0.8823529411764706,
          0.0294117647058823,
          0.0588235294117647,
          0.1176470588235294,
          0.2647058823529412,
          0.9411764705882352,
          0.8823529411764706,
          0.1470588235294117,
          0.3235294117647059,
          0.1176470588235294,
          0.6470588235294118,
          0.9411764705882352,
          0.9411764705882352,
          0.2058823529411764,
          0.0294117647058823,
          0.7058823529411765,
          0.6764705882352942,
          0.9411764705882352,
          0.2647058823529412,
          0.0294117647058823,
          0.9411764705882352,
          0.9411764705882352,
          0.5,
          0.0588235294117647,
          0.0294117647058823,
          0,
          1,
          1,
          1,
          0.0588235294117647,
          0.0294117647058823,
          1,
          1,
          1,
          0.0294117647058823,
          0.0588235294117647,
          1,
          1,
          0.9411764705882352,
          0.0588235294117647,
          1,
          1,
          0.1470588235294117,
          1,
          0.0588235294117647,
          1,
          1,
          0.1176470588235294,
          0.088235294117647,
          1,
          1,
          1,
          0.088235294117647,
          1
         ],
         "xaxis": "x",
         "yaxis": "y"
        },
        {
         "alignmentgroup": "True",
         "hovertemplate": "n_gram=3<br>accuracy=%{x}<extra></extra>",
         "legendgroup": "3",
         "marker": {
          "color": "#EF553B"
         },
         "name": "3",
         "notched": true,
         "offsetgroup": "3",
         "showlegend": false,
         "type": "box",
         "x": [
          0.0588235294117647,
          0.7352941176470589,
          0.7647058823529411,
          0.8823529411764706,
          0.8235294117647058,
          0.2352941176470588,
          0.6764705882352942,
          0.7352941176470589,
          0.8235294117647058,
          0.9411764705882352,
          0.088235294117647,
          0.6764705882352942,
          0.7647058823529411,
          0.9411764705882352,
          0.7941176470588235,
          0.1176470588235294,
          0.088235294117647,
          0.9411764705882352,
          1,
          0.3235294117647059,
          0.1470588235294117,
          0,
          0.9411764705882352,
          0.9411764705882352,
          0.2058823529411764,
          0.088235294117647,
          0,
          1,
          1,
          0.0294117647058823,
          0.088235294117647,
          0.9411764705882352,
          0.3235294117647059,
          0.2058823529411764,
          0.9411764705882352,
          0.1470588235294117,
          0.9411764705882352,
          0.2352941176470588,
          0.0294117647058823,
          0.9411764705882352,
          0.1176470588235294,
          1,
          0.9411764705882352,
          0.0588235294117647,
          0.9411764705882352,
          0,
          0.4705882352941176,
          0.6470588235294118,
          0.2941176470588235,
          0.1176470588235294,
          0.0294117647058823,
          0.1176470588235294,
          0.6470588235294118,
          0.5,
          0.088235294117647,
          0.0588235294117647,
          0,
          0.7647058823529411,
          0.3529411764705882,
          0.1176470588235294,
          0.0588235294117647,
          0.088235294117647,
          0.7352941176470589,
          0.1176470588235294,
          0.1176470588235294,
          0.0588235294117647,
          0.0588235294117647,
          0.9411764705882352,
          0.0588235294117647,
          0.088235294117647,
          0.088235294117647,
          0.0588235294117647,
          0.9117647058823528,
          0.088235294117647,
          0.088235294117647,
          0.0294117647058823,
          0.9411764705882352,
          0.1176470588235294,
          0.0588235294117647,
          0.9117647058823528,
          0.0294117647058823,
          0.9411764705882352,
          0.088235294117647,
          0.1470588235294117,
          0.9117647058823528,
          0.9117647058823528,
          1,
          0.1176470588235294,
          0.0588235294117647,
          0.9117647058823528,
          0.0294117647058823,
          0.3823529411764705,
          0.0294117647058823,
          0.0588235294117647,
          0.0588235294117647,
          0.088235294117647,
          0.1176470588235294,
          0.088235294117647,
          0.0294117647058823,
          0.1176470588235294,
          0.0294117647058823,
          0.1764705882352941,
          0.0588235294117647,
          0,
          0.088235294117647,
          0,
          0.0294117647058823,
          0.0588235294117647,
          0.3823529411764705,
          0.0588235294117647,
          0.0588235294117647,
          0.088235294117647,
          0.0294117647058823,
          0.0588235294117647,
          0.1176470588235294,
          0.0588235294117647,
          0.0588235294117647,
          0.088235294117647,
          0.2058823529411764,
          0.0294117647058823,
          0,
          0.0588235294117647,
          0.0294117647058823,
          0.0294117647058823,
          0.0588235294117647,
          0.0588235294117647,
          0.088235294117647,
          0.1176470588235294,
          0.0588235294117647,
          0.0294117647058823,
          0,
          0.0294117647058823,
          0.0588235294117647,
          0.0588235294117647,
          0.0294117647058823,
          0.0588235294117647,
          0.5588235294117647,
          0.2058823529411764,
          0.8529411764705882,
          0.9411764705882352,
          0.088235294117647,
          0.5882352941176471,
          0,
          0.7647058823529411,
          0.6470588235294118,
          0.0588235294117647,
          0.2647058823529412,
          0.5882352941176471,
          0.1176470588235294,
          0.8529411764705882,
          0.0588235294117647,
          0,
          1,
          0.1176470588235294,
          0.0294117647058823,
          0,
          0.088235294117647,
          1,
          0.0294117647058823,
          0.0294117647058823,
          0.0588235294117647,
          0.0294117647058823,
          0.9411764705882352,
          0.0588235294117647,
          0.2058823529411764,
          0.0294117647058823,
          1,
          0.0294117647058823,
          0.0294117647058823,
          0.1176470588235294,
          0.0588235294117647,
          1,
          0.0294117647058823,
          1,
          1,
          1,
          0.0588235294117647,
          1,
          0.088235294117647,
          0.9411764705882352,
          0.0588235294117647,
          0.3235294117647059,
          0.6470588235294118,
          0.7058823529411765,
          0.6176470588235294,
          0.0294117647058823,
          0.0588235294117647,
          0.7647058823529411,
          0.7058823529411765,
          0.1176470588235294,
          0.0294117647058823,
          0.0588235294117647,
          0.8529411764705882,
          0.7352941176470589,
          0.1470588235294117,
          0.0294117647058823,
          0.088235294117647,
          0.9117647058823528,
          0,
          0.088235294117647,
          0.1176470588235294,
          0.0588235294117647,
          0.9117647058823528,
          0.0588235294117647,
          0.088235294117647,
          0.0294117647058823,
          0.0294117647058823,
          0.8823529411764706,
          0.0294117647058823,
          0.1470588235294117,
          0.0294117647058823,
          0.9117647058823528,
          0.0294117647058823,
          0.0588235294117647,
          0.1470588235294117,
          0.088235294117647,
          0.9117647058823528,
          0.1176470588235294,
          0.9117647058823528,
          0.1764705882352941,
          0.2058823529411764,
          0.0588235294117647,
          0.8823529411764706,
          0.1176470588235294,
          0.9411764705882352,
          0,
          0.8235294117647058,
          0.4117647058823529,
          1,
          0.1470588235294117,
          0.0294117647058823,
          0.7058823529411765,
          0.7647058823529411,
          0.9117647058823528,
          0.1176470588235294,
          0,
          0.9411764705882352,
          0.6470588235294118,
          1,
          0.8823529411764706,
          0,
          0.0294117647058823,
          1,
          1,
          0.0294117647058823,
          0.0588235294117647,
          0.0294117647058823,
          1,
          1,
          0.2647058823529412,
          0,
          0.0294117647058823,
          1,
          0.1176470588235294,
          0.1176470588235294,
          0,
          1,
          0.0294117647058823,
          0.0294117647058823,
          1,
          0.0294117647058823,
          1,
          0.2647058823529412,
          0.0294117647058823,
          1,
          0.1764705882352941,
          1,
          1,
          0.088235294117647,
          1,
          0.2941176470588235,
          0.3235294117647059,
          0.3823529411764705,
          0.0588235294117647,
          0.6764705882352942,
          0.5294117647058824,
          0.088235294117647,
          0.0294117647058823,
          0.1470588235294117,
          0.5882352941176471,
          0.1764705882352941,
          0.088235294117647,
          0.088235294117647,
          0.0588235294117647,
          0.0294117647058823,
          0.5588235294117647,
          0.0588235294117647,
          0.2352941176470588,
          0.088235294117647,
          0.0588235294117647,
          0.8235294117647058,
          0,
          0.2647058823529412,
          0.1176470588235294,
          0.0294117647058823,
          0.4705882352941176,
          0,
          0.2058823529411764,
          0.088235294117647,
          0.0588235294117647,
          0.7352941176470589,
          0.2058823529411764,
          0.0588235294117647,
          0,
          0.0294117647058823,
          0.8235294117647058,
          0.2647058823529412,
          0.0588235294117647,
          0,
          0.6176470588235294,
          0.8529411764705882,
          0.2647058823529412,
          0.3529411764705882,
          0.1470588235294117,
          0.0294117647058823,
          0.1176470588235294,
          0.1176470588235294,
          0.8823529411764706,
          0.4411764705882353,
          0.0588235294117647,
          0.0588235294117647,
          0.2647058823529412,
          0.7647058823529411,
          0.088235294117647,
          0.0294117647058823,
          0.0588235294117647,
          0.1470588235294117,
          0.8529411764705882,
          0.6176470588235294,
          0.0294117647058823,
          0.088235294117647,
          0.088235294117647,
          0.9411764705882352,
          0.0588235294117647,
          0.1764705882352941,
          0.088235294117647,
          0.1470588235294117,
          0.9411764705882352,
          0.9411764705882352,
          0.088235294117647,
          0.1176470588235294,
          0.1176470588235294,
          0.9117647058823528,
          0.9411764705882352,
          0.1764705882352941,
          0.088235294117647,
          0.9411764705882352,
          0.2647058823529412,
          0.0588235294117647,
          0.2352941176470588,
          0.1176470588235294,
          0.9411764705882352,
          0.0588235294117647,
          0.0588235294117647,
          0.9117647058823528,
          0.1764705882352941,
          1,
          0.9411764705882352,
          0.0588235294117647,
          0.9117647058823528,
          0.0294117647058823,
          0.5588235294117647,
          0.1470588235294117,
          0.1764705882352941,
          0.6764705882352942,
          0.4117647058823529,
          0.6764705882352942,
          0.3235294117647059,
          0.0294117647058823,
          0.8235294117647058,
          0.5294117647058824,
          0.3529411764705882,
          0.5588235294117647,
          0.1176470588235294,
          0.6764705882352942,
          0.088235294117647,
          0.1176470588235294,
          0.1764705882352941,
          0.7058823529411765,
          0.0294117647058823,
          0.8823529411764706,
          0.0294117647058823,
          0.7058823529411765,
          0.8529411764705882,
          0.088235294117647,
          0.8529411764705882,
          0.0588235294117647,
          0.8823529411764706,
          0.8823529411764706,
          0.0294117647058823,
          0.088235294117647,
          0.1470588235294117,
          0.088235294117647,
          0.0294117647058823,
          0.8823529411764706,
          0.8823529411764706,
          0.8823529411764706,
          0.0294117647058823,
          0.0588235294117647,
          0.1176470588235294,
          0.2647058823529412,
          0.9411764705882352,
          0.8823529411764706,
          0.1470588235294117,
          0.3235294117647059,
          0.1176470588235294,
          0.6470588235294118,
          0.9411764705882352,
          0.9411764705882352,
          0.2058823529411764,
          0.0294117647058823,
          0.7058823529411765,
          0.6764705882352942,
          0.9411764705882352,
          0.2647058823529412,
          0.0294117647058823,
          0.9411764705882352,
          0.9411764705882352,
          0.5,
          0.0588235294117647,
          0.0294117647058823,
          0,
          1,
          1,
          1,
          0.0588235294117647,
          0.0294117647058823,
          1,
          1,
          1,
          0.0294117647058823,
          0.0588235294117647,
          1,
          1,
          0.9411764705882352,
          0.0588235294117647,
          1,
          1,
          0.1470588235294117,
          1,
          0.0588235294117647,
          1,
          1,
          0.1176470588235294,
          0.088235294117647,
          1,
          1,
          1,
          0.088235294117647,
          1
         ],
         "xaxis": "x2",
         "yaxis": "y2"
        },
        {
         "alignmentgroup": "True",
         "bingroup": "x",
         "hovertemplate": "n_gram=4<br>accuracy=%{x}<br>count=%{y}<extra></extra>",
         "legendgroup": "4",
         "marker": {
          "color": "#00cc96"
         },
         "name": "4",
         "offsetgroup": "4",
         "orientation": "v",
         "showlegend": true,
         "type": "histogram",
         "x": [
          0.7647058823529411,
          0.7352941176470589,
          0,
          0.088235294117647,
          0.1470588235294117,
          0.8823529411764706,
          0.7941176470588235,
          0.1764705882352941,
          0.0294117647058823,
          0.0294117647058823,
          0.6470588235294118,
          0.7352941176470589,
          0.0588235294117647,
          0.2058823529411764,
          0.1470588235294117,
          0.9411764705882352,
          0.9411764705882352,
          0.9411764705882352,
          1,
          0.1470588235294117,
          0.9411764705882352,
          0.0294117647058823,
          0.9411764705882352,
          0.9411764705882352,
          0.088235294117647,
          0.9411764705882352,
          0.9411764705882352,
          0.9411764705882352,
          1,
          0.0588235294117647,
          0.9411764705882352,
          0.9411764705882352,
          0.1470588235294117,
          0.1470588235294117,
          1,
          0.9411764705882352,
          0.9411764705882352,
          0.0588235294117647,
          0.0588235294117647,
          0.9411764705882352,
          0.0294117647058823,
          0.9411764705882352,
          0.9411764705882352,
          0.0294117647058823,
          0.0294117647058823,
          0.0294117647058823,
          0.0588235294117647,
          0.0588235294117647,
          0.6176470588235294,
          0.088235294117647,
          0.0294117647058823,
          0.088235294117647,
          0.7647058823529411,
          0.088235294117647,
          0.5882352941176471,
          0.0294117647058823,
          0,
          0.6176470588235294,
          0.7058823529411765,
          0.0294117647058823,
          0,
          0.0294117647058823,
          0.9117647058823528,
          0.9411764705882352,
          0.0294117647058823,
          0,
          0.0294117647058823,
          0.9411764705882352,
          0.8529411764705882,
          0.1176470588235294,
          0.0294117647058823,
          0.8235294117647058,
          0.9411764705882352,
          0.0588235294117647,
          0.0294117647058823,
          0,
          0.9117647058823528,
          0.088235294117647,
          0.0294117647058823,
          1,
          0.0294117647058823,
          0.9411764705882352,
          0.1176470588235294,
          0.1176470588235294,
          0.088235294117647,
          0.1176470588235294,
          0.0294117647058823,
          1,
          0.9411764705882352,
          0.9411764705882352,
          0.0588235294117647,
          0.1470588235294117,
          0.0294117647058823,
          0.1470588235294117,
          0.0588235294117647,
          0.0294117647058823,
          0.0588235294117647,
          0.1470588235294117,
          0.0294117647058823,
          0.1176470588235294,
          0.1176470588235294,
          0.0294117647058823,
          0.1764705882352941,
          0.088235294117647,
          0.088235294117647,
          0.0294117647058823,
          0.0588235294117647,
          0.0294117647058823,
          0.1470588235294117,
          0.0588235294117647,
          0.0294117647058823,
          0.0294117647058823,
          0.088235294117647,
          0.0588235294117647,
          0.0588235294117647,
          0.0294117647058823,
          0.0294117647058823,
          0.1176470588235294,
          0.0294117647058823,
          0.0294117647058823,
          0.0588235294117647,
          0.0588235294117647,
          0.0294117647058823,
          0.0294117647058823,
          0,
          0.0294117647058823,
          0.1470588235294117,
          0.088235294117647,
          0.0294117647058823,
          0.1470588235294117,
          0.1176470588235294,
          0,
          0.1176470588235294,
          0.0294117647058823,
          0,
          0.0588235294117647,
          0,
          0.4705882352941176,
          0.7941176470588235,
          0.088235294117647,
          0.8529411764705882,
          0.3235294117647059,
          0.1176470588235294,
          0.0294117647058823,
          0.1764705882352941,
          0.6176470588235294,
          0.6764705882352942,
          0.1764705882352941,
          0.5588235294117647,
          0.1176470588235294,
          0,
          0.088235294117647,
          0.0294117647058823,
          0.088235294117647,
          0.0588235294117647,
          0.9411764705882352,
          0,
          0.0588235294117647,
          0.0588235294117647,
          0.0588235294117647,
          1,
          0.0294117647058823,
          0.9411764705882352,
          0.1176470588235294,
          0.9411764705882352,
          0.0294117647058823,
          0,
          0.0294117647058823,
          0.0294117647058823,
          1,
          0.9411764705882352,
          0.088235294117647,
          0.0588235294117647,
          0.0588235294117647,
          0.0588235294117647,
          0.9411764705882352,
          0.0588235294117647,
          0.9411764705882352,
          1,
          1,
          0.0294117647058823,
          0,
          0.7647058823529411,
          0.0294117647058823,
          0.1470588235294117,
          0.088235294117647,
          0.0294117647058823,
          0.088235294117647,
          0.0294117647058823,
          0.1470588235294117,
          0.0294117647058823,
          0.088235294117647,
          0.1764705882352941,
          0.0588235294117647,
          0.8235294117647058,
          0.0294117647058823,
          0.1470588235294117,
          0.0294117647058823,
          0.1176470588235294,
          0.0294117647058823,
          0.0588235294117647,
          0.1764705882352941,
          0.8823529411764706,
          0.3235294117647059,
          0.088235294117647,
          0.088235294117647,
          0,
          0.8823529411764706,
          0.088235294117647,
          0.0294117647058823,
          0.088235294117647,
          0.0294117647058823,
          0.0294117647058823,
          0.0294117647058823,
          0.088235294117647,
          0.088235294117647,
          0.8823529411764706,
          0.088235294117647,
          0,
          0.088235294117647,
          0.088235294117647,
          0.1176470588235294,
          0.8823529411764706,
          0.0588235294117647,
          0.9411764705882352,
          0.7647058823529411,
          0,
          0.7058823529411765,
          0.5588235294117647,
          0.7647058823529411,
          0.088235294117647,
          0.0294117647058823,
          0.7352941176470589,
          0.8823529411764706,
          0.0294117647058823,
          0.0294117647058823,
          0.0294117647058823,
          0.8823529411764706,
          0.0588235294117647,
          0.1176470588235294,
          1,
          0,
          1,
          1,
          0.0588235294117647,
          0.088235294117647,
          0.0294117647058823,
          1,
          0,
          0.0294117647058823,
          0.6176470588235294,
          0.0294117647058823,
          1,
          1,
          1,
          1,
          1,
          0.0588235294117647,
          0.0294117647058823,
          0.1176470588235294,
          0.0588235294117647,
          1,
          0.0294117647058823,
          0.088235294117647,
          0.088235294117647,
          0.2058823529411764,
          1,
          0,
          1,
          0.088235294117647,
          0,
          0.3235294117647059,
          0.3235294117647059,
          0.2941176470588235,
          0.1176470588235294,
          0.088235294117647,
          0.088235294117647,
          0.1470588235294117,
          0,
          0.2941176470588235,
          0.0588235294117647,
          0.0588235294117647,
          0.2058823529411764,
          0.0294117647058823,
          0.6764705882352942,
          0.0294117647058823,
          0.0588235294117647,
          0.0294117647058823,
          0.0588235294117647,
          0.1176470588235294,
          0.1176470588235294,
          0.0294117647058823,
          0.2058823529411764,
          0,
          0.0294117647058823,
          0.0588235294117647,
          0.0588235294117647,
          0.088235294117647,
          0.088235294117647,
          0.0294117647058823,
          0.0294117647058823,
          0.0294117647058823,
          0.088235294117647,
          0.0294117647058823,
          0.0294117647058823,
          0.1176470588235294,
          0.3235294117647059,
          0.0294117647058823,
          0.0294117647058823,
          0.1176470588235294,
          0.0588235294117647,
          0.0294117647058823,
          0.0294117647058823,
          0.0588235294117647,
          0.0588235294117647,
          0.0294117647058823,
          0.0294117647058823,
          0.0294117647058823,
          0.2058823529411764,
          0.1176470588235294,
          0.1764705882352941,
          0,
          0.0294117647058823,
          0,
          0.2647058823529412,
          0.8235294117647058,
          0.0588235294117647,
          0.0588235294117647,
          0.088235294117647,
          0.088235294117647,
          0.0588235294117647,
          0.2058823529411764,
          0.9411764705882352,
          0.0294117647058823,
          0.1470588235294117,
          0.2058823529411764,
          0.1176470588235294,
          0.9117647058823528,
          0.0588235294117647,
          0.1470588235294117,
          0.9411764705882352,
          0.2941176470588235,
          0.9411764705882352,
          0,
          0.0294117647058823,
          0.0588235294117647,
          0.9411764705882352,
          0.2647058823529412,
          0.2058823529411764,
          0.9411764705882352,
          0.2352941176470588,
          0.9117647058823528,
          0.1176470588235294,
          0.1764705882352941,
          0.9117647058823528,
          0.9411764705882352,
          0.9411764705882352,
          0.9117647058823528,
          0.088235294117647,
          0.9411764705882352,
          0.6176470588235294,
          0.0294117647058823,
          0.6176470588235294,
          0.088235294117647,
          0.1764705882352941,
          0.088235294117647,
          0.0294117647058823,
          0.0294117647058823,
          0.088235294117647,
          0,
          0.088235294117647,
          0.0588235294117647,
          0.0294117647058823,
          0.3823529411764705,
          0.1176470588235294,
          0.8823529411764706,
          0.0294117647058823,
          0.088235294117647,
          0.0588235294117647,
          0.0588235294117647,
          0.1470588235294117,
          0,
          0.8823529411764706,
          0.9117647058823528,
          0.0294117647058823,
          0.1176470588235294,
          0,
          0.8823529411764706,
          0.0588235294117647,
          0.0588235294117647,
          0.8823529411764706,
          0.088235294117647,
          0.0588235294117647,
          0,
          0.088235294117647,
          0.1470588235294117,
          0.8823529411764706,
          0.0588235294117647,
          0.1176470588235294,
          0.0588235294117647,
          0,
          0.2058823529411764,
          0.1176470588235294,
          0.0588235294117647,
          0.1176470588235294,
          0.1470588235294117,
          0.1470588235294117,
          0.1764705882352941,
          0.088235294117647,
          0.6470588235294118,
          0,
          0.088235294117647,
          0.8823529411764706,
          0.1470588235294117,
          0.088235294117647,
          0.1176470588235294,
          0.1176470588235294,
          0.7941176470588235,
          0.0588235294117647,
          0.8529411764705882,
          0.1176470588235294,
          0.1470588235294117,
          1,
          1,
          0.0588235294117647,
          0,
          0.0294117647058823,
          1,
          0.1176470588235294,
          0.0294117647058823,
          0.2352941176470588,
          0,
          1,
          1,
          1,
          0.1176470588235294,
          1,
          0.0588235294117647,
          0.0294117647058823,
          0.0588235294117647,
          0,
          1,
          0.088235294117647,
          0.1176470588235294,
          1,
          0.1176470588235294,
          1,
          1,
          0.088235294117647,
          0.0588235294117647
         ],
         "xaxis": "x",
         "yaxis": "y"
        },
        {
         "alignmentgroup": "True",
         "hovertemplate": "n_gram=4<br>accuracy=%{x}<extra></extra>",
         "legendgroup": "4",
         "marker": {
          "color": "#00cc96"
         },
         "name": "4",
         "notched": true,
         "offsetgroup": "4",
         "showlegend": false,
         "type": "box",
         "x": [
          0.7647058823529411,
          0.7352941176470589,
          0,
          0.088235294117647,
          0.1470588235294117,
          0.8823529411764706,
          0.7941176470588235,
          0.1764705882352941,
          0.0294117647058823,
          0.0294117647058823,
          0.6470588235294118,
          0.7352941176470589,
          0.0588235294117647,
          0.2058823529411764,
          0.1470588235294117,
          0.9411764705882352,
          0.9411764705882352,
          0.9411764705882352,
          1,
          0.1470588235294117,
          0.9411764705882352,
          0.0294117647058823,
          0.9411764705882352,
          0.9411764705882352,
          0.088235294117647,
          0.9411764705882352,
          0.9411764705882352,
          0.9411764705882352,
          1,
          0.0588235294117647,
          0.9411764705882352,
          0.9411764705882352,
          0.1470588235294117,
          0.1470588235294117,
          1,
          0.9411764705882352,
          0.9411764705882352,
          0.0588235294117647,
          0.0588235294117647,
          0.9411764705882352,
          0.0294117647058823,
          0.9411764705882352,
          0.9411764705882352,
          0.0294117647058823,
          0.0294117647058823,
          0.0294117647058823,
          0.0588235294117647,
          0.0588235294117647,
          0.6176470588235294,
          0.088235294117647,
          0.0294117647058823,
          0.088235294117647,
          0.7647058823529411,
          0.088235294117647,
          0.5882352941176471,
          0.0294117647058823,
          0,
          0.6176470588235294,
          0.7058823529411765,
          0.0294117647058823,
          0,
          0.0294117647058823,
          0.9117647058823528,
          0.9411764705882352,
          0.0294117647058823,
          0,
          0.0294117647058823,
          0.9411764705882352,
          0.8529411764705882,
          0.1176470588235294,
          0.0294117647058823,
          0.8235294117647058,
          0.9411764705882352,
          0.0588235294117647,
          0.0294117647058823,
          0,
          0.9117647058823528,
          0.088235294117647,
          0.0294117647058823,
          1,
          0.0294117647058823,
          0.9411764705882352,
          0.1176470588235294,
          0.1176470588235294,
          0.088235294117647,
          0.1176470588235294,
          0.0294117647058823,
          1,
          0.9411764705882352,
          0.9411764705882352,
          0.0588235294117647,
          0.1470588235294117,
          0.0294117647058823,
          0.1470588235294117,
          0.0588235294117647,
          0.0294117647058823,
          0.0588235294117647,
          0.1470588235294117,
          0.0294117647058823,
          0.1176470588235294,
          0.1176470588235294,
          0.0294117647058823,
          0.1764705882352941,
          0.088235294117647,
          0.088235294117647,
          0.0294117647058823,
          0.0588235294117647,
          0.0294117647058823,
          0.1470588235294117,
          0.0588235294117647,
          0.0294117647058823,
          0.0294117647058823,
          0.088235294117647,
          0.0588235294117647,
          0.0588235294117647,
          0.0294117647058823,
          0.0294117647058823,
          0.1176470588235294,
          0.0294117647058823,
          0.0294117647058823,
          0.0588235294117647,
          0.0588235294117647,
          0.0294117647058823,
          0.0294117647058823,
          0,
          0.0294117647058823,
          0.1470588235294117,
          0.088235294117647,
          0.0294117647058823,
          0.1470588235294117,
          0.1176470588235294,
          0,
          0.1176470588235294,
          0.0294117647058823,
          0,
          0.0588235294117647,
          0,
          0.4705882352941176,
          0.7941176470588235,
          0.088235294117647,
          0.8529411764705882,
          0.3235294117647059,
          0.1176470588235294,
          0.0294117647058823,
          0.1764705882352941,
          0.6176470588235294,
          0.6764705882352942,
          0.1764705882352941,
          0.5588235294117647,
          0.1176470588235294,
          0,
          0.088235294117647,
          0.0294117647058823,
          0.088235294117647,
          0.0588235294117647,
          0.9411764705882352,
          0,
          0.0588235294117647,
          0.0588235294117647,
          0.0588235294117647,
          1,
          0.0294117647058823,
          0.9411764705882352,
          0.1176470588235294,
          0.9411764705882352,
          0.0294117647058823,
          0,
          0.0294117647058823,
          0.0294117647058823,
          1,
          0.9411764705882352,
          0.088235294117647,
          0.0588235294117647,
          0.0588235294117647,
          0.0588235294117647,
          0.9411764705882352,
          0.0588235294117647,
          0.9411764705882352,
          1,
          1,
          0.0294117647058823,
          0,
          0.7647058823529411,
          0.0294117647058823,
          0.1470588235294117,
          0.088235294117647,
          0.0294117647058823,
          0.088235294117647,
          0.0294117647058823,
          0.1470588235294117,
          0.0294117647058823,
          0.088235294117647,
          0.1764705882352941,
          0.0588235294117647,
          0.8235294117647058,
          0.0294117647058823,
          0.1470588235294117,
          0.0294117647058823,
          0.1176470588235294,
          0.0294117647058823,
          0.0588235294117647,
          0.1764705882352941,
          0.8823529411764706,
          0.3235294117647059,
          0.088235294117647,
          0.088235294117647,
          0,
          0.8823529411764706,
          0.088235294117647,
          0.0294117647058823,
          0.088235294117647,
          0.0294117647058823,
          0.0294117647058823,
          0.0294117647058823,
          0.088235294117647,
          0.088235294117647,
          0.8823529411764706,
          0.088235294117647,
          0,
          0.088235294117647,
          0.088235294117647,
          0.1176470588235294,
          0.8823529411764706,
          0.0588235294117647,
          0.9411764705882352,
          0.7647058823529411,
          0,
          0.7058823529411765,
          0.5588235294117647,
          0.7647058823529411,
          0.088235294117647,
          0.0294117647058823,
          0.7352941176470589,
          0.8823529411764706,
          0.0294117647058823,
          0.0294117647058823,
          0.0294117647058823,
          0.8823529411764706,
          0.0588235294117647,
          0.1176470588235294,
          1,
          0,
          1,
          1,
          0.0588235294117647,
          0.088235294117647,
          0.0294117647058823,
          1,
          0,
          0.0294117647058823,
          0.6176470588235294,
          0.0294117647058823,
          1,
          1,
          1,
          1,
          1,
          0.0588235294117647,
          0.0294117647058823,
          0.1176470588235294,
          0.0588235294117647,
          1,
          0.0294117647058823,
          0.088235294117647,
          0.088235294117647,
          0.2058823529411764,
          1,
          0,
          1,
          0.088235294117647,
          0,
          0.3235294117647059,
          0.3235294117647059,
          0.2941176470588235,
          0.1176470588235294,
          0.088235294117647,
          0.088235294117647,
          0.1470588235294117,
          0,
          0.2941176470588235,
          0.0588235294117647,
          0.0588235294117647,
          0.2058823529411764,
          0.0294117647058823,
          0.6764705882352942,
          0.0294117647058823,
          0.0588235294117647,
          0.0294117647058823,
          0.0588235294117647,
          0.1176470588235294,
          0.1176470588235294,
          0.0294117647058823,
          0.2058823529411764,
          0,
          0.0294117647058823,
          0.0588235294117647,
          0.0588235294117647,
          0.088235294117647,
          0.088235294117647,
          0.0294117647058823,
          0.0294117647058823,
          0.0294117647058823,
          0.088235294117647,
          0.0294117647058823,
          0.0294117647058823,
          0.1176470588235294,
          0.3235294117647059,
          0.0294117647058823,
          0.0294117647058823,
          0.1176470588235294,
          0.0588235294117647,
          0.0294117647058823,
          0.0294117647058823,
          0.0588235294117647,
          0.0588235294117647,
          0.0294117647058823,
          0.0294117647058823,
          0.0294117647058823,
          0.2058823529411764,
          0.1176470588235294,
          0.1764705882352941,
          0,
          0.0294117647058823,
          0,
          0.2647058823529412,
          0.8235294117647058,
          0.0588235294117647,
          0.0588235294117647,
          0.088235294117647,
          0.088235294117647,
          0.0588235294117647,
          0.2058823529411764,
          0.9411764705882352,
          0.0294117647058823,
          0.1470588235294117,
          0.2058823529411764,
          0.1176470588235294,
          0.9117647058823528,
          0.0588235294117647,
          0.1470588235294117,
          0.9411764705882352,
          0.2941176470588235,
          0.9411764705882352,
          0,
          0.0294117647058823,
          0.0588235294117647,
          0.9411764705882352,
          0.2647058823529412,
          0.2058823529411764,
          0.9411764705882352,
          0.2352941176470588,
          0.9117647058823528,
          0.1176470588235294,
          0.1764705882352941,
          0.9117647058823528,
          0.9411764705882352,
          0.9411764705882352,
          0.9117647058823528,
          0.088235294117647,
          0.9411764705882352,
          0.6176470588235294,
          0.0294117647058823,
          0.6176470588235294,
          0.088235294117647,
          0.1764705882352941,
          0.088235294117647,
          0.0294117647058823,
          0.0294117647058823,
          0.088235294117647,
          0,
          0.088235294117647,
          0.0588235294117647,
          0.0294117647058823,
          0.3823529411764705,
          0.1176470588235294,
          0.8823529411764706,
          0.0294117647058823,
          0.088235294117647,
          0.0588235294117647,
          0.0588235294117647,
          0.1470588235294117,
          0,
          0.8823529411764706,
          0.9117647058823528,
          0.0294117647058823,
          0.1176470588235294,
          0,
          0.8823529411764706,
          0.0588235294117647,
          0.0588235294117647,
          0.8823529411764706,
          0.088235294117647,
          0.0588235294117647,
          0,
          0.088235294117647,
          0.1470588235294117,
          0.8823529411764706,
          0.0588235294117647,
          0.1176470588235294,
          0.0588235294117647,
          0,
          0.2058823529411764,
          0.1176470588235294,
          0.0588235294117647,
          0.1176470588235294,
          0.1470588235294117,
          0.1470588235294117,
          0.1764705882352941,
          0.088235294117647,
          0.6470588235294118,
          0,
          0.088235294117647,
          0.8823529411764706,
          0.1470588235294117,
          0.088235294117647,
          0.1176470588235294,
          0.1176470588235294,
          0.7941176470588235,
          0.0588235294117647,
          0.8529411764705882,
          0.1176470588235294,
          0.1470588235294117,
          1,
          1,
          0.0588235294117647,
          0,
          0.0294117647058823,
          1,
          0.1176470588235294,
          0.0294117647058823,
          0.2352941176470588,
          0,
          1,
          1,
          1,
          0.1176470588235294,
          1,
          0.0588235294117647,
          0.0294117647058823,
          0.0588235294117647,
          0,
          1,
          0.088235294117647,
          0.1176470588235294,
          1,
          0.1176470588235294,
          1,
          1,
          0.088235294117647,
          0.0588235294117647
         ],
         "xaxis": "x2",
         "yaxis": "y2"
        }
       ],
       "layout": {
        "barmode": "relative",
        "legend": {
         "title": {
          "text": "n_gram"
         },
         "tracegroupgap": 0
        },
        "template": {
         "data": {
          "bar": [
           {
            "error_x": {
             "color": "#2a3f5f"
            },
            "error_y": {
             "color": "#2a3f5f"
            },
            "marker": {
             "line": {
              "color": "#E5ECF6",
              "width": 0.5
             }
            },
            "type": "bar"
           }
          ],
          "barpolar": [
           {
            "marker": {
             "line": {
              "color": "#E5ECF6",
              "width": 0.5
             }
            },
            "type": "barpolar"
           }
          ],
          "carpet": [
           {
            "aaxis": {
             "endlinecolor": "#2a3f5f",
             "gridcolor": "white",
             "linecolor": "white",
             "minorgridcolor": "white",
             "startlinecolor": "#2a3f5f"
            },
            "baxis": {
             "endlinecolor": "#2a3f5f",
             "gridcolor": "white",
             "linecolor": "white",
             "minorgridcolor": "white",
             "startlinecolor": "#2a3f5f"
            },
            "type": "carpet"
           }
          ],
          "choropleth": [
           {
            "colorbar": {
             "outlinewidth": 0,
             "ticks": ""
            },
            "type": "choropleth"
           }
          ],
          "contour": [
           {
            "colorbar": {
             "outlinewidth": 0,
             "ticks": ""
            },
            "colorscale": [
             [
              0,
              "#0d0887"
             ],
             [
              0.1111111111111111,
              "#46039f"
             ],
             [
              0.2222222222222222,
              "#7201a8"
             ],
             [
              0.3333333333333333,
              "#9c179e"
             ],
             [
              0.4444444444444444,
              "#bd3786"
             ],
             [
              0.5555555555555556,
              "#d8576b"
             ],
             [
              0.6666666666666666,
              "#ed7953"
             ],
             [
              0.7777777777777778,
              "#fb9f3a"
             ],
             [
              0.8888888888888888,
              "#fdca26"
             ],
             [
              1,
              "#f0f921"
             ]
            ],
            "type": "contour"
           }
          ],
          "contourcarpet": [
           {
            "colorbar": {
             "outlinewidth": 0,
             "ticks": ""
            },
            "type": "contourcarpet"
           }
          ],
          "heatmap": [
           {
            "colorbar": {
             "outlinewidth": 0,
             "ticks": ""
            },
            "colorscale": [
             [
              0,
              "#0d0887"
             ],
             [
              0.1111111111111111,
              "#46039f"
             ],
             [
              0.2222222222222222,
              "#7201a8"
             ],
             [
              0.3333333333333333,
              "#9c179e"
             ],
             [
              0.4444444444444444,
              "#bd3786"
             ],
             [
              0.5555555555555556,
              "#d8576b"
             ],
             [
              0.6666666666666666,
              "#ed7953"
             ],
             [
              0.7777777777777778,
              "#fb9f3a"
             ],
             [
              0.8888888888888888,
              "#fdca26"
             ],
             [
              1,
              "#f0f921"
             ]
            ],
            "type": "heatmap"
           }
          ],
          "heatmapgl": [
           {
            "colorbar": {
             "outlinewidth": 0,
             "ticks": ""
            },
            "colorscale": [
             [
              0,
              "#0d0887"
             ],
             [
              0.1111111111111111,
              "#46039f"
             ],
             [
              0.2222222222222222,
              "#7201a8"
             ],
             [
              0.3333333333333333,
              "#9c179e"
             ],
             [
              0.4444444444444444,
              "#bd3786"
             ],
             [
              0.5555555555555556,
              "#d8576b"
             ],
             [
              0.6666666666666666,
              "#ed7953"
             ],
             [
              0.7777777777777778,
              "#fb9f3a"
             ],
             [
              0.8888888888888888,
              "#fdca26"
             ],
             [
              1,
              "#f0f921"
             ]
            ],
            "type": "heatmapgl"
           }
          ],
          "histogram": [
           {
            "marker": {
             "colorbar": {
              "outlinewidth": 0,
              "ticks": ""
             }
            },
            "type": "histogram"
           }
          ],
          "histogram2d": [
           {
            "colorbar": {
             "outlinewidth": 0,
             "ticks": ""
            },
            "colorscale": [
             [
              0,
              "#0d0887"
             ],
             [
              0.1111111111111111,
              "#46039f"
             ],
             [
              0.2222222222222222,
              "#7201a8"
             ],
             [
              0.3333333333333333,
              "#9c179e"
             ],
             [
              0.4444444444444444,
              "#bd3786"
             ],
             [
              0.5555555555555556,
              "#d8576b"
             ],
             [
              0.6666666666666666,
              "#ed7953"
             ],
             [
              0.7777777777777778,
              "#fb9f3a"
             ],
             [
              0.8888888888888888,
              "#fdca26"
             ],
             [
              1,
              "#f0f921"
             ]
            ],
            "type": "histogram2d"
           }
          ],
          "histogram2dcontour": [
           {
            "colorbar": {
             "outlinewidth": 0,
             "ticks": ""
            },
            "colorscale": [
             [
              0,
              "#0d0887"
             ],
             [
              0.1111111111111111,
              "#46039f"
             ],
             [
              0.2222222222222222,
              "#7201a8"
             ],
             [
              0.3333333333333333,
              "#9c179e"
             ],
             [
              0.4444444444444444,
              "#bd3786"
             ],
             [
              0.5555555555555556,
              "#d8576b"
             ],
             [
              0.6666666666666666,
              "#ed7953"
             ],
             [
              0.7777777777777778,
              "#fb9f3a"
             ],
             [
              0.8888888888888888,
              "#fdca26"
             ],
             [
              1,
              "#f0f921"
             ]
            ],
            "type": "histogram2dcontour"
           }
          ],
          "mesh3d": [
           {
            "colorbar": {
             "outlinewidth": 0,
             "ticks": ""
            },
            "type": "mesh3d"
           }
          ],
          "parcoords": [
           {
            "line": {
             "colorbar": {
              "outlinewidth": 0,
              "ticks": ""
             }
            },
            "type": "parcoords"
           }
          ],
          "pie": [
           {
            "automargin": true,
            "type": "pie"
           }
          ],
          "scatter": [
           {
            "marker": {
             "colorbar": {
              "outlinewidth": 0,
              "ticks": ""
             }
            },
            "type": "scatter"
           }
          ],
          "scatter3d": [
           {
            "line": {
             "colorbar": {
              "outlinewidth": 0,
              "ticks": ""
             }
            },
            "marker": {
             "colorbar": {
              "outlinewidth": 0,
              "ticks": ""
             }
            },
            "type": "scatter3d"
           }
          ],
          "scattercarpet": [
           {
            "marker": {
             "colorbar": {
              "outlinewidth": 0,
              "ticks": ""
             }
            },
            "type": "scattercarpet"
           }
          ],
          "scattergeo": [
           {
            "marker": {
             "colorbar": {
              "outlinewidth": 0,
              "ticks": ""
             }
            },
            "type": "scattergeo"
           }
          ],
          "scattergl": [
           {
            "marker": {
             "colorbar": {
              "outlinewidth": 0,
              "ticks": ""
             }
            },
            "type": "scattergl"
           }
          ],
          "scattermapbox": [
           {
            "marker": {
             "colorbar": {
              "outlinewidth": 0,
              "ticks": ""
             }
            },
            "type": "scattermapbox"
           }
          ],
          "scatterpolar": [
           {
            "marker": {
             "colorbar": {
              "outlinewidth": 0,
              "ticks": ""
             }
            },
            "type": "scatterpolar"
           }
          ],
          "scatterpolargl": [
           {
            "marker": {
             "colorbar": {
              "outlinewidth": 0,
              "ticks": ""
             }
            },
            "type": "scatterpolargl"
           }
          ],
          "scatterternary": [
           {
            "marker": {
             "colorbar": {
              "outlinewidth": 0,
              "ticks": ""
             }
            },
            "type": "scatterternary"
           }
          ],
          "surface": [
           {
            "colorbar": {
             "outlinewidth": 0,
             "ticks": ""
            },
            "colorscale": [
             [
              0,
              "#0d0887"
             ],
             [
              0.1111111111111111,
              "#46039f"
             ],
             [
              0.2222222222222222,
              "#7201a8"
             ],
             [
              0.3333333333333333,
              "#9c179e"
             ],
             [
              0.4444444444444444,
              "#bd3786"
             ],
             [
              0.5555555555555556,
              "#d8576b"
             ],
             [
              0.6666666666666666,
              "#ed7953"
             ],
             [
              0.7777777777777778,
              "#fb9f3a"
             ],
             [
              0.8888888888888888,
              "#fdca26"
             ],
             [
              1,
              "#f0f921"
             ]
            ],
            "type": "surface"
           }
          ],
          "table": [
           {
            "cells": {
             "fill": {
              "color": "#EBF0F8"
             },
             "line": {
              "color": "white"
             }
            },
            "header": {
             "fill": {
              "color": "#C8D4E3"
             },
             "line": {
              "color": "white"
             }
            },
            "type": "table"
           }
          ]
         },
         "layout": {
          "annotationdefaults": {
           "arrowcolor": "#2a3f5f",
           "arrowhead": 0,
           "arrowwidth": 1
          },
          "autotypenumbers": "strict",
          "coloraxis": {
           "colorbar": {
            "outlinewidth": 0,
            "ticks": ""
           }
          },
          "colorscale": {
           "diverging": [
            [
             0,
             "#8e0152"
            ],
            [
             0.1,
             "#c51b7d"
            ],
            [
             0.2,
             "#de77ae"
            ],
            [
             0.3,
             "#f1b6da"
            ],
            [
             0.4,
             "#fde0ef"
            ],
            [
             0.5,
             "#f7f7f7"
            ],
            [
             0.6,
             "#e6f5d0"
            ],
            [
             0.7,
             "#b8e186"
            ],
            [
             0.8,
             "#7fbc41"
            ],
            [
             0.9,
             "#4d9221"
            ],
            [
             1,
             "#276419"
            ]
           ],
           "sequential": [
            [
             0,
             "#0d0887"
            ],
            [
             0.1111111111111111,
             "#46039f"
            ],
            [
             0.2222222222222222,
             "#7201a8"
            ],
            [
             0.3333333333333333,
             "#9c179e"
            ],
            [
             0.4444444444444444,
             "#bd3786"
            ],
            [
             0.5555555555555556,
             "#d8576b"
            ],
            [
             0.6666666666666666,
             "#ed7953"
            ],
            [
             0.7777777777777778,
             "#fb9f3a"
            ],
            [
             0.8888888888888888,
             "#fdca26"
            ],
            [
             1,
             "#f0f921"
            ]
           ],
           "sequentialminus": [
            [
             0,
             "#0d0887"
            ],
            [
             0.1111111111111111,
             "#46039f"
            ],
            [
             0.2222222222222222,
             "#7201a8"
            ],
            [
             0.3333333333333333,
             "#9c179e"
            ],
            [
             0.4444444444444444,
             "#bd3786"
            ],
            [
             0.5555555555555556,
             "#d8576b"
            ],
            [
             0.6666666666666666,
             "#ed7953"
            ],
            [
             0.7777777777777778,
             "#fb9f3a"
            ],
            [
             0.8888888888888888,
             "#fdca26"
            ],
            [
             1,
             "#f0f921"
            ]
           ]
          },
          "colorway": [
           "#636efa",
           "#EF553B",
           "#00cc96",
           "#ab63fa",
           "#FFA15A",
           "#19d3f3",
           "#FF6692",
           "#B6E880",
           "#FF97FF",
           "#FECB52"
          ],
          "font": {
           "color": "#2a3f5f"
          },
          "geo": {
           "bgcolor": "white",
           "lakecolor": "white",
           "landcolor": "#E5ECF6",
           "showlakes": true,
           "showland": true,
           "subunitcolor": "white"
          },
          "hoverlabel": {
           "align": "left"
          },
          "hovermode": "closest",
          "mapbox": {
           "style": "light"
          },
          "paper_bgcolor": "white",
          "plot_bgcolor": "#E5ECF6",
          "polar": {
           "angularaxis": {
            "gridcolor": "white",
            "linecolor": "white",
            "ticks": ""
           },
           "bgcolor": "#E5ECF6",
           "radialaxis": {
            "gridcolor": "white",
            "linecolor": "white",
            "ticks": ""
           }
          },
          "scene": {
           "xaxis": {
            "backgroundcolor": "#E5ECF6",
            "gridcolor": "white",
            "gridwidth": 2,
            "linecolor": "white",
            "showbackground": true,
            "ticks": "",
            "zerolinecolor": "white"
           },
           "yaxis": {
            "backgroundcolor": "#E5ECF6",
            "gridcolor": "white",
            "gridwidth": 2,
            "linecolor": "white",
            "showbackground": true,
            "ticks": "",
            "zerolinecolor": "white"
           },
           "zaxis": {
            "backgroundcolor": "#E5ECF6",
            "gridcolor": "white",
            "gridwidth": 2,
            "linecolor": "white",
            "showbackground": true,
            "ticks": "",
            "zerolinecolor": "white"
           }
          },
          "shapedefaults": {
           "line": {
            "color": "#2a3f5f"
           }
          },
          "ternary": {
           "aaxis": {
            "gridcolor": "white",
            "linecolor": "white",
            "ticks": ""
           },
           "baxis": {
            "gridcolor": "white",
            "linecolor": "white",
            "ticks": ""
           },
           "bgcolor": "#E5ECF6",
           "caxis": {
            "gridcolor": "white",
            "linecolor": "white",
            "ticks": ""
           }
          },
          "title": {
           "x": 0.05
          },
          "xaxis": {
           "automargin": true,
           "gridcolor": "white",
           "linecolor": "white",
           "ticks": "",
           "title": {
            "standoff": 15
           },
           "zerolinecolor": "white",
           "zerolinewidth": 2
          },
          "yaxis": {
           "automargin": true,
           "gridcolor": "white",
           "linecolor": "white",
           "ticks": "",
           "title": {
            "standoff": 15
           },
           "zerolinecolor": "white",
           "zerolinewidth": 2
          }
         }
        },
        "title": {
         "text": "Доля правильно расшифрованных символов при разном числе n-грамм"
        },
        "xaxis": {
         "anchor": "y",
         "domain": [
          0,
          1
         ],
         "title": {
          "text": "accuracy"
         }
        },
        "xaxis2": {
         "anchor": "y2",
         "domain": [
          0,
          1
         ],
         "matches": "x",
         "showgrid": true,
         "showticklabels": false
        },
        "yaxis": {
         "anchor": "x",
         "domain": [
          0,
          0.7326
         ],
         "title": {
          "text": "count"
         }
        },
        "yaxis2": {
         "anchor": "x2",
         "domain": [
          0.7426,
          1
         ],
         "matches": "y2",
         "showgrid": false,
         "showline": false,
         "showticklabels": false,
         "ticks": ""
        }
       }
      }
     },
     "metadata": {}
    }
   ],
   "source": [
    "ex.histogram(metric_data, x=\"accuracy\", color=\"n_gram\", marginal=\"box\", title=\"Доля правильно расшифрованных символов при разном числе n-грамм\")"
   ]
  },
  {
   "source": [
    "Как правило, при увеличении длины текста качество также растёт. Это связано с тем что становится доступно больше статистики о распределение символов в закодированном тексте и соответственно можно более точно сопоставить с распределением слов в базовом корпусе."
   ],
   "cell_type": "markdown",
   "metadata": {}
  },
  {
   "cell_type": "code",
   "execution_count": 98,
   "metadata": {},
   "outputs": [],
   "source": [
    "text_acc = metric_data.groupby([\"text_length\", \"n_gram\"], as_index=False).agg({\"accuracy\": \"mean\"})\n",
    "text_acc[\"n_gram\"] = text_acc[\"n_gram\"].astype(str)"
   ]
  },
  {
   "cell_type": "code",
   "execution_count": 99,
   "metadata": {},
   "outputs": [
    {
     "output_type": "display_data",
     "data": {
      "application/vnd.plotly.v1+json": {
       "config": {
        "plotlyServerURL": "https://plot.ly"
       },
       "data": [
        {
         "hovertemplate": "n_gram=2<br>text_length=%{x}<br>accuracy=%{y}<extra></extra>",
         "legendgroup": "2",
         "marker": {
          "color": "#636efa",
          "symbol": "circle"
         },
         "mode": "markers",
         "name": "2",
         "orientation": "v",
         "showlegend": true,
         "type": "scatter",
         "x": [
          41,
          301,
          371,
          694,
          709,
          772,
          981,
          1201,
          1473,
          2168
         ],
         "xaxis": "x",
         "y": [
          0.07320261437908493,
          0.20718954248366006,
          0.33660130718954234,
          0.434640522875817,
          0.5640522875816995,
          0.2137254901960784,
          0.5078431372549018,
          0.5398692810457516,
          0.5679738562091503,
          0.4843137254901962
         ],
         "yaxis": "y"
        },
        {
         "hovertemplate": "n_gram=3<br>text_length=%{x}<br>accuracy=%{y}<extra></extra>",
         "legendgroup": "3",
         "marker": {
          "color": "#EF553B",
          "symbol": "circle"
         },
         "mode": "markers",
         "name": "3",
         "orientation": "v",
         "showlegend": true,
         "type": "scatter",
         "x": [
          41,
          301,
          371,
          694,
          709,
          772,
          981,
          1201,
          1473,
          2168
         ],
         "xaxis": "x",
         "y": [
          0.07516339869281038,
          0.2457516339869281,
          0.4052287581699347,
          0.33202614379084955,
          0.3915032679738561,
          0.3313725490196077,
          0.380392156862745,
          0.4823529411764707,
          0.5921568627450982,
          0.5470588235294119
         ],
         "yaxis": "y"
        },
        {
         "hovertemplate": "n_gram=4<br>text_length=%{x}<br>accuracy=%{y}<extra></extra>",
         "legendgroup": "4",
         "marker": {
          "color": "#00cc96",
          "symbol": "circle"
         },
         "mode": "markers",
         "name": "4",
         "orientation": "v",
         "showlegend": true,
         "type": "scatter",
         "x": [
          41,
          301,
          371,
          694,
          709,
          772,
          981,
          1201,
          1473,
          2168
         ],
         "xaxis": "x",
         "y": [
          0.06732026143790844,
          0.10588235294117641,
          0.21176470588235283,
          0.35294117647058815,
          0.3490196078431372,
          0.19999999999999987,
          0.3470588235294117,
          0.42875816993464055,
          0.37385620915032675,
          0.5405228758169937
         ],
         "yaxis": "y"
        }
       ],
       "layout": {
        "legend": {
         "title": {
          "text": "n_gram"
         },
         "tracegroupgap": 0
        },
        "template": {
         "data": {
          "bar": [
           {
            "error_x": {
             "color": "#2a3f5f"
            },
            "error_y": {
             "color": "#2a3f5f"
            },
            "marker": {
             "line": {
              "color": "#E5ECF6",
              "width": 0.5
             }
            },
            "type": "bar"
           }
          ],
          "barpolar": [
           {
            "marker": {
             "line": {
              "color": "#E5ECF6",
              "width": 0.5
             }
            },
            "type": "barpolar"
           }
          ],
          "carpet": [
           {
            "aaxis": {
             "endlinecolor": "#2a3f5f",
             "gridcolor": "white",
             "linecolor": "white",
             "minorgridcolor": "white",
             "startlinecolor": "#2a3f5f"
            },
            "baxis": {
             "endlinecolor": "#2a3f5f",
             "gridcolor": "white",
             "linecolor": "white",
             "minorgridcolor": "white",
             "startlinecolor": "#2a3f5f"
            },
            "type": "carpet"
           }
          ],
          "choropleth": [
           {
            "colorbar": {
             "outlinewidth": 0,
             "ticks": ""
            },
            "type": "choropleth"
           }
          ],
          "contour": [
           {
            "colorbar": {
             "outlinewidth": 0,
             "ticks": ""
            },
            "colorscale": [
             [
              0,
              "#0d0887"
             ],
             [
              0.1111111111111111,
              "#46039f"
             ],
             [
              0.2222222222222222,
              "#7201a8"
             ],
             [
              0.3333333333333333,
              "#9c179e"
             ],
             [
              0.4444444444444444,
              "#bd3786"
             ],
             [
              0.5555555555555556,
              "#d8576b"
             ],
             [
              0.6666666666666666,
              "#ed7953"
             ],
             [
              0.7777777777777778,
              "#fb9f3a"
             ],
             [
              0.8888888888888888,
              "#fdca26"
             ],
             [
              1,
              "#f0f921"
             ]
            ],
            "type": "contour"
           }
          ],
          "contourcarpet": [
           {
            "colorbar": {
             "outlinewidth": 0,
             "ticks": ""
            },
            "type": "contourcarpet"
           }
          ],
          "heatmap": [
           {
            "colorbar": {
             "outlinewidth": 0,
             "ticks": ""
            },
            "colorscale": [
             [
              0,
              "#0d0887"
             ],
             [
              0.1111111111111111,
              "#46039f"
             ],
             [
              0.2222222222222222,
              "#7201a8"
             ],
             [
              0.3333333333333333,
              "#9c179e"
             ],
             [
              0.4444444444444444,
              "#bd3786"
             ],
             [
              0.5555555555555556,
              "#d8576b"
             ],
             [
              0.6666666666666666,
              "#ed7953"
             ],
             [
              0.7777777777777778,
              "#fb9f3a"
             ],
             [
              0.8888888888888888,
              "#fdca26"
             ],
             [
              1,
              "#f0f921"
             ]
            ],
            "type": "heatmap"
           }
          ],
          "heatmapgl": [
           {
            "colorbar": {
             "outlinewidth": 0,
             "ticks": ""
            },
            "colorscale": [
             [
              0,
              "#0d0887"
             ],
             [
              0.1111111111111111,
              "#46039f"
             ],
             [
              0.2222222222222222,
              "#7201a8"
             ],
             [
              0.3333333333333333,
              "#9c179e"
             ],
             [
              0.4444444444444444,
              "#bd3786"
             ],
             [
              0.5555555555555556,
              "#d8576b"
             ],
             [
              0.6666666666666666,
              "#ed7953"
             ],
             [
              0.7777777777777778,
              "#fb9f3a"
             ],
             [
              0.8888888888888888,
              "#fdca26"
             ],
             [
              1,
              "#f0f921"
             ]
            ],
            "type": "heatmapgl"
           }
          ],
          "histogram": [
           {
            "marker": {
             "colorbar": {
              "outlinewidth": 0,
              "ticks": ""
             }
            },
            "type": "histogram"
           }
          ],
          "histogram2d": [
           {
            "colorbar": {
             "outlinewidth": 0,
             "ticks": ""
            },
            "colorscale": [
             [
              0,
              "#0d0887"
             ],
             [
              0.1111111111111111,
              "#46039f"
             ],
             [
              0.2222222222222222,
              "#7201a8"
             ],
             [
              0.3333333333333333,
              "#9c179e"
             ],
             [
              0.4444444444444444,
              "#bd3786"
             ],
             [
              0.5555555555555556,
              "#d8576b"
             ],
             [
              0.6666666666666666,
              "#ed7953"
             ],
             [
              0.7777777777777778,
              "#fb9f3a"
             ],
             [
              0.8888888888888888,
              "#fdca26"
             ],
             [
              1,
              "#f0f921"
             ]
            ],
            "type": "histogram2d"
           }
          ],
          "histogram2dcontour": [
           {
            "colorbar": {
             "outlinewidth": 0,
             "ticks": ""
            },
            "colorscale": [
             [
              0,
              "#0d0887"
             ],
             [
              0.1111111111111111,
              "#46039f"
             ],
             [
              0.2222222222222222,
              "#7201a8"
             ],
             [
              0.3333333333333333,
              "#9c179e"
             ],
             [
              0.4444444444444444,
              "#bd3786"
             ],
             [
              0.5555555555555556,
              "#d8576b"
             ],
             [
              0.6666666666666666,
              "#ed7953"
             ],
             [
              0.7777777777777778,
              "#fb9f3a"
             ],
             [
              0.8888888888888888,
              "#fdca26"
             ],
             [
              1,
              "#f0f921"
             ]
            ],
            "type": "histogram2dcontour"
           }
          ],
          "mesh3d": [
           {
            "colorbar": {
             "outlinewidth": 0,
             "ticks": ""
            },
            "type": "mesh3d"
           }
          ],
          "parcoords": [
           {
            "line": {
             "colorbar": {
              "outlinewidth": 0,
              "ticks": ""
             }
            },
            "type": "parcoords"
           }
          ],
          "pie": [
           {
            "automargin": true,
            "type": "pie"
           }
          ],
          "scatter": [
           {
            "marker": {
             "colorbar": {
              "outlinewidth": 0,
              "ticks": ""
             }
            },
            "type": "scatter"
           }
          ],
          "scatter3d": [
           {
            "line": {
             "colorbar": {
              "outlinewidth": 0,
              "ticks": ""
             }
            },
            "marker": {
             "colorbar": {
              "outlinewidth": 0,
              "ticks": ""
             }
            },
            "type": "scatter3d"
           }
          ],
          "scattercarpet": [
           {
            "marker": {
             "colorbar": {
              "outlinewidth": 0,
              "ticks": ""
             }
            },
            "type": "scattercarpet"
           }
          ],
          "scattergeo": [
           {
            "marker": {
             "colorbar": {
              "outlinewidth": 0,
              "ticks": ""
             }
            },
            "type": "scattergeo"
           }
          ],
          "scattergl": [
           {
            "marker": {
             "colorbar": {
              "outlinewidth": 0,
              "ticks": ""
             }
            },
            "type": "scattergl"
           }
          ],
          "scattermapbox": [
           {
            "marker": {
             "colorbar": {
              "outlinewidth": 0,
              "ticks": ""
             }
            },
            "type": "scattermapbox"
           }
          ],
          "scatterpolar": [
           {
            "marker": {
             "colorbar": {
              "outlinewidth": 0,
              "ticks": ""
             }
            },
            "type": "scatterpolar"
           }
          ],
          "scatterpolargl": [
           {
            "marker": {
             "colorbar": {
              "outlinewidth": 0,
              "ticks": ""
             }
            },
            "type": "scatterpolargl"
           }
          ],
          "scatterternary": [
           {
            "marker": {
             "colorbar": {
              "outlinewidth": 0,
              "ticks": ""
             }
            },
            "type": "scatterternary"
           }
          ],
          "surface": [
           {
            "colorbar": {
             "outlinewidth": 0,
             "ticks": ""
            },
            "colorscale": [
             [
              0,
              "#0d0887"
             ],
             [
              0.1111111111111111,
              "#46039f"
             ],
             [
              0.2222222222222222,
              "#7201a8"
             ],
             [
              0.3333333333333333,
              "#9c179e"
             ],
             [
              0.4444444444444444,
              "#bd3786"
             ],
             [
              0.5555555555555556,
              "#d8576b"
             ],
             [
              0.6666666666666666,
              "#ed7953"
             ],
             [
              0.7777777777777778,
              "#fb9f3a"
             ],
             [
              0.8888888888888888,
              "#fdca26"
             ],
             [
              1,
              "#f0f921"
             ]
            ],
            "type": "surface"
           }
          ],
          "table": [
           {
            "cells": {
             "fill": {
              "color": "#EBF0F8"
             },
             "line": {
              "color": "white"
             }
            },
            "header": {
             "fill": {
              "color": "#C8D4E3"
             },
             "line": {
              "color": "white"
             }
            },
            "type": "table"
           }
          ]
         },
         "layout": {
          "annotationdefaults": {
           "arrowcolor": "#2a3f5f",
           "arrowhead": 0,
           "arrowwidth": 1
          },
          "autotypenumbers": "strict",
          "coloraxis": {
           "colorbar": {
            "outlinewidth": 0,
            "ticks": ""
           }
          },
          "colorscale": {
           "diverging": [
            [
             0,
             "#8e0152"
            ],
            [
             0.1,
             "#c51b7d"
            ],
            [
             0.2,
             "#de77ae"
            ],
            [
             0.3,
             "#f1b6da"
            ],
            [
             0.4,
             "#fde0ef"
            ],
            [
             0.5,
             "#f7f7f7"
            ],
            [
             0.6,
             "#e6f5d0"
            ],
            [
             0.7,
             "#b8e186"
            ],
            [
             0.8,
             "#7fbc41"
            ],
            [
             0.9,
             "#4d9221"
            ],
            [
             1,
             "#276419"
            ]
           ],
           "sequential": [
            [
             0,
             "#0d0887"
            ],
            [
             0.1111111111111111,
             "#46039f"
            ],
            [
             0.2222222222222222,
             "#7201a8"
            ],
            [
             0.3333333333333333,
             "#9c179e"
            ],
            [
             0.4444444444444444,
             "#bd3786"
            ],
            [
             0.5555555555555556,
             "#d8576b"
            ],
            [
             0.6666666666666666,
             "#ed7953"
            ],
            [
             0.7777777777777778,
             "#fb9f3a"
            ],
            [
             0.8888888888888888,
             "#fdca26"
            ],
            [
             1,
             "#f0f921"
            ]
           ],
           "sequentialminus": [
            [
             0,
             "#0d0887"
            ],
            [
             0.1111111111111111,
             "#46039f"
            ],
            [
             0.2222222222222222,
             "#7201a8"
            ],
            [
             0.3333333333333333,
             "#9c179e"
            ],
            [
             0.4444444444444444,
             "#bd3786"
            ],
            [
             0.5555555555555556,
             "#d8576b"
            ],
            [
             0.6666666666666666,
             "#ed7953"
            ],
            [
             0.7777777777777778,
             "#fb9f3a"
            ],
            [
             0.8888888888888888,
             "#fdca26"
            ],
            [
             1,
             "#f0f921"
            ]
           ]
          },
          "colorway": [
           "#636efa",
           "#EF553B",
           "#00cc96",
           "#ab63fa",
           "#FFA15A",
           "#19d3f3",
           "#FF6692",
           "#B6E880",
           "#FF97FF",
           "#FECB52"
          ],
          "font": {
           "color": "#2a3f5f"
          },
          "geo": {
           "bgcolor": "white",
           "lakecolor": "white",
           "landcolor": "#E5ECF6",
           "showlakes": true,
           "showland": true,
           "subunitcolor": "white"
          },
          "hoverlabel": {
           "align": "left"
          },
          "hovermode": "closest",
          "mapbox": {
           "style": "light"
          },
          "paper_bgcolor": "white",
          "plot_bgcolor": "#E5ECF6",
          "polar": {
           "angularaxis": {
            "gridcolor": "white",
            "linecolor": "white",
            "ticks": ""
           },
           "bgcolor": "#E5ECF6",
           "radialaxis": {
            "gridcolor": "white",
            "linecolor": "white",
            "ticks": ""
           }
          },
          "scene": {
           "xaxis": {
            "backgroundcolor": "#E5ECF6",
            "gridcolor": "white",
            "gridwidth": 2,
            "linecolor": "white",
            "showbackground": true,
            "ticks": "",
            "zerolinecolor": "white"
           },
           "yaxis": {
            "backgroundcolor": "#E5ECF6",
            "gridcolor": "white",
            "gridwidth": 2,
            "linecolor": "white",
            "showbackground": true,
            "ticks": "",
            "zerolinecolor": "white"
           },
           "zaxis": {
            "backgroundcolor": "#E5ECF6",
            "gridcolor": "white",
            "gridwidth": 2,
            "linecolor": "white",
            "showbackground": true,
            "ticks": "",
            "zerolinecolor": "white"
           }
          },
          "shapedefaults": {
           "line": {
            "color": "#2a3f5f"
           }
          },
          "ternary": {
           "aaxis": {
            "gridcolor": "white",
            "linecolor": "white",
            "ticks": ""
           },
           "baxis": {
            "gridcolor": "white",
            "linecolor": "white",
            "ticks": ""
           },
           "bgcolor": "#E5ECF6",
           "caxis": {
            "gridcolor": "white",
            "linecolor": "white",
            "ticks": ""
           }
          },
          "title": {
           "x": 0.05
          },
          "xaxis": {
           "automargin": true,
           "gridcolor": "white",
           "linecolor": "white",
           "ticks": "",
           "title": {
            "standoff": 15
           },
           "zerolinecolor": "white",
           "zerolinewidth": 2
          },
          "yaxis": {
           "automargin": true,
           "gridcolor": "white",
           "linecolor": "white",
           "ticks": "",
           "title": {
            "standoff": 15
           },
           "zerolinecolor": "white",
           "zerolinewidth": 2
          }
         }
        },
        "title": {
         "text": "Значение средней точности расшифровки символов от длины текста"
        },
        "xaxis": {
         "anchor": "y",
         "domain": [
          0,
          1
         ],
         "title": {
          "text": "text_length"
         }
        },
        "yaxis": {
         "anchor": "x",
         "domain": [
          0,
          1
         ],
         "title": {
          "text": "accuracy"
         }
        }
       }
      }
     },
     "metadata": {}
    }
   ],
   "source": [
    "ex.scatter(text_acc, x=\"text_length\", y=\"accuracy\", color=\"n_gram\", title=\"Значение средней точности расшифровки символов от длины текста\")"
   ]
  },
  {
   "source": [
    "При небольшом числе итераций в среднем триграммы показывают себя лучше биграмм. При увеличении числа итераций точность растёт, хотя для n-грамм при $n=4$ наблюдается просадка по точности."
   ],
   "cell_type": "markdown",
   "metadata": {}
  },
  {
   "cell_type": "code",
   "execution_count": 101,
   "metadata": {},
   "outputs": [],
   "source": [
    "num_iter = metric_data.groupby([\"num_iter\", \"n_gram\"], as_index=False).agg({\"accuracy\": \"mean\"})\n",
    "num_iter[\"n_gram\"] = num_iter[\"n_gram\"].astype(str)"
   ]
  },
  {
   "cell_type": "code",
   "execution_count": 102,
   "metadata": {},
   "outputs": [
    {
     "output_type": "display_data",
     "data": {
      "application/vnd.plotly.v1+json": {
       "config": {
        "plotlyServerURL": "https://plot.ly"
       },
       "data": [
        {
         "hovertemplate": "n_gram=2<br>num_iter=%{x}<br>accuracy=%{y}<extra></extra>",
         "legendgroup": "2",
         "marker": {
          "color": "#636efa",
          "symbol": "circle"
         },
         "mode": "markers",
         "name": "2",
         "orientation": "v",
         "showlegend": true,
         "type": "scatter",
         "x": [
          2000,
          5000,
          10000
         ],
         "xaxis": "x",
         "y": [
          0.3715686274509804,
          0.38156862745098075,
          0.42568627450980395
         ],
         "yaxis": "y"
        },
        {
         "hovertemplate": "n_gram=3<br>num_iter=%{x}<br>accuracy=%{y}<extra></extra>",
         "legendgroup": "3",
         "marker": {
          "color": "#EF553B",
          "symbol": "circle"
         },
         "mode": "markers",
         "name": "3",
         "orientation": "v",
         "showlegend": true,
         "type": "scatter",
         "x": [
          2000,
          5000,
          10000
         ],
         "xaxis": "x",
         "y": [
          0.38960784313725516,
          0.32607843137254916,
          0.41921568627450995
         ],
         "yaxis": "y"
        },
        {
         "hovertemplate": "n_gram=4<br>num_iter=%{x}<br>accuracy=%{y}<extra></extra>",
         "legendgroup": "4",
         "marker": {
          "color": "#00cc96",
          "symbol": "circle"
         },
         "mode": "markers",
         "name": "4",
         "orientation": "v",
         "showlegend": true,
         "type": "scatter",
         "x": [
          2000,
          5000,
          10000
         ],
         "xaxis": "x",
         "y": [
          0.23549019607843164,
          0.33039215686274565,
          0.32725490196078455
         ],
         "yaxis": "y"
        }
       ],
       "layout": {
        "legend": {
         "title": {
          "text": "n_gram"
         },
         "tracegroupgap": 0
        },
        "template": {
         "data": {
          "bar": [
           {
            "error_x": {
             "color": "#2a3f5f"
            },
            "error_y": {
             "color": "#2a3f5f"
            },
            "marker": {
             "line": {
              "color": "#E5ECF6",
              "width": 0.5
             }
            },
            "type": "bar"
           }
          ],
          "barpolar": [
           {
            "marker": {
             "line": {
              "color": "#E5ECF6",
              "width": 0.5
             }
            },
            "type": "barpolar"
           }
          ],
          "carpet": [
           {
            "aaxis": {
             "endlinecolor": "#2a3f5f",
             "gridcolor": "white",
             "linecolor": "white",
             "minorgridcolor": "white",
             "startlinecolor": "#2a3f5f"
            },
            "baxis": {
             "endlinecolor": "#2a3f5f",
             "gridcolor": "white",
             "linecolor": "white",
             "minorgridcolor": "white",
             "startlinecolor": "#2a3f5f"
            },
            "type": "carpet"
           }
          ],
          "choropleth": [
           {
            "colorbar": {
             "outlinewidth": 0,
             "ticks": ""
            },
            "type": "choropleth"
           }
          ],
          "contour": [
           {
            "colorbar": {
             "outlinewidth": 0,
             "ticks": ""
            },
            "colorscale": [
             [
              0,
              "#0d0887"
             ],
             [
              0.1111111111111111,
              "#46039f"
             ],
             [
              0.2222222222222222,
              "#7201a8"
             ],
             [
              0.3333333333333333,
              "#9c179e"
             ],
             [
              0.4444444444444444,
              "#bd3786"
             ],
             [
              0.5555555555555556,
              "#d8576b"
             ],
             [
              0.6666666666666666,
              "#ed7953"
             ],
             [
              0.7777777777777778,
              "#fb9f3a"
             ],
             [
              0.8888888888888888,
              "#fdca26"
             ],
             [
              1,
              "#f0f921"
             ]
            ],
            "type": "contour"
           }
          ],
          "contourcarpet": [
           {
            "colorbar": {
             "outlinewidth": 0,
             "ticks": ""
            },
            "type": "contourcarpet"
           }
          ],
          "heatmap": [
           {
            "colorbar": {
             "outlinewidth": 0,
             "ticks": ""
            },
            "colorscale": [
             [
              0,
              "#0d0887"
             ],
             [
              0.1111111111111111,
              "#46039f"
             ],
             [
              0.2222222222222222,
              "#7201a8"
             ],
             [
              0.3333333333333333,
              "#9c179e"
             ],
             [
              0.4444444444444444,
              "#bd3786"
             ],
             [
              0.5555555555555556,
              "#d8576b"
             ],
             [
              0.6666666666666666,
              "#ed7953"
             ],
             [
              0.7777777777777778,
              "#fb9f3a"
             ],
             [
              0.8888888888888888,
              "#fdca26"
             ],
             [
              1,
              "#f0f921"
             ]
            ],
            "type": "heatmap"
           }
          ],
          "heatmapgl": [
           {
            "colorbar": {
             "outlinewidth": 0,
             "ticks": ""
            },
            "colorscale": [
             [
              0,
              "#0d0887"
             ],
             [
              0.1111111111111111,
              "#46039f"
             ],
             [
              0.2222222222222222,
              "#7201a8"
             ],
             [
              0.3333333333333333,
              "#9c179e"
             ],
             [
              0.4444444444444444,
              "#bd3786"
             ],
             [
              0.5555555555555556,
              "#d8576b"
             ],
             [
              0.6666666666666666,
              "#ed7953"
             ],
             [
              0.7777777777777778,
              "#fb9f3a"
             ],
             [
              0.8888888888888888,
              "#fdca26"
             ],
             [
              1,
              "#f0f921"
             ]
            ],
            "type": "heatmapgl"
           }
          ],
          "histogram": [
           {
            "marker": {
             "colorbar": {
              "outlinewidth": 0,
              "ticks": ""
             }
            },
            "type": "histogram"
           }
          ],
          "histogram2d": [
           {
            "colorbar": {
             "outlinewidth": 0,
             "ticks": ""
            },
            "colorscale": [
             [
              0,
              "#0d0887"
             ],
             [
              0.1111111111111111,
              "#46039f"
             ],
             [
              0.2222222222222222,
              "#7201a8"
             ],
             [
              0.3333333333333333,
              "#9c179e"
             ],
             [
              0.4444444444444444,
              "#bd3786"
             ],
             [
              0.5555555555555556,
              "#d8576b"
             ],
             [
              0.6666666666666666,
              "#ed7953"
             ],
             [
              0.7777777777777778,
              "#fb9f3a"
             ],
             [
              0.8888888888888888,
              "#fdca26"
             ],
             [
              1,
              "#f0f921"
             ]
            ],
            "type": "histogram2d"
           }
          ],
          "histogram2dcontour": [
           {
            "colorbar": {
             "outlinewidth": 0,
             "ticks": ""
            },
            "colorscale": [
             [
              0,
              "#0d0887"
             ],
             [
              0.1111111111111111,
              "#46039f"
             ],
             [
              0.2222222222222222,
              "#7201a8"
             ],
             [
              0.3333333333333333,
              "#9c179e"
             ],
             [
              0.4444444444444444,
              "#bd3786"
             ],
             [
              0.5555555555555556,
              "#d8576b"
             ],
             [
              0.6666666666666666,
              "#ed7953"
             ],
             [
              0.7777777777777778,
              "#fb9f3a"
             ],
             [
              0.8888888888888888,
              "#fdca26"
             ],
             [
              1,
              "#f0f921"
             ]
            ],
            "type": "histogram2dcontour"
           }
          ],
          "mesh3d": [
           {
            "colorbar": {
             "outlinewidth": 0,
             "ticks": ""
            },
            "type": "mesh3d"
           }
          ],
          "parcoords": [
           {
            "line": {
             "colorbar": {
              "outlinewidth": 0,
              "ticks": ""
             }
            },
            "type": "parcoords"
           }
          ],
          "pie": [
           {
            "automargin": true,
            "type": "pie"
           }
          ],
          "scatter": [
           {
            "marker": {
             "colorbar": {
              "outlinewidth": 0,
              "ticks": ""
             }
            },
            "type": "scatter"
           }
          ],
          "scatter3d": [
           {
            "line": {
             "colorbar": {
              "outlinewidth": 0,
              "ticks": ""
             }
            },
            "marker": {
             "colorbar": {
              "outlinewidth": 0,
              "ticks": ""
             }
            },
            "type": "scatter3d"
           }
          ],
          "scattercarpet": [
           {
            "marker": {
             "colorbar": {
              "outlinewidth": 0,
              "ticks": ""
             }
            },
            "type": "scattercarpet"
           }
          ],
          "scattergeo": [
           {
            "marker": {
             "colorbar": {
              "outlinewidth": 0,
              "ticks": ""
             }
            },
            "type": "scattergeo"
           }
          ],
          "scattergl": [
           {
            "marker": {
             "colorbar": {
              "outlinewidth": 0,
              "ticks": ""
             }
            },
            "type": "scattergl"
           }
          ],
          "scattermapbox": [
           {
            "marker": {
             "colorbar": {
              "outlinewidth": 0,
              "ticks": ""
             }
            },
            "type": "scattermapbox"
           }
          ],
          "scatterpolar": [
           {
            "marker": {
             "colorbar": {
              "outlinewidth": 0,
              "ticks": ""
             }
            },
            "type": "scatterpolar"
           }
          ],
          "scatterpolargl": [
           {
            "marker": {
             "colorbar": {
              "outlinewidth": 0,
              "ticks": ""
             }
            },
            "type": "scatterpolargl"
           }
          ],
          "scatterternary": [
           {
            "marker": {
             "colorbar": {
              "outlinewidth": 0,
              "ticks": ""
             }
            },
            "type": "scatterternary"
           }
          ],
          "surface": [
           {
            "colorbar": {
             "outlinewidth": 0,
             "ticks": ""
            },
            "colorscale": [
             [
              0,
              "#0d0887"
             ],
             [
              0.1111111111111111,
              "#46039f"
             ],
             [
              0.2222222222222222,
              "#7201a8"
             ],
             [
              0.3333333333333333,
              "#9c179e"
             ],
             [
              0.4444444444444444,
              "#bd3786"
             ],
             [
              0.5555555555555556,
              "#d8576b"
             ],
             [
              0.6666666666666666,
              "#ed7953"
             ],
             [
              0.7777777777777778,
              "#fb9f3a"
             ],
             [
              0.8888888888888888,
              "#fdca26"
             ],
             [
              1,
              "#f0f921"
             ]
            ],
            "type": "surface"
           }
          ],
          "table": [
           {
            "cells": {
             "fill": {
              "color": "#EBF0F8"
             },
             "line": {
              "color": "white"
             }
            },
            "header": {
             "fill": {
              "color": "#C8D4E3"
             },
             "line": {
              "color": "white"
             }
            },
            "type": "table"
           }
          ]
         },
         "layout": {
          "annotationdefaults": {
           "arrowcolor": "#2a3f5f",
           "arrowhead": 0,
           "arrowwidth": 1
          },
          "autotypenumbers": "strict",
          "coloraxis": {
           "colorbar": {
            "outlinewidth": 0,
            "ticks": ""
           }
          },
          "colorscale": {
           "diverging": [
            [
             0,
             "#8e0152"
            ],
            [
             0.1,
             "#c51b7d"
            ],
            [
             0.2,
             "#de77ae"
            ],
            [
             0.3,
             "#f1b6da"
            ],
            [
             0.4,
             "#fde0ef"
            ],
            [
             0.5,
             "#f7f7f7"
            ],
            [
             0.6,
             "#e6f5d0"
            ],
            [
             0.7,
             "#b8e186"
            ],
            [
             0.8,
             "#7fbc41"
            ],
            [
             0.9,
             "#4d9221"
            ],
            [
             1,
             "#276419"
            ]
           ],
           "sequential": [
            [
             0,
             "#0d0887"
            ],
            [
             0.1111111111111111,
             "#46039f"
            ],
            [
             0.2222222222222222,
             "#7201a8"
            ],
            [
             0.3333333333333333,
             "#9c179e"
            ],
            [
             0.4444444444444444,
             "#bd3786"
            ],
            [
             0.5555555555555556,
             "#d8576b"
            ],
            [
             0.6666666666666666,
             "#ed7953"
            ],
            [
             0.7777777777777778,
             "#fb9f3a"
            ],
            [
             0.8888888888888888,
             "#fdca26"
            ],
            [
             1,
             "#f0f921"
            ]
           ],
           "sequentialminus": [
            [
             0,
             "#0d0887"
            ],
            [
             0.1111111111111111,
             "#46039f"
            ],
            [
             0.2222222222222222,
             "#7201a8"
            ],
            [
             0.3333333333333333,
             "#9c179e"
            ],
            [
             0.4444444444444444,
             "#bd3786"
            ],
            [
             0.5555555555555556,
             "#d8576b"
            ],
            [
             0.6666666666666666,
             "#ed7953"
            ],
            [
             0.7777777777777778,
             "#fb9f3a"
            ],
            [
             0.8888888888888888,
             "#fdca26"
            ],
            [
             1,
             "#f0f921"
            ]
           ]
          },
          "colorway": [
           "#636efa",
           "#EF553B",
           "#00cc96",
           "#ab63fa",
           "#FFA15A",
           "#19d3f3",
           "#FF6692",
           "#B6E880",
           "#FF97FF",
           "#FECB52"
          ],
          "font": {
           "color": "#2a3f5f"
          },
          "geo": {
           "bgcolor": "white",
           "lakecolor": "white",
           "landcolor": "#E5ECF6",
           "showlakes": true,
           "showland": true,
           "subunitcolor": "white"
          },
          "hoverlabel": {
           "align": "left"
          },
          "hovermode": "closest",
          "mapbox": {
           "style": "light"
          },
          "paper_bgcolor": "white",
          "plot_bgcolor": "#E5ECF6",
          "polar": {
           "angularaxis": {
            "gridcolor": "white",
            "linecolor": "white",
            "ticks": ""
           },
           "bgcolor": "#E5ECF6",
           "radialaxis": {
            "gridcolor": "white",
            "linecolor": "white",
            "ticks": ""
           }
          },
          "scene": {
           "xaxis": {
            "backgroundcolor": "#E5ECF6",
            "gridcolor": "white",
            "gridwidth": 2,
            "linecolor": "white",
            "showbackground": true,
            "ticks": "",
            "zerolinecolor": "white"
           },
           "yaxis": {
            "backgroundcolor": "#E5ECF6",
            "gridcolor": "white",
            "gridwidth": 2,
            "linecolor": "white",
            "showbackground": true,
            "ticks": "",
            "zerolinecolor": "white"
           },
           "zaxis": {
            "backgroundcolor": "#E5ECF6",
            "gridcolor": "white",
            "gridwidth": 2,
            "linecolor": "white",
            "showbackground": true,
            "ticks": "",
            "zerolinecolor": "white"
           }
          },
          "shapedefaults": {
           "line": {
            "color": "#2a3f5f"
           }
          },
          "ternary": {
           "aaxis": {
            "gridcolor": "white",
            "linecolor": "white",
            "ticks": ""
           },
           "baxis": {
            "gridcolor": "white",
            "linecolor": "white",
            "ticks": ""
           },
           "bgcolor": "#E5ECF6",
           "caxis": {
            "gridcolor": "white",
            "linecolor": "white",
            "ticks": ""
           }
          },
          "title": {
           "x": 0.05
          },
          "xaxis": {
           "automargin": true,
           "gridcolor": "white",
           "linecolor": "white",
           "ticks": "",
           "title": {
            "standoff": 15
           },
           "zerolinecolor": "white",
           "zerolinewidth": 2
          },
          "yaxis": {
           "automargin": true,
           "gridcolor": "white",
           "linecolor": "white",
           "ticks": "",
           "title": {
            "standoff": 15
           },
           "zerolinecolor": "white",
           "zerolinewidth": 2
          }
         }
        },
        "title": {
         "text": "Значение средней точности расшифровки символов от числа итераций"
        },
        "xaxis": {
         "anchor": "y",
         "domain": [
          0,
          1
         ],
         "title": {
          "text": "num_iter"
         }
        },
        "yaxis": {
         "anchor": "x",
         "domain": [
          0,
          1
         ],
         "title": {
          "text": "accuracy"
         }
        }
       }
      }
     },
     "metadata": {}
    }
   ],
   "source": [
    "ex.scatter(num_iter, x=\"num_iter\", y=\"accuracy\", color=\"n_gram\", title=\"Значение средней точности расшифровки символов от числа итераций\")"
   ]
  },
  {
   "source": [
    "Коэффициент масштабирования $r$ иногда может влиять на результат. В некоторых случаях его увеличение приводит к повышению качества декодирования, но как показано в статьях при дальнейшем увеличении этого параметра качество может упасть. На практике он позволяет контролировать насколько сильно алгоритм будет исследовать новые состояние. В каких-то сложных случаях большие значения могут быть полезны."
   ],
   "cell_type": "markdown",
   "metadata": {}
  },
  {
   "cell_type": "code",
   "execution_count": 104,
   "metadata": {},
   "outputs": [],
   "source": [
    "scaling_acc = metric_data.groupby([\"scaling\", \"n_gram\"], as_index=False).agg({\"accuracy\": \"mean\"})\n",
    "scaling_acc[\"n_gram\"] = scaling_acc[\"n_gram\"].astype(str)"
   ]
  },
  {
   "cell_type": "code",
   "execution_count": 117,
   "metadata": {},
   "outputs": [
    {
     "output_type": "display_data",
     "data": {
      "application/vnd.plotly.v1+json": {
       "config": {
        "plotlyServerURL": "https://plot.ly"
       },
       "data": [
        {
         "hovertemplate": "n_gram=2<br>scaling=%{x}<br>accuracy=%{y}<extra></extra>",
         "legendgroup": "2",
         "marker": {
          "color": "#636efa",
          "symbol": "circle"
         },
         "mode": "markers",
         "name": "2",
         "orientation": "v",
         "showlegend": true,
         "type": "scatter",
         "x": [
          0.5,
          1,
          10
         ],
         "xaxis": "x",
         "y": [
          0.3827450980392158,
          0.39745098039215704,
          0.3986274509803923
         ],
         "yaxis": "y"
        },
        {
         "hovertemplate": "n_gram=3<br>scaling=%{x}<br>accuracy=%{y}<extra></extra>",
         "legendgroup": "3",
         "marker": {
          "color": "#EF553B",
          "symbol": "circle"
         },
         "mode": "markers",
         "name": "3",
         "orientation": "v",
         "showlegend": true,
         "type": "scatter",
         "x": [
          0.5,
          1,
          10
         ],
         "xaxis": "x",
         "y": [
          0.3449019607843139,
          0.3805882352941178,
          0.40941176470588253
         ],
         "yaxis": "y"
        },
        {
         "hovertemplate": "n_gram=4<br>scaling=%{x}<br>accuracy=%{y}<extra></extra>",
         "legendgroup": "4",
         "marker": {
          "color": "#00cc96",
          "symbol": "circle"
         },
         "mode": "markers",
         "name": "4",
         "orientation": "v",
         "showlegend": true,
         "type": "scatter",
         "x": [
          0.5,
          1,
          10
         ],
         "xaxis": "x",
         "y": [
          0.2756862745098044,
          0.25784313725490227,
          0.35960784313725513
         ],
         "yaxis": "y"
        }
       ],
       "layout": {
        "legend": {
         "title": {
          "text": "n_gram"
         },
         "tracegroupgap": 0
        },
        "template": {
         "data": {
          "bar": [
           {
            "error_x": {
             "color": "#2a3f5f"
            },
            "error_y": {
             "color": "#2a3f5f"
            },
            "marker": {
             "line": {
              "color": "#E5ECF6",
              "width": 0.5
             }
            },
            "type": "bar"
           }
          ],
          "barpolar": [
           {
            "marker": {
             "line": {
              "color": "#E5ECF6",
              "width": 0.5
             }
            },
            "type": "barpolar"
           }
          ],
          "carpet": [
           {
            "aaxis": {
             "endlinecolor": "#2a3f5f",
             "gridcolor": "white",
             "linecolor": "white",
             "minorgridcolor": "white",
             "startlinecolor": "#2a3f5f"
            },
            "baxis": {
             "endlinecolor": "#2a3f5f",
             "gridcolor": "white",
             "linecolor": "white",
             "minorgridcolor": "white",
             "startlinecolor": "#2a3f5f"
            },
            "type": "carpet"
           }
          ],
          "choropleth": [
           {
            "colorbar": {
             "outlinewidth": 0,
             "ticks": ""
            },
            "type": "choropleth"
           }
          ],
          "contour": [
           {
            "colorbar": {
             "outlinewidth": 0,
             "ticks": ""
            },
            "colorscale": [
             [
              0,
              "#0d0887"
             ],
             [
              0.1111111111111111,
              "#46039f"
             ],
             [
              0.2222222222222222,
              "#7201a8"
             ],
             [
              0.3333333333333333,
              "#9c179e"
             ],
             [
              0.4444444444444444,
              "#bd3786"
             ],
             [
              0.5555555555555556,
              "#d8576b"
             ],
             [
              0.6666666666666666,
              "#ed7953"
             ],
             [
              0.7777777777777778,
              "#fb9f3a"
             ],
             [
              0.8888888888888888,
              "#fdca26"
             ],
             [
              1,
              "#f0f921"
             ]
            ],
            "type": "contour"
           }
          ],
          "contourcarpet": [
           {
            "colorbar": {
             "outlinewidth": 0,
             "ticks": ""
            },
            "type": "contourcarpet"
           }
          ],
          "heatmap": [
           {
            "colorbar": {
             "outlinewidth": 0,
             "ticks": ""
            },
            "colorscale": [
             [
              0,
              "#0d0887"
             ],
             [
              0.1111111111111111,
              "#46039f"
             ],
             [
              0.2222222222222222,
              "#7201a8"
             ],
             [
              0.3333333333333333,
              "#9c179e"
             ],
             [
              0.4444444444444444,
              "#bd3786"
             ],
             [
              0.5555555555555556,
              "#d8576b"
             ],
             [
              0.6666666666666666,
              "#ed7953"
             ],
             [
              0.7777777777777778,
              "#fb9f3a"
             ],
             [
              0.8888888888888888,
              "#fdca26"
             ],
             [
              1,
              "#f0f921"
             ]
            ],
            "type": "heatmap"
           }
          ],
          "heatmapgl": [
           {
            "colorbar": {
             "outlinewidth": 0,
             "ticks": ""
            },
            "colorscale": [
             [
              0,
              "#0d0887"
             ],
             [
              0.1111111111111111,
              "#46039f"
             ],
             [
              0.2222222222222222,
              "#7201a8"
             ],
             [
              0.3333333333333333,
              "#9c179e"
             ],
             [
              0.4444444444444444,
              "#bd3786"
             ],
             [
              0.5555555555555556,
              "#d8576b"
             ],
             [
              0.6666666666666666,
              "#ed7953"
             ],
             [
              0.7777777777777778,
              "#fb9f3a"
             ],
             [
              0.8888888888888888,
              "#fdca26"
             ],
             [
              1,
              "#f0f921"
             ]
            ],
            "type": "heatmapgl"
           }
          ],
          "histogram": [
           {
            "marker": {
             "colorbar": {
              "outlinewidth": 0,
              "ticks": ""
             }
            },
            "type": "histogram"
           }
          ],
          "histogram2d": [
           {
            "colorbar": {
             "outlinewidth": 0,
             "ticks": ""
            },
            "colorscale": [
             [
              0,
              "#0d0887"
             ],
             [
              0.1111111111111111,
              "#46039f"
             ],
             [
              0.2222222222222222,
              "#7201a8"
             ],
             [
              0.3333333333333333,
              "#9c179e"
             ],
             [
              0.4444444444444444,
              "#bd3786"
             ],
             [
              0.5555555555555556,
              "#d8576b"
             ],
             [
              0.6666666666666666,
              "#ed7953"
             ],
             [
              0.7777777777777778,
              "#fb9f3a"
             ],
             [
              0.8888888888888888,
              "#fdca26"
             ],
             [
              1,
              "#f0f921"
             ]
            ],
            "type": "histogram2d"
           }
          ],
          "histogram2dcontour": [
           {
            "colorbar": {
             "outlinewidth": 0,
             "ticks": ""
            },
            "colorscale": [
             [
              0,
              "#0d0887"
             ],
             [
              0.1111111111111111,
              "#46039f"
             ],
             [
              0.2222222222222222,
              "#7201a8"
             ],
             [
              0.3333333333333333,
              "#9c179e"
             ],
             [
              0.4444444444444444,
              "#bd3786"
             ],
             [
              0.5555555555555556,
              "#d8576b"
             ],
             [
              0.6666666666666666,
              "#ed7953"
             ],
             [
              0.7777777777777778,
              "#fb9f3a"
             ],
             [
              0.8888888888888888,
              "#fdca26"
             ],
             [
              1,
              "#f0f921"
             ]
            ],
            "type": "histogram2dcontour"
           }
          ],
          "mesh3d": [
           {
            "colorbar": {
             "outlinewidth": 0,
             "ticks": ""
            },
            "type": "mesh3d"
           }
          ],
          "parcoords": [
           {
            "line": {
             "colorbar": {
              "outlinewidth": 0,
              "ticks": ""
             }
            },
            "type": "parcoords"
           }
          ],
          "pie": [
           {
            "automargin": true,
            "type": "pie"
           }
          ],
          "scatter": [
           {
            "marker": {
             "colorbar": {
              "outlinewidth": 0,
              "ticks": ""
             }
            },
            "type": "scatter"
           }
          ],
          "scatter3d": [
           {
            "line": {
             "colorbar": {
              "outlinewidth": 0,
              "ticks": ""
             }
            },
            "marker": {
             "colorbar": {
              "outlinewidth": 0,
              "ticks": ""
             }
            },
            "type": "scatter3d"
           }
          ],
          "scattercarpet": [
           {
            "marker": {
             "colorbar": {
              "outlinewidth": 0,
              "ticks": ""
             }
            },
            "type": "scattercarpet"
           }
          ],
          "scattergeo": [
           {
            "marker": {
             "colorbar": {
              "outlinewidth": 0,
              "ticks": ""
             }
            },
            "type": "scattergeo"
           }
          ],
          "scattergl": [
           {
            "marker": {
             "colorbar": {
              "outlinewidth": 0,
              "ticks": ""
             }
            },
            "type": "scattergl"
           }
          ],
          "scattermapbox": [
           {
            "marker": {
             "colorbar": {
              "outlinewidth": 0,
              "ticks": ""
             }
            },
            "type": "scattermapbox"
           }
          ],
          "scatterpolar": [
           {
            "marker": {
             "colorbar": {
              "outlinewidth": 0,
              "ticks": ""
             }
            },
            "type": "scatterpolar"
           }
          ],
          "scatterpolargl": [
           {
            "marker": {
             "colorbar": {
              "outlinewidth": 0,
              "ticks": ""
             }
            },
            "type": "scatterpolargl"
           }
          ],
          "scatterternary": [
           {
            "marker": {
             "colorbar": {
              "outlinewidth": 0,
              "ticks": ""
             }
            },
            "type": "scatterternary"
           }
          ],
          "surface": [
           {
            "colorbar": {
             "outlinewidth": 0,
             "ticks": ""
            },
            "colorscale": [
             [
              0,
              "#0d0887"
             ],
             [
              0.1111111111111111,
              "#46039f"
             ],
             [
              0.2222222222222222,
              "#7201a8"
             ],
             [
              0.3333333333333333,
              "#9c179e"
             ],
             [
              0.4444444444444444,
              "#bd3786"
             ],
             [
              0.5555555555555556,
              "#d8576b"
             ],
             [
              0.6666666666666666,
              "#ed7953"
             ],
             [
              0.7777777777777778,
              "#fb9f3a"
             ],
             [
              0.8888888888888888,
              "#fdca26"
             ],
             [
              1,
              "#f0f921"
             ]
            ],
            "type": "surface"
           }
          ],
          "table": [
           {
            "cells": {
             "fill": {
              "color": "#EBF0F8"
             },
             "line": {
              "color": "white"
             }
            },
            "header": {
             "fill": {
              "color": "#C8D4E3"
             },
             "line": {
              "color": "white"
             }
            },
            "type": "table"
           }
          ]
         },
         "layout": {
          "annotationdefaults": {
           "arrowcolor": "#2a3f5f",
           "arrowhead": 0,
           "arrowwidth": 1
          },
          "autotypenumbers": "strict",
          "coloraxis": {
           "colorbar": {
            "outlinewidth": 0,
            "ticks": ""
           }
          },
          "colorscale": {
           "diverging": [
            [
             0,
             "#8e0152"
            ],
            [
             0.1,
             "#c51b7d"
            ],
            [
             0.2,
             "#de77ae"
            ],
            [
             0.3,
             "#f1b6da"
            ],
            [
             0.4,
             "#fde0ef"
            ],
            [
             0.5,
             "#f7f7f7"
            ],
            [
             0.6,
             "#e6f5d0"
            ],
            [
             0.7,
             "#b8e186"
            ],
            [
             0.8,
             "#7fbc41"
            ],
            [
             0.9,
             "#4d9221"
            ],
            [
             1,
             "#276419"
            ]
           ],
           "sequential": [
            [
             0,
             "#0d0887"
            ],
            [
             0.1111111111111111,
             "#46039f"
            ],
            [
             0.2222222222222222,
             "#7201a8"
            ],
            [
             0.3333333333333333,
             "#9c179e"
            ],
            [
             0.4444444444444444,
             "#bd3786"
            ],
            [
             0.5555555555555556,
             "#d8576b"
            ],
            [
             0.6666666666666666,
             "#ed7953"
            ],
            [
             0.7777777777777778,
             "#fb9f3a"
            ],
            [
             0.8888888888888888,
             "#fdca26"
            ],
            [
             1,
             "#f0f921"
            ]
           ],
           "sequentialminus": [
            [
             0,
             "#0d0887"
            ],
            [
             0.1111111111111111,
             "#46039f"
            ],
            [
             0.2222222222222222,
             "#7201a8"
            ],
            [
             0.3333333333333333,
             "#9c179e"
            ],
            [
             0.4444444444444444,
             "#bd3786"
            ],
            [
             0.5555555555555556,
             "#d8576b"
            ],
            [
             0.6666666666666666,
             "#ed7953"
            ],
            [
             0.7777777777777778,
             "#fb9f3a"
            ],
            [
             0.8888888888888888,
             "#fdca26"
            ],
            [
             1,
             "#f0f921"
            ]
           ]
          },
          "colorway": [
           "#636efa",
           "#EF553B",
           "#00cc96",
           "#ab63fa",
           "#FFA15A",
           "#19d3f3",
           "#FF6692",
           "#B6E880",
           "#FF97FF",
           "#FECB52"
          ],
          "font": {
           "color": "#2a3f5f"
          },
          "geo": {
           "bgcolor": "white",
           "lakecolor": "white",
           "landcolor": "#E5ECF6",
           "showlakes": true,
           "showland": true,
           "subunitcolor": "white"
          },
          "hoverlabel": {
           "align": "left"
          },
          "hovermode": "closest",
          "mapbox": {
           "style": "light"
          },
          "paper_bgcolor": "white",
          "plot_bgcolor": "#E5ECF6",
          "polar": {
           "angularaxis": {
            "gridcolor": "white",
            "linecolor": "white",
            "ticks": ""
           },
           "bgcolor": "#E5ECF6",
           "radialaxis": {
            "gridcolor": "white",
            "linecolor": "white",
            "ticks": ""
           }
          },
          "scene": {
           "xaxis": {
            "backgroundcolor": "#E5ECF6",
            "gridcolor": "white",
            "gridwidth": 2,
            "linecolor": "white",
            "showbackground": true,
            "ticks": "",
            "zerolinecolor": "white"
           },
           "yaxis": {
            "backgroundcolor": "#E5ECF6",
            "gridcolor": "white",
            "gridwidth": 2,
            "linecolor": "white",
            "showbackground": true,
            "ticks": "",
            "zerolinecolor": "white"
           },
           "zaxis": {
            "backgroundcolor": "#E5ECF6",
            "gridcolor": "white",
            "gridwidth": 2,
            "linecolor": "white",
            "showbackground": true,
            "ticks": "",
            "zerolinecolor": "white"
           }
          },
          "shapedefaults": {
           "line": {
            "color": "#2a3f5f"
           }
          },
          "ternary": {
           "aaxis": {
            "gridcolor": "white",
            "linecolor": "white",
            "ticks": ""
           },
           "baxis": {
            "gridcolor": "white",
            "linecolor": "white",
            "ticks": ""
           },
           "bgcolor": "#E5ECF6",
           "caxis": {
            "gridcolor": "white",
            "linecolor": "white",
            "ticks": ""
           }
          },
          "title": {
           "x": 0.05
          },
          "xaxis": {
           "automargin": true,
           "gridcolor": "white",
           "linecolor": "white",
           "ticks": "",
           "title": {
            "standoff": 15
           },
           "zerolinecolor": "white",
           "zerolinewidth": 2
          },
          "yaxis": {
           "automargin": true,
           "gridcolor": "white",
           "linecolor": "white",
           "ticks": "",
           "title": {
            "standoff": 15
           },
           "zerolinecolor": "white",
           "zerolinewidth": 2
          }
         }
        },
        "title": {
         "text": "Значение средней точности расшифровки символов от r"
        },
        "xaxis": {
         "anchor": "y",
         "domain": [
          0,
          1
         ],
         "title": {
          "text": "scaling"
         }
        },
        "yaxis": {
         "anchor": "x",
         "domain": [
          0,
          1
         ],
         "title": {
          "text": "accuracy"
         }
        }
       }
      }
     },
     "metadata": {}
    }
   ],
   "source": [
    "ex.scatter(scaling_acc, x=\"scaling\", y=\"accuracy\", color=\"n_gram\", title=\"Значение средней точности расшифровки символов от r\")"
   ]
  },
  {
   "source": [
    "# 6 Бонус. Применения MCMC"
   ],
   "cell_type": "markdown",
   "metadata": {}
  },
  {
   "source": [
    "Я думаю, что аналогичные подходы как с расшифровкой текста можно применить в генетике. Например, для расшифровки последовательности геномов или что-то аналогично, когда уже есть база известных расшифровок. \n",
    "\n",
    "Для добавления дополнительных эвристик в уже существующие алгоритмы. Пространство состояний может быть в обучении RL-агентов. Нам необходимо их исследовать с учётом того что известна оценка того насколько это состояние \"оптимально\"."
   ],
   "cell_type": "markdown",
   "metadata": {}
  },
  {
   "cell_type": "code",
   "execution_count": null,
   "metadata": {},
   "outputs": [],
   "source": []
  }
 ],
 "metadata": {
  "kernelspec": {
   "name": "python388jvsc74a57bd0d6b2716dc74907285453493007ca2cd23e9ed6a72eadb75b19b1e174f017e4c9",
   "display_name": "Python 3.8.8 64-bit ('made-adv-ml3': conda)"
  },
  "language_info": {
   "codemirror_mode": {
    "name": "ipython",
    "version": 3
   },
   "file_extension": ".py",
   "mimetype": "text/x-python",
   "name": "python",
   "nbconvert_exporter": "python",
   "pygments_lexer": "ipython3",
   "version": "3.8.8"
  },
  "metadata": {
   "interpreter": {
    "hash": "d6b2716dc74907285453493007ca2cd23e9ed6a72eadb75b19b1e174f017e4c9"
   }
  }
 },
 "nbformat": 4,
 "nbformat_minor": 4
}