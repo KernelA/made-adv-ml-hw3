{
 "cells": [
  {
   "cell_type": "code",
   "execution_count": 1,
   "metadata": {},
   "outputs": [],
   "source": [
    "import zipfile\n",
    "import pathlib\n",
    "import string\n",
    "import random\n",
    "from collections import Counter\n",
    "from typing import List\n",
    "\n",
    "import networkx as nx\n",
    "import numpy as np\n",
    "from IPython.display import HTML, display\n",
    "from tabulate import tabulate "
   ]
  },
  {
   "cell_type": "code",
   "execution_count": 2,
   "metadata": {},
   "outputs": [],
   "source": [
    "%load_ext autoreload\n",
    "\n",
    "%autoreload 2\n",
    "\n",
    "from utils import read_text, preprocess_text, LetterPermutation, get_emoji_vocab\n",
    "from language_model import count_ngram, NGramStat\n",
    "from simple_decoder import beam_search, build_graph, decode_ngrams, encode_text, decode_text\n",
    "from mcmc_decoding import mcmc_decryption\n",
    "from constants import RUSSIAN_LETTERS"
   ]
  },
  {
   "cell_type": "code",
   "execution_count": 3,
   "metadata": {},
   "outputs": [],
   "source": [
    "SEED = 32\n",
    "\n",
    "RND_GENERATOR = random.Random(SEED)"
   ]
  },
  {
   "cell_type": "code",
   "execution_count": 4,
   "metadata": {},
   "outputs": [],
   "source": [
    "path_to_zip = pathlib.Path(\"data\", \"corpora.zip\")"
   ]
  },
  {
   "cell_type": "code",
   "execution_count": 5,
   "metadata": {},
   "outputs": [],
   "source": [
    "texts = read_text(path_to_zip, ignore_files=[\"WarAndPeaceEng.txt\"])"
   ]
  },
  {
   "cell_type": "code",
   "execution_count": 6,
   "metadata": {},
   "outputs": [],
   "source": [
    "for text in texts:\n",
    "    texts[text] = preprocess_text(texts[text])"
   ]
  },
  {
   "cell_type": "code",
   "execution_count": 7,
   "metadata": {},
   "outputs": [],
   "source": [
    "n_gram = 1"
   ]
  },
  {
   "cell_type": "code",
   "execution_count": 8,
   "metadata": {},
   "outputs": [],
   "source": [
    "source_freq = Counter()\n",
    "for name in texts:\n",
    "    source_freq.update(count_ngram(texts[name], n_gram=n_gram))"
   ]
  },
  {
   "cell_type": "code",
   "execution_count": 9,
   "metadata": {},
   "outputs": [],
   "source": [
    "unigram_stat = NGramStat(source_freq)"
   ]
  },
  {
   "cell_type": "code",
   "execution_count": 10,
   "metadata": {},
   "outputs": [
    {
     "output_type": "execute_result",
     "data": {
      "text/plain": [
       "'е'"
      ]
     },
     "metadata": {},
     "execution_count": 10
    }
   ],
   "source": [
    "unigram_stat.get_ngram_by_rank(2)"
   ]
  },
  {
   "source": [
    "Для шифрования методом перестановки символов возьмём за основу emoji в качестве символов для шифрования."
   ],
   "cell_type": "markdown",
   "metadata": {}
  },
  {
   "cell_type": "code",
   "execution_count": 11,
   "metadata": {},
   "outputs": [],
   "source": [
    "original_vocab = set(RUSSIAN_LETTERS)\n",
    "original_vocab.add(\" \")\n",
    "emodji_vocab = list(get_emoji_vocab())\n",
    "\n",
    "symmetric_key = LetterPermutation(frozenset(original_vocab), frozenset(RND_GENERATOR.sample(emodji_vocab, k=len(original_vocab))))\n",
    "\n",
    "permutations = list(range(len(symmetric_key)))\n",
    "RND_GENERATOR.shuffle(permutations)\n",
    "symmetric_key.permute(permutations)\n",
    "del permutations"
   ]
  },
  {
   "cell_type": "markdown",
   "metadata": {},
   "source": [
    "# 1 Частотное декодирование на основе униграмм"
   ]
  },
  {
   "cell_type": "code",
   "execution_count": 12,
   "metadata": {},
   "outputs": [],
   "source": [
    "test_text = \"Российский физик Александр Попов продемонстрировал новейший прибор, предназначенный для показывания быстрых колебаний в атмосферном электричестве. Именно этот день считается днем рождения радиоприемника. В разных городах России студенты профильных технических вузов отмечают этот праздник. Также с профессиональным праздником поздравляют всех работников сферы связи и радиовещания.\""
   ]
  },
  {
   "cell_type": "code",
   "execution_count": 13,
   "metadata": {},
   "outputs": [
    {
     "output_type": "stream",
     "name": "stdout",
     "text": [
      "Encoded text length: 376\n"
     ]
    }
   ],
   "source": [
    "encoded_text, original_processed = encode_text(test_text, symmetric_key, n_gram=n_gram)"
   ]
  },
  {
   "cell_type": "code",
   "execution_count": 14,
   "metadata": {},
   "outputs": [
    {
     "output_type": "execute_result",
     "data": {
      "text/plain": [
       "'🌛📩🔒🔒🍪🕝🔒💲🍪🕝📲💙🍪👥🍪💲📲😞📶👟💲🔒😞🍌🆘🌛📲🚮📩🚮📩😋📲🚮🌛📩🆘👟🍝📩🍌🔒🚍🌛🍪🌛📩😋😞📶📲🍌📩😋👟🕝🎆🍪🕝📲🚮🌛🍪🎦📩🌛📲🚮🌛👟🆘🍌😞👥🍌😞🍣👟🍌🍌🚌🕝📲🆘📶🌊📲🚮📩💲😞👥🚌😋😞🍌🍪🌊📲🎦🚌🔒🚍🌛🚌🎶📲💲📩📶👟🎦😞🍌🍪🕝📲😋📲😞🚍🍝📩🔒💙👟🌛🍌📩🍝📲🚔📶👟💲🚍🌛🍪🍣👟🔒🚍😋👟📲🍪🍝👟🍌🍌📩📲🚔🚍📩🚍📲🆘👟🍌🙏📲🔒🍣🍪🚍😞👟🚍🔒🌊📲🆘🍌👟🍝📲🌛📩🔎🆘👟🍌🍪🌊📲🌛😞🆘🍪📩🚮🌛🍪👟🍝🍌🍪💲😞📲😋📲🌛😞👥🍌🚌🎶📲🏧📩🌛📩🆘😞🎶📲🌛📩🔒🔒🍪🍪📲🔒🚍🕧🆘👟🍌🚍🚌📲🚮🌛📩💙🍪📶🙏🍌🚌🎶📲🚍👟🎶🍌🍪🍣👟🔒💲🍪🎶📲😋🕧👥📩😋📲📩🚍🍝👟🍣😞😫🚍📲🚔🚍📩🚍📲🚮🌛😞👥🆘🍌🍪💲📲🚍😞💲🔎👟📲🔒📲🚮🌛📩💙👟🔒🔒🍪📩🍌😞📶🙏🍌🚌🍝📲🚮🌛😞👥🆘🍌🍪💲📩🍝📲🚮📩👥🆘🌛😞😋📶🌊😫🚍📲😋🔒👟🎶📲🌛😞🎦📩🚍🍌🍪💲📩😋📲🔒💙👟🌛🚌📲🔒😋🌊👥🍪📲🍪📲🌛😞🆘🍪📩😋👟🐳😞🍌🍪🌊'"
      ]
     },
     "metadata": {},
     "execution_count": 14
    }
   ],
   "source": [
    "encoded_text"
   ]
  },
  {
   "cell_type": "code",
   "execution_count": 15,
   "metadata": {},
   "outputs": [
    {
     "output_type": "display_data",
     "data": {
      "text/plain": "Beam search:   0%|          | 0/375 [00:00<?, ?it/s]",
      "application/vnd.jupyter.widget-view+json": {
       "version_major": 2,
       "version_minor": 0,
       "model_id": "214b9f4e67524526bc66ce16f98007bb"
      }
     },
     "metadata": {}
    }
   ],
   "source": [
    "decoding_proposals = decode_text(encoded_text, unigram_stat, n_gram, beam_search_width=1)"
   ]
  },
  {
   "cell_type": "code",
   "execution_count": 16,
   "metadata": {},
   "outputs": [
    {
     "output_type": "display_data",
     "data": {
      "text/plain": "<IPython.core.display.HTML object>",
      "text/html": "<table>\n<thead>\n<tr><th>Оригинальный текст                                                                                                                                                                                                                                                                                                                                                                      </th><th>Перевод                                                                                                                                                                                                                                                                                                                                                                                 </th></tr>\n</thead>\n<tbody>\n<tr><td>российский физик александр попов продемонстрировал новейший прибор предназначенный для показывания быстрых колебаний в атмосферном электричестве именно этот день считается днем рождения радиоприемника в разных городах россии студенты профильных технических вузов отмечают этот праздник также с профессиональным праздником поздравляют всех работников сферы связи и радиовещания</td><td>носсеыскеы бемек тяикставн додор дновиуоаслненортя аориыэеы днечон дниватматзиаапы вяь доктмпртаеь чпслнпг кояичтаеы р тлуосбинаоу жяиклнезислри еуиаао жлол виай сзелтилсь ваиу ношвиаеь нтвеоднеиуаект р нтмапг цоновтг носсее слхвиалп днобеяйапг лигаезискег рхмор олуизтюл жлол днтмваек лткши с днобиссеоатяйапу днтмваекоу домвнтряьюл рсиг нтчолаекор сбинп срьме е нтвеорищтаеь</td></tr>\n</tbody>\n</table>"
     },
     "metadata": {}
    }
   ],
   "source": [
    "display(HTML(tabulate([[original_processed, decoding_proposals[0].phrase]], headers=[\"Оригинальный текст\", \"Перевод\"], stralign=\"left\",  tablefmt='html')))"
   ]
  },
  {
   "cell_type": "markdown",
   "metadata": {},
   "source": [
    "# 2 Частотное декодирование на основе биграмм"
   ]
  },
  {
   "cell_type": "code",
   "execution_count": 17,
   "metadata": {},
   "outputs": [],
   "source": [
    "n_gram = 2\n",
    "source_freq = Counter()\n",
    "for name in texts:\n",
    "    source_freq.update(count_ngram(texts[name], n_gram=n_gram))"
   ]
  },
  {
   "cell_type": "code",
   "execution_count": 18,
   "metadata": {},
   "outputs": [],
   "source": [
    "bigram_stat = NGramStat(source_freq)"
   ]
  },
  {
   "cell_type": "code",
   "execution_count": 19,
   "metadata": {},
   "outputs": [
    {
     "output_type": "stream",
     "name": "stdout",
     "text": [
      "Encoded text length: 376\n"
     ]
    }
   ],
   "source": [
    "encoded_text, original_processed = encode_text(test_text, symmetric_key, n_gram=n_gram)"
   ]
  },
  {
   "cell_type": "code",
   "execution_count": 20,
   "metadata": {},
   "outputs": [
    {
     "output_type": "execute_result",
     "data": {
      "text/plain": [
       "'🌛📩🔒🔒🍪🕝🔒💲🍪🕝📲💙🍪👥🍪💲📲😞📶👟💲🔒😞🍌🆘🌛📲🚮📩🚮📩😋📲🚮🌛📩🆘👟🍝📩🍌🔒🚍🌛🍪🌛📩😋😞📶📲🍌📩😋👟🕝🎆🍪🕝📲🚮🌛🍪🎦📩🌛📲🚮🌛👟🆘🍌😞👥🍌😞🍣👟🍌🍌🚌🕝📲🆘📶🌊📲🚮📩💲😞👥🚌😋😞🍌🍪🌊📲🎦🚌🔒🚍🌛🚌🎶📲💲📩📶👟🎦😞🍌🍪🕝📲😋📲😞🚍🍝📩🔒💙👟🌛🍌📩🍝📲🚔📶👟💲🚍🌛🍪🍣👟🔒🚍😋👟📲🍪🍝👟🍌🍌📩📲🚔🚍📩🚍📲🆘👟🍌🙏📲🔒🍣🍪🚍😞👟🚍🔒🌊📲🆘🍌👟🍝📲🌛📩🔎🆘👟🍌🍪🌊📲🌛😞🆘🍪📩🚮🌛🍪👟🍝🍌🍪💲😞📲😋📲🌛😞👥🍌🚌🎶📲🏧📩🌛📩🆘😞🎶📲🌛📩🔒🔒🍪🍪📲🔒🚍🕧🆘👟🍌🚍🚌📲🚮🌛📩💙🍪📶🙏🍌🚌🎶📲🚍👟🎶🍌🍪🍣👟🔒💲🍪🎶📲😋🕧👥📩😋📲📩🚍🍝👟🍣😞😫🚍📲🚔🚍📩🚍📲🚮🌛😞👥🆘🍌🍪💲📲🚍😞💲🔎👟📲🔒📲🚮🌛📩💙👟🔒🔒🍪📩🍌😞📶🙏🍌🚌🍝📲🚮🌛😞👥🆘🍌🍪💲📩🍝📲🚮📩👥🆘🌛😞😋📶🌊😫🚍📲😋🔒👟🎶📲🌛😞🎦📩🚍🍌🍪💲📩😋📲🔒💙👟🌛🚌📲🔒😋🌊👥🍪📲🍪📲🌛😞🆘🍪📩😋👟🐳😞🍌🍪🌊'"
      ]
     },
     "metadata": {},
     "execution_count": 20
    }
   ],
   "source": [
    "encoded_text"
   ]
  },
  {
   "source": [
    "Т. к. при дешифровании на основе биграмм возникают неоднозначности для отдельных симоволов. Например, при дешифровании текста образуются би-граммы: \\['аб', 'ке'\\]. Буквой на второй позиции может быть как 'б' так и 'к'. Для оценки наиболее правдоподоюной последовательности использовался следующий подход.\n",
    "\n",
    "Строится направленный граф возможных вариантов разбора. Например, для текста:"
   ],
   "cell_type": "markdown",
   "metadata": {}
  },
  {
   "cell_type": "code",
   "execution_count": 21,
   "metadata": {},
   "outputs": [
    {
     "output_type": "stream",
     "name": "stdout",
     "text": [
      "Рос\n"
     ]
    }
   ],
   "source": [
    "demo_text = test_text[:3]\n",
    "print(demo_text)"
   ]
  },
  {
   "cell_type": "code",
   "execution_count": 22,
   "metadata": {},
   "outputs": [
    {
     "output_type": "stream",
     "name": "stdout",
     "text": [
      "Encoded text length: 3\n"
     ]
    }
   ],
   "source": [
    "demo_encoded, demo_processes = encode_text(demo_text, symmetric_key, n_gram=n_gram)\n",
    "decoded_ngrams = decode_ngrams(demo_encoded, bigram_stat, n_gram=n_gram)"
   ]
  },
  {
   "source": [
    "Граф будет таким:"
   ],
   "cell_type": "markdown",
   "metadata": {}
  },
  {
   "cell_type": "code",
   "execution_count": 23,
   "metadata": {},
   "outputs": [
    {
     "output_type": "display_data",
     "data": {
      "text/plain": "<Figure size 432x288 with 1 Axes>",
      "image/svg+xml": "<?xml version=\"1.0\" encoding=\"utf-8\" standalone=\"no\"?>\r\n<!DOCTYPE svg PUBLIC \"-//W3C//DTD SVG 1.1//EN\"\r\n  \"http://www.w3.org/Graphics/SVG/1.1/DTD/svg11.dtd\">\r\n<!-- Created with matplotlib (https://matplotlib.org/) -->\r\n<svg height=\"302.4pt\" version=\"1.1\" viewBox=\"0 0 446.4 302.4\" width=\"446.4pt\" xmlns=\"http://www.w3.org/2000/svg\" xmlns:xlink=\"http://www.w3.org/1999/xlink\">\r\n <metadata>\r\n  <rdf:RDF xmlns:cc=\"http://creativecommons.org/ns#\" xmlns:dc=\"http://purl.org/dc/elements/1.1/\" xmlns:rdf=\"http://www.w3.org/1999/02/22-rdf-syntax-ns#\">\r\n   <cc:Work>\r\n    <dc:type rdf:resource=\"http://purl.org/dc/dcmitype/StillImage\"/>\r\n    <dc:date>2021-05-08T17:41:42.044352</dc:date>\r\n    <dc:format>image/svg+xml</dc:format>\r\n    <dc:creator>\r\n     <cc:Agent>\r\n      <dc:title>Matplotlib v3.3.4, https://matplotlib.org/</dc:title>\r\n     </cc:Agent>\r\n    </dc:creator>\r\n   </cc:Work>\r\n  </rdf:RDF>\r\n </metadata>\r\n <defs>\r\n  <style type=\"text/css\">*{stroke-linecap:butt;stroke-linejoin:round;}</style>\r\n </defs>\r\n <g id=\"figure_1\">\r\n  <g id=\"patch_1\">\r\n   <path d=\"M 0 302.4 \r\nL 446.4 302.4 \r\nL 446.4 0 \r\nL 0 0 \r\nz\r\n\" style=\"fill:#ffffff;\"/>\r\n  </g>\r\n  <g id=\"axes_1\">\r\n   <g id=\"patch_2\">\r\n    <path clip-path=\"url(#p78a28eb88d)\" d=\"M 401.410046 150.796865 \r\nQ 357.083783 91.695185 313.42834 33.487932 \r\n\" style=\"fill:none;stroke:#000000;stroke-linecap:round;\"/>\r\n    <path clip-path=\"url(#p78a28eb88d)\" d=\"M 314.22834 37.887932 \r\nL 313.42834 33.487932 \r\nL 317.42834 35.487932 \r\nL 314.22834 37.887932 \r\nz\r\n\" style=\"stroke:#000000;stroke-linecap:round;\"/>\r\n   </g>\r\n   <g id=\"patch_3\">\r\n    <path clip-path=\"url(#p78a28eb88d)\" d=\"M 401.25887 150.998433 \r\nQ 267.831789 91.697514 135.42638 32.850672 \r\n\" style=\"fill:none;stroke:#000000;stroke-linecap:round;\"/>\r\n    <path clip-path=\"url(#p78a28eb88d)\" d=\"M 138.269349 36.302849 \r\nL 135.42638 32.850672 \r\nL 139.893903 32.647603 \r\nL 138.269349 36.302849 \r\nz\r\n\" style=\"stroke:#000000;stroke-linecap:round;\"/>\r\n   </g>\r\n   <g id=\"patch_4\">\r\n    <path clip-path=\"url(#p78a28eb88d)\" d=\"M 312.002667 32.393303 \r\nQ 178.575593 91.694232 46.170192 150.541084 \r\n\" style=\"fill:none;stroke:#000000;stroke-linecap:round;\"/>\r\n    <path clip-path=\"url(#p78a28eb88d)\" d=\"M 50.637715 150.744153 \r\nL 46.170192 150.541084 \r\nL 49.013161 147.088907 \r\nL 50.637715 150.744153 \r\nz\r\n\" style=\"stroke:#000000;stroke-linecap:round;\"/>\r\n   </g>\r\n   <g id=\"patch_5\">\r\n    <path clip-path=\"url(#p78a28eb88d)\" d=\"M 312.153842 32.59487 \r\nQ 223.199749 151.200341 134.916477 268.911385 \r\n\" style=\"fill:none;stroke:#000000;stroke-linecap:round;\"/>\r\n    <path clip-path=\"url(#p78a28eb88d)\" d=\"M 138.916477 266.911385 \r\nL 134.916477 268.911385 \r\nL 135.716477 264.511385 \r\nL 138.916477 266.911385 \r\nz\r\n\" style=\"stroke:#000000;stroke-linecap:round;\"/>\r\n   </g>\r\n   <g id=\"patch_6\">\r\n    <path clip-path=\"url(#p78a28eb88d)\" d=\"M 133.64144 32.594878 \r\nQ 89.315185 91.696561 45.65975 149.903816 \r\n\" style=\"fill:none;stroke:#000000;stroke-linecap:round;\"/>\r\n    <path clip-path=\"url(#p78a28eb88d)\" d=\"M 49.65975 147.903815 \r\nL 45.65975 149.903816 \r\nL 46.45975 145.503816 \r\nL 49.65975 147.903815 \r\nz\r\n\" style=\"stroke:#000000;stroke-linecap:round;\"/>\r\n   </g>\r\n   <g id=\"patch_7\">\r\n    <path clip-path=\"url(#p78a28eb88d)\" d=\"M 133.943791 32.689306 \r\nQ 133.943804 151.200524 133.943817 268.593708 \r\n\" style=\"fill:none;stroke:#000000;stroke-linecap:round;\"/>\r\n    <path clip-path=\"url(#p78a28eb88d)\" d=\"M 135.943817 264.593708 \r\nL 133.943817 268.593708 \r\nL 131.943817 264.593708 \r\nL 135.943817 264.593708 \r\nz\r\n\" style=\"stroke:#000000;stroke-linecap:round;\"/>\r\n   </g>\r\n   <g id=\"patch_8\">\r\n    <path clip-path=\"url(#p78a28eb88d)\" d=\"M 45.14113 151.401579 \r\nQ 178.568198 210.702496 310.973594 269.549336 \r\n\" style=\"fill:none;stroke:#000000;stroke-linecap:round;\"/>\r\n    <path clip-path=\"url(#p78a28eb88d)\" d=\"M 308.130625 266.097159 \r\nL 310.973594 269.549336 \r\nL 306.506071 269.752406 \r\nL 308.130625 266.097159 \r\nz\r\n\" style=\"stroke:#000000;stroke-linecap:round;\"/>\r\n   </g>\r\n   <g id=\"patch_9\">\r\n    <path clip-path=\"url(#p78a28eb88d)\" d=\"M 134.442288 270.208264 \r\nQ 223.19798 270.208264 310.835637 270.208264 \r\n\" style=\"fill:none;stroke:#000000;stroke-linecap:round;\"/>\r\n    <path clip-path=\"url(#p78a28eb88d)\" d=\"M 306.835637 268.208264 \r\nL 310.835637 270.208264 \r\nL 306.835637 272.208264 \r\nL 306.835637 268.208264 \r\nz\r\n\" style=\"stroke:#000000;stroke-linecap:round;\"/>\r\n   </g>\r\n   <g id=\"PathCollection_1\">\r\n    <defs>\r\n     <path d=\"M 0 0.5 \r\nC 0.132602 0.5 0.25979 0.447317 0.353553 0.353553 \r\nC 0.447317 0.25979 0.5 0.132602 0.5 0 \r\nC 0.5 -0.132602 0.447317 -0.25979 0.353553 -0.353553 \r\nC 0.25979 -0.447317 0.132602 -0.5 0 -0.5 \r\nC -0.132602 -0.5 -0.25979 -0.447317 -0.353553 -0.353553 \r\nC -0.447317 -0.25979 -0.5 -0.132602 -0.5 0 \r\nC -0.5 0.132602 -0.447317 0.25979 -0.353553 0.353553 \r\nC -0.25979 0.447317 -0.132602 0.5 0 0.5 \r\nz\r\n\" id=\"m5d8ece7ba4\" style=\"stroke:#1f78b4;\"/>\r\n    </defs>\r\n    <g clip-path=\"url(#p78a28eb88d)\">\r\n     <use style=\"fill:#1f78b4;stroke:#1f78b4;\" x=\"401.712397\" xlink:href=\"#m5d8ece7ba4\" y=\"151.2\"/>\r\n     <use style=\"fill:#1f78b4;stroke:#1f78b4;\" x=\"312.456193\" xlink:href=\"#m5d8ece7ba4\" y=\"32.191736\"/>\r\n     <use style=\"fill:#1f78b4;stroke:#1f78b4;\" x=\"133.943791\" xlink:href=\"#m5d8ece7ba4\" y=\"32.191744\"/>\r\n     <use style=\"fill:#1f78b4;stroke:#1f78b4;\" x=\"44.687603\" xlink:href=\"#m5d8ece7ba4\" y=\"151.200012\"/>\r\n     <use style=\"fill:#1f78b4;stroke:#1f78b4;\" x=\"133.943818\" xlink:href=\"#m5d8ece7ba4\" y=\"270.208264\"/>\r\n     <use style=\"fill:#1f78b4;stroke:#1f78b4;\" x=\"312.456182\" xlink:href=\"#m5d8ece7ba4\" y=\"270.208264\"/>\r\n    </g>\r\n   </g>\r\n   <g id=\"text_1\">\r\n    <g clip-path=\"url(#p78a28eb88d)\">\r\n     <!-- (0, 'ё') -->\r\n     <g transform=\"translate(382.409272 154.51125)scale(0.12 -0.12)\">\r\n      <defs>\r\n       <path d=\"M 31 75.875 \r\nQ 24.46875 64.65625 21.28125 53.65625 \r\nQ 18.109375 42.671875 18.109375 31.390625 \r\nQ 18.109375 20.125 21.3125 9.0625 \r\nQ 24.515625 -2 31 -13.1875 \r\nL 23.1875 -13.1875 \r\nQ 15.875 -1.703125 12.234375 9.375 \r\nQ 8.59375 20.453125 8.59375 31.390625 \r\nQ 8.59375 42.28125 12.203125 53.3125 \r\nQ 15.828125 64.359375 23.1875 75.875 \r\nz\r\n\" id=\"DejaVuSans-40\"/>\r\n       <path d=\"M 31.78125 66.40625 \r\nQ 24.171875 66.40625 20.328125 58.90625 \r\nQ 16.5 51.421875 16.5 36.375 \r\nQ 16.5 21.390625 20.328125 13.890625 \r\nQ 24.171875 6.390625 31.78125 6.390625 \r\nQ 39.453125 6.390625 43.28125 13.890625 \r\nQ 47.125 21.390625 47.125 36.375 \r\nQ 47.125 51.421875 43.28125 58.90625 \r\nQ 39.453125 66.40625 31.78125 66.40625 \r\nz\r\nM 31.78125 74.21875 \r\nQ 44.046875 74.21875 50.515625 64.515625 \r\nQ 56.984375 54.828125 56.984375 36.375 \r\nQ 56.984375 17.96875 50.515625 8.265625 \r\nQ 44.046875 -1.421875 31.78125 -1.421875 \r\nQ 19.53125 -1.421875 13.0625 8.265625 \r\nQ 6.59375 17.96875 6.59375 36.375 \r\nQ 6.59375 54.828125 13.0625 64.515625 \r\nQ 19.53125 74.21875 31.78125 74.21875 \r\nz\r\n\" id=\"DejaVuSans-48\"/>\r\n       <path d=\"M 11.71875 12.40625 \r\nL 22.015625 12.40625 \r\nL 22.015625 4 \r\nL 14.015625 -11.625 \r\nL 7.71875 -11.625 \r\nL 11.71875 4 \r\nz\r\n\" id=\"DejaVuSans-44\"/>\r\n       <path id=\"DejaVuSans-32\"/>\r\n       <path d=\"M 17.921875 72.90625 \r\nL 17.921875 45.796875 \r\nL 9.625 45.796875 \r\nL 9.625 72.90625 \r\nz\r\n\" id=\"DejaVuSans-39\"/>\r\n       <path d=\"M 56.203125 29.59375 \r\nL 56.203125 25.203125 \r\nL 14.890625 25.203125 \r\nQ 15.484375 15.921875 20.484375 11.0625 \r\nQ 25.484375 6.203125 34.421875 6.203125 \r\nQ 39.59375 6.203125 44.453125 7.46875 \r\nQ 49.3125 8.734375 54.109375 11.28125 \r\nL 54.109375 2.78125 \r\nQ 49.265625 0.734375 44.1875 -0.34375 \r\nQ 39.109375 -1.421875 33.890625 -1.421875 \r\nQ 20.796875 -1.421875 13.15625 6.1875 \r\nQ 5.515625 13.8125 5.515625 26.8125 \r\nQ 5.515625 40.234375 12.765625 48.109375 \r\nQ 20.015625 56 32.328125 56 \r\nQ 43.359375 56 49.78125 48.890625 \r\nQ 56.203125 41.796875 56.203125 29.59375 \r\nz\r\nM 47.21875 32.234375 \r\nQ 47.125 39.59375 43.09375 43.984375 \r\nQ 39.0625 48.390625 32.421875 48.390625 \r\nQ 24.90625 48.390625 20.390625 44.140625 \r\nQ 15.875 39.890625 15.1875 32.171875 \r\nz\r\nM 36.921875 75.78125 \r\nL 46.828125 75.78125 \r\nL 46.828125 65.921875 \r\nL 36.921875 65.921875 \r\nz\r\nM 17.828125 75.78125 \r\nL 27.734375 75.78125 \r\nL 27.734375 65.921875 \r\nL 17.828125 65.921875 \r\nz\r\n\" id=\"DejaVuSans-1105\"/>\r\n       <path d=\"M 8.015625 75.875 \r\nL 15.828125 75.875 \r\nQ 23.140625 64.359375 26.78125 53.3125 \r\nQ 30.421875 42.28125 30.421875 31.390625 \r\nQ 30.421875 20.453125 26.78125 9.375 \r\nQ 23.140625 -1.703125 15.828125 -13.1875 \r\nL 8.015625 -13.1875 \r\nQ 14.5 -2 17.703125 9.0625 \r\nQ 20.90625 20.125 20.90625 31.390625 \r\nQ 20.90625 42.671875 17.703125 53.65625 \r\nQ 14.5 64.65625 8.015625 75.875 \r\nz\r\n\" id=\"DejaVuSans-41\"/>\r\n      </defs>\r\n      <use xlink:href=\"#DejaVuSans-40\"/>\r\n      <use x=\"39.013672\" xlink:href=\"#DejaVuSans-48\"/>\r\n      <use x=\"102.636719\" xlink:href=\"#DejaVuSans-44\"/>\r\n      <use x=\"134.423828\" xlink:href=\"#DejaVuSans-32\"/>\r\n      <use x=\"166.210938\" xlink:href=\"#DejaVuSans-39\"/>\r\n      <use x=\"193.701172\" xlink:href=\"#DejaVuSans-1105\"/>\r\n      <use x=\"255.224609\" xlink:href=\"#DejaVuSans-39\"/>\r\n      <use x=\"282.714844\" xlink:href=\"#DejaVuSans-41\"/>\r\n     </g>\r\n    </g>\r\n   </g>\r\n   <g id=\"text_2\">\r\n    <g clip-path=\"url(#p78a28eb88d)\">\r\n     <!-- (1, ' ') -->\r\n     <g transform=\"translate(294.938068 35.502986)scale(0.12 -0.12)\">\r\n      <defs>\r\n       <path d=\"M 12.40625 8.296875 \r\nL 28.515625 8.296875 \r\nL 28.515625 63.921875 \r\nL 10.984375 60.40625 \r\nL 10.984375 69.390625 \r\nL 28.421875 72.90625 \r\nL 38.28125 72.90625 \r\nL 38.28125 8.296875 \r\nL 54.390625 8.296875 \r\nL 54.390625 0 \r\nL 12.40625 0 \r\nz\r\n\" id=\"DejaVuSans-49\"/>\r\n      </defs>\r\n      <use xlink:href=\"#DejaVuSans-40\"/>\r\n      <use x=\"39.013672\" xlink:href=\"#DejaVuSans-49\"/>\r\n      <use x=\"102.636719\" xlink:href=\"#DejaVuSans-44\"/>\r\n      <use x=\"134.423828\" xlink:href=\"#DejaVuSans-32\"/>\r\n      <use x=\"166.210938\" xlink:href=\"#DejaVuSans-39\"/>\r\n      <use x=\"193.701172\" xlink:href=\"#DejaVuSans-32\"/>\r\n      <use x=\"225.488281\" xlink:href=\"#DejaVuSans-39\"/>\r\n      <use x=\"252.978516\" xlink:href=\"#DejaVuSans-41\"/>\r\n     </g>\r\n    </g>\r\n   </g>\r\n   <g id=\"text_3\">\r\n    <g clip-path=\"url(#p78a28eb88d)\">\r\n     <!-- (1, 'э') -->\r\n     <g transform=\"translate(115.039104 35.502994)scale(0.12 -0.12)\">\r\n      <defs>\r\n       <path d=\"M 5.515625 10.40625 \r\nQ 13.234375 6.203125 20.90625 6.203125 \r\nQ 28.078125 6.203125 33.203125 10.375 \r\nQ 38.328125 14.546875 39.265625 25.203125 \r\nL 11.53125 25.203125 \r\nL 11.53125 32.375 \r\nL 38.96875 32.375 \r\nQ 38.375 37.5 34.484375 42.9375 \r\nQ 30.609375 48.390625 20.90625 48.390625 \r\nQ 13.375 48.390625 5.515625 44.1875 \r\nL 5.515625 52.59375 \r\nQ 13.1875 56 21.296875 56 \r\nQ 34.078125 56 41.421875 48.265625 \r\nQ 48.78125 40.53125 48.78125 27.296875 \r\nQ 48.78125 14.109375 41.625 6.34375 \r\nQ 34.46875 -1.421875 21.921875 -1.421875 \r\nQ 12.703125 -1.421875 5.515625 2.09375 \r\nz\r\n\" id=\"DejaVuSans-1101\"/>\r\n      </defs>\r\n      <use xlink:href=\"#DejaVuSans-40\"/>\r\n      <use x=\"39.013672\" xlink:href=\"#DejaVuSans-49\"/>\r\n      <use x=\"102.636719\" xlink:href=\"#DejaVuSans-44\"/>\r\n      <use x=\"134.423828\" xlink:href=\"#DejaVuSans-32\"/>\r\n      <use x=\"166.210938\" xlink:href=\"#DejaVuSans-39\"/>\r\n      <use x=\"193.701172\" xlink:href=\"#DejaVuSans-1101\"/>\r\n      <use x=\"248.583984\" xlink:href=\"#DejaVuSans-39\"/>\r\n      <use x=\"276.074219\" xlink:href=\"#DejaVuSans-41\"/>\r\n     </g>\r\n    </g>\r\n   </g>\r\n   <g id=\"text_4\">\r\n    <g clip-path=\"url(#p78a28eb88d)\">\r\n     <!-- (2, 'т') -->\r\n     <g transform=\"translate(25.581353 154.511262)scale(0.12 -0.12)\">\r\n      <defs>\r\n       <path d=\"M 19.1875 8.296875 \r\nL 53.609375 8.296875 \r\nL 53.609375 0 \r\nL 7.328125 0 \r\nL 7.328125 8.296875 \r\nQ 12.9375 14.109375 22.625 23.890625 \r\nQ 32.328125 33.6875 34.8125 36.53125 \r\nQ 39.546875 41.84375 41.421875 45.53125 \r\nQ 43.3125 49.21875 43.3125 52.78125 \r\nQ 43.3125 58.59375 39.234375 62.25 \r\nQ 35.15625 65.921875 28.609375 65.921875 \r\nQ 23.96875 65.921875 18.8125 64.3125 \r\nQ 13.671875 62.703125 7.8125 59.421875 \r\nL 7.8125 69.390625 \r\nQ 13.765625 71.78125 18.9375 73 \r\nQ 24.125 74.21875 28.421875 74.21875 \r\nQ 39.75 74.21875 46.484375 68.546875 \r\nQ 53.21875 62.890625 53.21875 53.421875 \r\nQ 53.21875 48.921875 51.53125 44.890625 \r\nQ 49.859375 40.875 45.40625 35.40625 \r\nQ 44.1875 33.984375 37.640625 27.21875 \r\nQ 31.109375 20.453125 19.1875 8.296875 \r\nz\r\n\" id=\"DejaVuSans-50\"/>\r\n       <path d=\"M 2.9375 54.6875 \r\nL 55.328125 54.6875 \r\nL 55.328125 47.515625 \r\nL 33.546875 47.515625 \r\nL 33.546875 0 \r\nL 24.703125 0 \r\nL 24.703125 47.515625 \r\nL 2.9375 47.515625 \r\nz\r\n\" id=\"DejaVuSans-1090\"/>\r\n      </defs>\r\n      <use xlink:href=\"#DejaVuSans-40\"/>\r\n      <use x=\"39.013672\" xlink:href=\"#DejaVuSans-50\"/>\r\n      <use x=\"102.636719\" xlink:href=\"#DejaVuSans-44\"/>\r\n      <use x=\"134.423828\" xlink:href=\"#DejaVuSans-32\"/>\r\n      <use x=\"166.210938\" xlink:href=\"#DejaVuSans-39\"/>\r\n      <use x=\"193.701172\" xlink:href=\"#DejaVuSans-1090\"/>\r\n      <use x=\"251.953125\" xlink:href=\"#DejaVuSans-39\"/>\r\n      <use x=\"279.443359\" xlink:href=\"#DejaVuSans-41\"/>\r\n     </g>\r\n    </g>\r\n   </g>\r\n   <g id=\"text_5\">\r\n    <g clip-path=\"url(#p78a28eb88d)\">\r\n     <!-- (2, 'й') -->\r\n     <g transform=\"translate(114.433505 273.519514)scale(0.12 -0.12)\">\r\n      <defs>\r\n       <path d=\"M 55.90625 54.6875 \r\nL 55.90625 0 \r\nL 46.96875 0 \r\nL 46.96875 43.890625 \r\nL 20.609375 0 \r\nL 9.078125 0 \r\nL 9.078125 54.6875 \r\nL 18.015625 54.6875 \r\nL 18.015625 10.890625 \r\nL 44.34375 54.6875 \r\nz\r\nM 17.234375 75.96875 \r\nL 23 75.96875 \r\nQ 23.53125 72.3125 25.890625 70.46875 \r\nQ 28.265625 68.640625 32.515625 68.640625 \r\nQ 36.71875 68.640625 39.0625 70.453125 \r\nQ 41.40625 72.265625 42.046875 75.96875 \r\nL 47.796875 75.96875 \r\nQ 47.3125 68.984375 43.453125 65.46875 \r\nQ 39.59375 61.953125 32.515625 61.953125 \r\nQ 25.4375 61.953125 21.578125 65.46875 \r\nQ 17.71875 68.984375 17.234375 75.96875 \r\nz\r\n\" id=\"DejaVuSans-1081\"/>\r\n      </defs>\r\n      <use xlink:href=\"#DejaVuSans-40\"/>\r\n      <use x=\"39.013672\" xlink:href=\"#DejaVuSans-50\"/>\r\n      <use x=\"102.636719\" xlink:href=\"#DejaVuSans-44\"/>\r\n      <use x=\"134.423828\" xlink:href=\"#DejaVuSans-32\"/>\r\n      <use x=\"166.210938\" xlink:href=\"#DejaVuSans-39\"/>\r\n      <use x=\"193.701172\" xlink:href=\"#DejaVuSans-1081\"/>\r\n      <use x=\"258.691406\" xlink:href=\"#DejaVuSans-39\"/>\r\n      <use x=\"286.181641\" xlink:href=\"#DejaVuSans-41\"/>\r\n     </g>\r\n    </g>\r\n   </g>\r\n   <g id=\"text_6\">\r\n    <g clip-path=\"url(#p78a28eb88d)\">\r\n     <!-- (3, ' ') -->\r\n     <g transform=\"translate(294.938057 273.519514)scale(0.12 -0.12)\">\r\n      <defs>\r\n       <path d=\"M 40.578125 39.3125 \r\nQ 47.65625 37.796875 51.625 33 \r\nQ 55.609375 28.21875 55.609375 21.1875 \r\nQ 55.609375 10.40625 48.1875 4.484375 \r\nQ 40.765625 -1.421875 27.09375 -1.421875 \r\nQ 22.515625 -1.421875 17.65625 -0.515625 \r\nQ 12.796875 0.390625 7.625 2.203125 \r\nL 7.625 11.71875 \r\nQ 11.71875 9.328125 16.59375 8.109375 \r\nQ 21.484375 6.890625 26.8125 6.890625 \r\nQ 36.078125 6.890625 40.9375 10.546875 \r\nQ 45.796875 14.203125 45.796875 21.1875 \r\nQ 45.796875 27.640625 41.28125 31.265625 \r\nQ 36.765625 34.90625 28.71875 34.90625 \r\nL 20.21875 34.90625 \r\nL 20.21875 43.015625 \r\nL 29.109375 43.015625 \r\nQ 36.375 43.015625 40.234375 45.921875 \r\nQ 44.09375 48.828125 44.09375 54.296875 \r\nQ 44.09375 59.90625 40.109375 62.90625 \r\nQ 36.140625 65.921875 28.71875 65.921875 \r\nQ 24.65625 65.921875 20.015625 65.03125 \r\nQ 15.375 64.15625 9.8125 62.3125 \r\nL 9.8125 71.09375 \r\nQ 15.4375 72.65625 20.34375 73.4375 \r\nQ 25.25 74.21875 29.59375 74.21875 \r\nQ 40.828125 74.21875 47.359375 69.109375 \r\nQ 53.90625 64.015625 53.90625 55.328125 \r\nQ 53.90625 49.265625 50.4375 45.09375 \r\nQ 46.96875 40.921875 40.578125 39.3125 \r\nz\r\n\" id=\"DejaVuSans-51\"/>\r\n      </defs>\r\n      <use xlink:href=\"#DejaVuSans-40\"/>\r\n      <use x=\"39.013672\" xlink:href=\"#DejaVuSans-51\"/>\r\n      <use x=\"102.636719\" xlink:href=\"#DejaVuSans-44\"/>\r\n      <use x=\"134.423828\" xlink:href=\"#DejaVuSans-32\"/>\r\n      <use x=\"166.210938\" xlink:href=\"#DejaVuSans-39\"/>\r\n      <use x=\"193.701172\" xlink:href=\"#DejaVuSans-32\"/>\r\n      <use x=\"225.488281\" xlink:href=\"#DejaVuSans-39\"/>\r\n      <use x=\"252.978516\" xlink:href=\"#DejaVuSans-41\"/>\r\n     </g>\r\n    </g>\r\n   </g>\r\n  </g>\r\n </g>\r\n <defs>\r\n  <clipPath id=\"p78a28eb88d\">\r\n   <rect height=\"288\" width=\"432\" x=\"7.2\" y=\"7.2\"/>\r\n  </clipPath>\r\n </defs>\r\n</svg>\r\n",
      "image/png": "[encoded data removed]"
     },
     "metadata": {}
    }
   ],
   "source": [
    "nx.draw_circular(build_graph(decoded_ngrams), with_labels=True, node_size=1)"
   ]
  },
  {
   "source": [
    "На основе собранный статистике по n-граммам строится языковая модель. Она используется для оценки того насколько правдободобен вариант дешифровки в beam search при обходе графа, начиная с первого символа. Одновременно отслеживаются заданное число наиболее вероятных гипотез дешифровки (beam_search_width - параметр алгоритма)."
   ],
   "cell_type": "markdown",
   "metadata": {}
  },
  {
   "cell_type": "code",
   "execution_count": 24,
   "metadata": {},
   "outputs": [
    {
     "output_type": "stream",
     "name": "stdout",
     "text": [
      "Encoded text length: 376\n"
     ]
    }
   ],
   "source": [
    "encoded_text, original_processed = encode_text(test_text, symmetric_key, n_gram=n_gram)"
   ]
  },
  {
   "cell_type": "code",
   "execution_count": 25,
   "metadata": {},
   "outputs": [
    {
     "output_type": "display_data",
     "data": {
      "text/plain": "Beam search:   0%|          | 0/1 [00:00<?, ?it/s]",
      "application/vnd.jupyter.widget-view+json": {
       "version_major": 2,
       "version_minor": 0,
       "model_id": "057339773f434082ac46ac50e2c79a88"
      }
     },
     "metadata": {}
    }
   ],
   "source": [
    "decoding_proposals = decode_text(encoded_text, bigram_stat, n_gram, beam_search_width=20)"
   ]
  },
  {
   "cell_type": "code",
   "execution_count": 26,
   "metadata": {
    "tags": []
   },
   "outputs": [],
   "source": [
    "table_data = []\n",
    "for serach_res in decoding_proposals:\n",
    "    table_data.append([serach_res.log_likelihood, original_processed, serach_res.phrase])"
   ]
  },
  {
   "cell_type": "code",
   "execution_count": 27,
   "metadata": {},
   "outputs": [
    {
     "output_type": "display_data",
     "data": {
      "text/plain": "<IPython.core.display.HTML object>",
      "text/html": "<table>\n<thead>\n<tr><th>Логаримф правдоподобия (больше лучше)  </th><th>Оригинальный текст                                                                                                                                                                                                                                                                                                                                                                      </th><th>Перевод                                                                                                                                                                                                                                                                                                                                                                                 </th></tr>\n</thead>\n<tbody>\n<tr><td>-349.189                               </td><td>российский физик александр попов продемонстрировал новейший прибор предназначенный для показывания быстрых колебаний в атмосферном электричестве именно этот день считается днем рождения радиоприемника в разных городах россии студенты профильных технических вузов отмечают этот праздник также с профессиональным праздником поздравляют всех работников сферы связи и радиовещания</td><td>быщамечимекреррео и диылрираз дарабыканадабеордамионнаакё я госоькраота у цух аллиц фрра са муылглесмабетомо пйсылме ве ц кипошьшлтии фабох неъюитвоалатъетьцичакоеныхбазнщеи лехаыхкам щеа знз болем ва вхал аль этбыерь быщао неужкаалдегобузджетодоыйи х киби ви даоть оратлаъетьрае ы м доресеилергобускм удмижеенрае ы м е чту ы и ждрол о ыйхачутьм е цее ондесьра н на знда кылгл</td></tr>\n<tr><td>-349.201                               </td><td>российский физик александр попов продемонстрировал новейший прибор предназначенный для показывания быстрых колебаний в атмосферном электричестве именно этот день считается днем рождения радиоприемника в разных городах россии студенты профильных технических вузов отмечают этот праздник также с профессиональным праздником поздравляют всех работников сферы связи и радиовещания</td><td>быщамечимекреррео и диылрираз дарабыканадабеордамионнаакё я госоькраота у цух аллиц фрра са муылглесмабетомо пйсылме ве ц кипошьшлтии фабох неъюитвоалатъетьцичакоеныхбазнщеи лехаыхкам щеа знз болем ва вхал аль этбыерь быщао неужкаалдегобузджетодоыйи х чиби ви даоть оратлаъетьрае ы м доресеилергобускм удмижеенрае ы м е чту ы и ждрол о ыйхачутьм е цее ондесьра н на знда кылгл</td></tr>\n<tr><td>-349.205                               </td><td>российский физик александр попов продемонстрировал новейший прибор предназначенный для показывания быстрых колебаний в атмосферном электричестве именно этот день считается днем рождения радиоприемника в разных городах россии студенты профильных технических вузов отмечают этот праздник также с профессиональным праздником поздравляют всех работников сферы связи и радиовещания</td><td>быщамечимекреррео и диылрираз дарабыканадабеордамионнаакё я госоькраота у цух аллиц фрра са муылглесмабетомо пйсылме ве ц кипошьшлтии фабох неъюитвоалатъетьцичакоеныхбазнщеи лехаыхкам щеа знз болем ва вхал аль этбыерь быщао неужкаалдегобузджетодоыйи х киби ви даоть оратлаъетьрае ы м доресеилергобускм удмижеенрае ы м е чту ы и ждролао ыйхачутьм е цее ондесьра н на знда кылгл</td></tr>\n<tr><td>-349.217                               </td><td>российский физик александр попов продемонстрировал новейший прибор предназначенный для показывания быстрых колебаний в атмосферном электричестве именно этот день считается днем рождения радиоприемника в разных городах россии студенты профильных технических вузов отмечают этот праздник также с профессиональным праздником поздравляют всех работников сферы связи и радиовещания</td><td>быщамечимекреррео и диылрираз дарабыканадабеордамионнаакё я госоькраота у цух аллиц фрра са муылглесмабетомо пйсылме ве ц кипошьшлтии фабох неъюитвоалатъетьцичакоеныхбазнщеи лехаыхкам щеа знз болем ва вхал аль этбыерь быщао неужкаалдегобузджетодоыйи х чиби ви даоть оратлаъетьрае ы м доресеилергобускм удмижеенрае ы м е чту ы и ждролао ыйхачутьм е цее ондесьра н на знда кылгл</td></tr>\n<tr><td>-349.222                               </td><td>российский физик александр попов продемонстрировал новейший прибор предназначенный для показывания быстрых колебаний в атмосферном электричестве именно этот день считается днем рождения радиоприемника в разных городах россии студенты профильных технических вузов отмечают этот праздник также с профессиональным праздником поздравляют всех работников сферы связи и радиовещания</td><td>быщамечимекреррео и диылрираз дарабыканадабеордамионнаакё я госоькраота у цух аллиц фрра са муылглесмабетомо пйсылме ве ц кипошьшлтии фабох неъюитвоалатъетьцичакоеныхбазнщеи лехаыхкам щеа знз болем ва вхал аль этбыерь быщао неужкаалдегобузджетодоыйи х киби ви даоть оратлаъетьрае ы м доресеилергобускм удмижеенрае ы м е чту ы и ждрол о ыйхачутьм е цее ондесьра н не знда кылгл</td></tr>\n<tr><td>-349.222                               </td><td>российский физик александр попов продемонстрировал новейший прибор предназначенный для показывания быстрых колебаний в атмосферном электричестве именно этот день считается днем рождения радиоприемника в разных городах россии студенты профильных технических вузов отмечают этот праздник также с профессиональным праздником поздравляют всех работников сферы связи и радиовещания</td><td>быщамечимекреррео и диылрираз дарабыканадабеордамионнаакё я госоькраота у цух аллиц фрра са муылглесмабетомо пйсылме ве ц кипошьшлтии фабох неъюитвоалатъетьцичакоеныхбазнщеи лехаыхкам щее знз болем ва вхал аль этбыерь быщао неужкаалдегобузджетодоыйи х киби ви даоть оратлаъетьрае ы м доресеилергобускм удмижеенрае ы м е чту ы и ждрол о ыйхачутьм е цее ондесьра н на знда кылгл</td></tr>\n<tr><td>-349.222                               </td><td>российский физик александр попов продемонстрировал новейший прибор предназначенный для показывания быстрых колебаний в атмосферном электричестве именно этот день считается днем рождения радиоприемника в разных городах россии студенты профильных технических вузов отмечают этот праздник также с профессиональным праздником поздравляют всех работников сферы связи и радиовещания</td><td>быщамечимекреррео и диылрираз дарабыканадабеордамионнаакё я госоькраоте у цух аллиц фрра са муылглесмабетомо пйсылме ве ц кипошьшлтии фабох неъюитвоалатъетьцичакоеныхбазнщеи лехаыхкам щеа знз болем ва вхал аль этбыерь быщао неужкаалдегобузджетодоыйи х киби ви даоть оратлаъетьрае ы м доресеилергобускм удмижеенрае ы м е чту ы и ждрол о ыйхачутьм е цее ондесьра н на знда кылгл</td></tr>\n<tr><td>-349.223                               </td><td>российский физик александр попов продемонстрировал новейший прибор предназначенный для показывания быстрых колебаний в атмосферном электричестве именно этот день считается днем рождения радиоприемника в разных городах россии студенты профильных технических вузов отмечают этот праздник также с профессиональным праздником поздравляют всех работников сферы связи и радиовещания</td><td>быщамечимекреррео и диылрираз дарабыканадабеордамионнаакё я госоькраота у цух аллиц фрра са муылгльсмабетомо пйсылме ве ц кипошьшлтии фабох неъюитвоалатъетьцичакоеныхбазнщеи лехаыхкам щеа знз болем ва вхал аль этбыерь быщао неужкаалдегобузджетодоыйи х киби ви даоть оратлаъетьрае ы м доресеилергобускм удмижеенрае ы м е чту ы и ждрол о ыйхачутьм е цее ондесьра н на знда кылгл</td></tr>\n<tr><td>-349.231                               </td><td>российский физик александр попов продемонстрировал новейший прибор предназначенный для показывания быстрых колебаний в атмосферном электричестве именно этот день считается днем рождения радиоприемника в разных городах россии студенты профильных технических вузов отмечают этот праздник также с профессиональным праздником поздравляют всех работников сферы связи и радиовещания</td><td>быщамечимекреррео и диылрираз дарабыканадабеордамионнаакё я госоькраота у цух аллиц фрра са муылглесмабетомо пйсылме ве ц кипошьшлтии фабох неъюитвоалатъетьцичакоеныхбазнщеи лехатркам щеа знз болем ва вхал аль этбыерь быщао неужкаалдегобузджетодоыйи х киби ви даоть оратлаъетьрае ы м доресеилергобускм удмижеенрае ы м е чту ы и ждрол о ыйхачутьм е цее ондесьра н на знда кылгл</td></tr>\n<tr><td>-349.234                               </td><td>российский физик александр попов продемонстрировал новейший прибор предназначенный для показывания быстрых колебаний в атмосферном электричестве именно этот день считается днем рождения радиоприемника в разных городах россии студенты профильных технических вузов отмечают этот праздник также с профессиональным праздником поздравляют всех работников сферы связи и радиовещания</td><td>быщамечимекреррео и диылрираз дарабыканадабеордамионнаакё я госоькраота у цух аллиц фрра са муылглесмабетомо пйсылме ве ц кипошьшлтии фабох неъюитвоалатъетьцичакоеныхбазнщеи лехаыхкам щеа знз болем ва вхал аль этбыерь быщао неужкаалдегобузджетодоыйи х чиби ви даоть оратлаъетьрае ы м доресеилергобускм удмижеенрае ы м е чту ы и ждрол о ыйхачутьм е цее ондесьра н не знда кылгл</td></tr>\n<tr><td>-350.749                               </td><td>российский физик александр попов продемонстрировал новейший прибор предназначенный для показывания быстрых колебаний в атмосферном электричестве именно этот день считается днем рождения радиоприемника в разных городах россии студенты профильных технических вузов отмечают этот праздник также с профессиональным праздником поздравляют всех работников сферы связи и радиовещания</td><td>быщамечимекреррео и диылрираз дарабыканадабеордамионнаакё я госоькраота у цух аллиц фрра са муылглесмабетомо пйсылме ве ц кипошьшлтии фабох неъюитвоалатъетьцичакоеныхбазнщеи лехаыхкам щеа знз болем ва вхал аль этбыерь быщао неужкаалдегобузджетодоыйи х киби ви даоть оратлаъетьрае ы м доресеилергобускм удмижеенрае ы м е чту ы и ждрол о ыйхачутьм е цее ондесьра н на знда кыл л</td></tr>\n<tr><td>-350.761                               </td><td>российский физик александр попов продемонстрировал новейший прибор предназначенный для показывания быстрых колебаний в атмосферном электричестве именно этот день считается днем рождения радиоприемника в разных городах россии студенты профильных технических вузов отмечают этот праздник также с профессиональным праздником поздравляют всех работников сферы связи и радиовещания</td><td>быщамечимекреррео и диылрираз дарабыканадабеордамионнаакё я госоькраота у цух аллиц фрра са муылглесмабетомо пйсылме ве ц кипошьшлтии фабох неъюитвоалатъетьцичакоеныхбазнщеи лехаыхкам щеа знз болем ва вхал аль этбыерь быщао неужкаалдегобузджетодоыйи х чиби ви даоть оратлаъетьрае ы м доресеилергобускм удмижеенрае ы м е чту ы и ждрол о ыйхачутьм е цее ондесьра н на знда кыл л</td></tr>\n<tr><td>-350.765                               </td><td>российский физик александр попов продемонстрировал новейший прибор предназначенный для показывания быстрых колебаний в атмосферном электричестве именно этот день считается днем рождения радиоприемника в разных городах россии студенты профильных технических вузов отмечают этот праздник также с профессиональным праздником поздравляют всех работников сферы связи и радиовещания</td><td>быщамечимекреррео и диылрираз дарабыканадабеордамионнаакё я госоькраота у цух аллиц фрра са муылглесмабетомо пйсылме ве ц кипошьшлтии фабох неъюитвоалатъетьцичакоеныхбазнщеи лехаыхкам щеа знз болем ва вхал аль этбыерь быщао неужкаалдегобузджетодоыйи х киби ви даоть оратлаъетьрае ы м доресеилергобускм удмижеенрае ы м е чту ы и ждролао ыйхачутьм е цее ондесьра н на знда кыл л</td></tr>\n<tr><td>-350.777                               </td><td>российский физик александр попов продемонстрировал новейший прибор предназначенный для показывания быстрых колебаний в атмосферном электричестве именно этот день считается днем рождения радиоприемника в разных городах россии студенты профильных технических вузов отмечают этот праздник также с профессиональным праздником поздравляют всех работников сферы связи и радиовещания</td><td>быщамечимекреррео и диылрираз дарабыканадабеордамионнаакё я госоькраота у цух аллиц фрра са муылглесмабетомо пйсылме ве ц кипошьшлтии фабох неъюитвоалатъетьцичакоеныхбазнщеи лехаыхкам щеа знз болем ва вхал аль этбыерь быщао неужкаалдегобузджетодоыйи х чиби ви даоть оратлаъетьрае ы м доресеилергобускм удмижеенрае ы м е чту ы и ждролао ыйхачутьм е цее ондесьра н на знда кыл л</td></tr>\n<tr><td>-350.782                               </td><td>российский физик александр попов продемонстрировал новейший прибор предназначенный для показывания быстрых колебаний в атмосферном электричестве именно этот день считается днем рождения радиоприемника в разных городах россии студенты профильных технических вузов отмечают этот праздник также с профессиональным праздником поздравляют всех работников сферы связи и радиовещания</td><td>быщамечимекреррео и диылрираз дарабыканадабеордамионнаакё я госоькраота у цух аллиц фрра са муылглесмабетомо пйсылме ве ц кипошьшлтии фабох неъюитвоалатъетьцичакоеныхбазнщеи лехаыхкам щеа знз болем ва вхал аль этбыерь быщао неужкаалдегобузджетодоыйи х киби ви даоть оратлаъетьрае ы м доресеилергобускм удмижеенрае ы м е чту ы и ждрол о ыйхачутьм е цее ондесьра н не знда кыл л</td></tr>\n<tr><td>-350.782                               </td><td>российский физик александр попов продемонстрировал новейший прибор предназначенный для показывания быстрых колебаний в атмосферном электричестве именно этот день считается днем рождения радиоприемника в разных городах россии студенты профильных технических вузов отмечают этот праздник также с профессиональным праздником поздравляют всех работников сферы связи и радиовещания</td><td>быщамечимекреррео и диылрираз дарабыканадабеордамионнаакё я госоькраота у цух аллиц фрра са муылглесмабетомо пйсылме ве ц кипошьшлтии фабох неъюитвоалатъетьцичакоеныхбазнщеи лехаыхкам щее знз болем ва вхал аль этбыерь быщао неужкаалдегобузджетодоыйи х киби ви даоть оратлаъетьрае ы м доресеилергобускм удмижеенрае ы м е чту ы и ждрол о ыйхачутьм е цее ондесьра н на знда кыл л</td></tr>\n<tr><td>-350.782                               </td><td>российский физик александр попов продемонстрировал новейший прибор предназначенный для показывания быстрых колебаний в атмосферном электричестве именно этот день считается днем рождения радиоприемника в разных городах россии студенты профильных технических вузов отмечают этот праздник также с профессиональным праздником поздравляют всех работников сферы связи и радиовещания</td><td>быщамечимекреррео и диылрираз дарабыканадабеордамионнаакё я госоькраоте у цух аллиц фрра са муылглесмабетомо пйсылме ве ц кипошьшлтии фабох неъюитвоалатъетьцичакоеныхбазнщеи лехаыхкам щеа знз болем ва вхал аль этбыерь быщао неужкаалдегобузджетодоыйи х киби ви даоть оратлаъетьрае ы м доресеилергобускм удмижеенрае ы м е чту ы и ждрол о ыйхачутьм е цее ондесьра н на знда кыл л</td></tr>\n<tr><td>-350.783                               </td><td>российский физик александр попов продемонстрировал новейший прибор предназначенный для показывания быстрых колебаний в атмосферном электричестве именно этот день считается днем рождения радиоприемника в разных городах россии студенты профильных технических вузов отмечают этот праздник также с профессиональным праздником поздравляют всех работников сферы связи и радиовещания</td><td>быщамечимекреррео и диылрираз дарабыканадабеордамионнаакё я госоькраота у цух аллиц фрра са муылгльсмабетомо пйсылме ве ц кипошьшлтии фабох неъюитвоалатъетьцичакоеныхбазнщеи лехаыхкам щеа знз болем ва вхал аль этбыерь быщао неужкаалдегобузджетодоыйи х киби ви даоть оратлаъетьрае ы м доресеилергобускм удмижеенрае ы м е чту ы и ждрол о ыйхачутьм е цее ондесьра н на знда кыл л</td></tr>\n<tr><td>-350.791                               </td><td>российский физик александр попов продемонстрировал новейший прибор предназначенный для показывания быстрых колебаний в атмосферном электричестве именно этот день считается днем рождения радиоприемника в разных городах россии студенты профильных технических вузов отмечают этот праздник также с профессиональным праздником поздравляют всех работников сферы связи и радиовещания</td><td>быщамечимекреррео и диылрираз дарабыканадабеордамионнаакё я госоькраота у цух аллиц фрра са муылглесмабетомо пйсылме ве ц кипошьшлтии фабох неъюитвоалатъетьцичакоеныхбазнщеи лехатркам щеа знз болем ва вхал аль этбыерь быщао неужкаалдегобузджетодоыйи х киби ви даоть оратлаъетьрае ы м доресеилергобускм удмижеенрае ы м е чту ы и ждрол о ыйхачутьм е цее ондесьра н на знда кыл л</td></tr>\n<tr><td>-350.794                               </td><td>российский физик александр попов продемонстрировал новейший прибор предназначенный для показывания быстрых колебаний в атмосферном электричестве именно этот день считается днем рождения радиоприемника в разных городах россии студенты профильных технических вузов отмечают этот праздник также с профессиональным праздником поздравляют всех работников сферы связи и радиовещания</td><td>быщамечимекреррео и диылрираз дарабыканадабеордамионнаакё я госоькраота у цух аллиц фрра са муылглесмабетомо пйсылме ве ц кипошьшлтии фабох неъюитвоалатъетьцичакоеныхбазнщеи лехаыхкам щеа знз болем ва вхал аль этбыерь быщао неужкаалдегобузджетодоыйи х чиби ви даоть оратлаъетьрае ы м доресеилергобускм удмижеенрае ы м е чту ы и ждрол о ыйхачутьм е цее ондесьра н не знда кыл л</td></tr>\n</tbody>\n</table>"
     },
     "metadata": {}
    }
   ],
   "source": [
    "display(HTML(tabulate(table_data, headers=[\"Логаримф правдоподобия (больше лучше)\", \"Оригинальный текст\", \"Перевод\"], numalign=\"left\", tablefmt='html')))"
   ]
  },
  {
   "source": [
    "# 3 Декодирование с помощью MCMC"
   ],
   "cell_type": "markdown",
   "metadata": {}
  },
  {
   "source": [
    "Оригинальная идеи были взяты из следующих статей:\n",
    "* [Connor, Stephen. Simulation and Solving Substitution Codes. ](https://www.researchgate.net/publication/265100513_Simulation_and_Solving_Substitution_Codes)\n",
    "* [Chen, Jian & Rosenthal, Jeffrey. (2012). Decrypting classical cipher text using Markov chain Monte Carlo. Statistics and Computing. 22. 397-413. 10.1007/s11222-011-9232-5.](https://www.researchgate.net/publication/225253330_Decrypting_classical_cipher_text_using_Markov_chain_Monte_Carlo/citations)\n",
    "\n",
    "Основная идея, которая была применена.\n",
    "\n",
    "Мы знаем заранее или предполагаем, что в зашифрованном тексте каждый символ шифрованного текста соответствует какому-то символу исходного текста. Формально нам нужно найти соответствие между символами алфавита в зашифрованном сообщении и исходном. Если предположить для начала, что каждый символы соответвуют другому в порядке сортировки т. е. сортируем символы алфавита и ставим соответствия на основе их позиции. Для дого чтобы найти ключ дешифрования нам необходимо найти нужну перестановку символво исходного или зашифрованного алфавита при неизменных позициях символов другого алфавита.\n",
    "\n",
    "Таким образом, образуется пространство состояний с конечным множество состояний, состоящее из всевозможных перестановок символов алфавита длинной N. Для того чтобы найти шифр нужно найти \"оптимальное\" состояние.\n",
    "\n",
    "Для перехода между состояниями предлагается использовать алгоритм Метрополиса-Гастингса. Мы генерируем новое состояние (перестанову в нашем случае), оцениваем насколько она улучшает результат дешифрования и принимаеи решение примнимать новое состояние или нет.\n",
    "\n",
    "Для оценки того насколько \"оптимально\" новое состояние (перестановка $\\pi$) в статьях предлагается использовать следующий критерий:\n",
    "$$\n",
    "Q(\\pi) = \\prod_{i=1}^{L-n + 1} c(x_i, x_{i+1}, \\ldots, x_{i+n-1})^{c_{\\pi}(x_i, x_{i+1}, \\ldots, x_{i+n-1})},\n",
    "$$\n",
    "где $L \\in \\mathbb{N} -$ длина зашифрованного текста в символах, $n \\in \\mathbb{N}-$ это параметр модели для n-грамм (при $n=2$ полуаем модель на основе биграмм), $c(\\cdot)-$ сколько раз последовательность $n-$грамм встречается в базовом корпусе текстов исходного алфавита после дешифрования текста с помощью перестановки $\\pi$, $ c_{\\pi}(\\cdot)$- сколько раз последовательность $n-$грамм встречается в тексте после его дешифрования с помощью перетсановки $\\pi$.\n",
    "\n",
    "Базовый корпус это какой-то набор текстов на языке исходного алфавита, предназначенный для расчёта статистик $n-$ грамм и построения языковой модели.\n",
    "\n",
    "Для избежания проблем с численной неустойчивостью при расчётах имеет смсылс перейт к $\\log Q(\\pi) $:\n",
    "$$\n",
    "\\log Q(\\pi) = \\sum_{i=1}^{L-n + 1} c_{\\pi}(x_i, x_{i+1}, \\ldots, x_{i+n-1}) \\cdot \\log c(x_i, x_{i+1}, \\ldots, x_{i+n-1})\n",
    "$$ \n",
    "\n",
    "Имея критерий оценки перестановок мы можем воспользоваться алгоритмом Метрополиса-Гастингса для геннерации новой перестановки и вычисления веротяности её принятия в качестве нового состояния. \n",
    "\n",
    "Новые перестановки генерируются достаточно просто. Необходимо случайным образом поменять два элемента в текущей перестановке. Это сделано специально, чтобы перестановки не сильно отличались друг от друга в пространстве состояний и мы не совершали слишком больших переходов.\n",
    "\n",
    "Базовый алгоритм примерно следующий: \n",
    "\n",
    "1. Генерируем новую перестановку $\\pi^\\prime $ из $ \\pi $.\n",
    "2. Генерируем случайную величину $u$ с равномерным распредлением на $[0;1]$.\n",
    "3. Считаем вероятность принятия новой перестановки. Если $ \\log u < p \\cdot \\left( \\log Q(\\pi^\\prime) - \\log Q(\\pi) \\right) $, то принимаем новую перестановку $\\pi^\\prime$, иначе остаёмся со старой перестановкой $\\pi$.\n",
    "\n",
    "Для нахождение нужной перестановки шаги 1-3 повторяются $ Iter \\in \\mathbb{N} $ раз. $p > 0-$ это параметр, который влияет на вероятность принятия новой перестановки. По умолчанию его можно сделать равным 1."
   ],
   "cell_type": "markdown",
   "metadata": {}
  },
  {
   "cell_type": "code",
   "execution_count": 28,
   "metadata": {},
   "outputs": [],
   "source": [
    "enc_mapping = symmetric_key.get_encode_mapping()"
   ]
  },
  {
   "cell_type": "code",
   "execution_count": 29,
   "metadata": {},
   "outputs": [],
   "source": [
    "encoded = \"\".join(map(lambda x: enc_mapping[x], original_processed))"
   ]
  },
  {
   "cell_type": "code",
   "execution_count": 30,
   "metadata": {},
   "outputs": [
    {
     "output_type": "execute_result",
     "data": {
      "text/plain": [
       "'российский физик александр попов продемонстрировал новейший прибор предназначенный для показывания быстрых колебаний в атмосферном электричестве именно этот день считается днем рождения радиоприемника в разных городах россии студенты профильных технических вузов отмечают этот праздник также с профессиональным праздником поздравляют всех работников сферы связи и радиовещания'"
      ]
     },
     "metadata": {},
     "execution_count": 30
    }
   ],
   "source": [
    "original_processed"
   ]
  },
  {
   "cell_type": "code",
   "execution_count": 31,
   "metadata": {},
   "outputs": [
    {
     "output_type": "execute_result",
     "data": {
      "text/plain": [
       "'🌛📩🔒🔒🍪🕝🔒💲🍪🕝📲💙🍪👥🍪💲📲😞📶👟💲🔒😞🍌🆘🌛📲🚮📩🚮📩😋📲🚮🌛📩🆘👟🍝📩🍌🔒🚍🌛🍪🌛📩😋😞📶📲🍌📩😋👟🕝🎆🍪🕝📲🚮🌛🍪🎦📩🌛📲🚮🌛👟🆘🍌😞👥🍌😞🍣👟🍌🍌🚌🕝📲🆘📶🌊📲🚮📩💲😞👥🚌😋😞🍌🍪🌊📲🎦🚌🔒🚍🌛🚌🎶📲💲📩📶👟🎦😞🍌🍪🕝📲😋📲😞🚍🍝📩🔒💙👟🌛🍌📩🍝📲🚔📶👟💲🚍🌛🍪🍣👟🔒🚍😋👟📲🍪🍝👟🍌🍌📩📲🚔🚍📩🚍📲🆘👟🍌🙏📲🔒🍣🍪🚍😞👟🚍🔒🌊📲🆘🍌👟🍝📲🌛📩🔎🆘👟🍌🍪🌊📲🌛😞🆘🍪📩🚮🌛🍪👟🍝🍌🍪💲😞📲😋📲🌛😞👥🍌🚌🎶📲🏧📩🌛📩🆘😞🎶📲🌛📩🔒🔒🍪🍪📲🔒🚍🕧🆘👟🍌🚍🚌📲🚮🌛📩💙🍪📶🙏🍌🚌🎶📲🚍👟🎶🍌🍪🍣👟🔒💲🍪🎶📲😋🕧👥📩😋📲📩🚍🍝👟🍣😞😫🚍📲🚔🚍📩🚍📲🚮🌛😞👥🆘🍌🍪💲📲🚍😞💲🔎👟📲🔒📲🚮🌛📩💙👟🔒🔒🍪📩🍌😞📶🙏🍌🚌🍝📲🚮🌛😞👥🆘🍌🍪💲📩🍝📲🚮📩👥🆘🌛😞😋📶🌊😫🚍📲😋🔒👟🎶📲🌛😞🎦📩🚍🍌🍪💲📩😋📲🔒💙👟🌛🚌📲🔒😋🌊👥🍪📲🍪📲🌛😞🆘🍪📩😋👟🐳😞🍌🍪🌊'"
      ]
     },
     "metadata": {},
     "execution_count": 31
    }
   ],
   "source": [
    "encoded"
   ]
  },
  {
   "cell_type": "code",
   "execution_count": 32,
   "metadata": {},
   "outputs": [
    {
     "output_type": "display_data",
     "data": {
      "text/plain": "  0%|          | 0/25000 [00:00<?, ?it/s]",
      "application/vnd.jupyter.widget-view+json": {
       "version_major": 2,
       "version_minor": 0,
       "model_id": "d4cc54d794594a2ebe498ecd77cbbe0f"
      }
     },
     "metadata": {}
    },
    {
     "output_type": "display_data",
     "data": {
      "text/plain": "  0%|          | 0/25000 [00:00<?, ?it/s]",
      "application/vnd.jupyter.widget-view+json": {
       "version_major": 2,
       "version_minor": 0,
       "model_id": "0dc013b4a0b346e6800093151cac93ec"
      }
     },
     "metadata": {}
    },
    {
     "output_type": "display_data",
     "data": {
      "text/plain": "  0%|          | 0/25000 [00:00<?, ?it/s]",
      "application/vnd.jupyter.widget-view+json": {
       "version_major": 2,
       "version_minor": 0,
       "model_id": "6491301774e547a9aa37e1f25830aacb"
      }
     },
     "metadata": {}
    },
    {
     "output_type": "display_data",
     "data": {
      "text/plain": "  0%|          | 0/25000 [00:00<?, ?it/s]",
      "application/vnd.jupyter.widget-view+json": {
       "version_major": 2,
       "version_minor": 0,
       "model_id": "2fd7656c7ecd497497fefc448f79fe41"
      }
     },
     "metadata": {}
    },
    {
     "output_type": "display_data",
     "data": {
      "text/plain": "  0%|          | 0/25000 [00:00<?, ?it/s]",
      "application/vnd.jupyter.widget-view+json": {
       "version_major": 2,
       "version_minor": 0,
       "model_id": "f909819ea65441cfb1fa846d78bfce8b"
      }
     },
     "metadata": {}
    }
   ],
   "source": [
    "possible_decodings = []\n",
    "for i in range(5):\n",
    "    possible_decodings.append(mcmc_decryption(encoded, bigram_stat, symmetric_key.src_vocab(), symmetric_key.chiper_vocab(), 25_000, generator=RND_GENERATOR))"
   ]
  },
  {
   "cell_type": "code",
   "execution_count": 33,
   "metadata": {},
   "outputs": [],
   "source": [
    "possible_decodings.sort(key=lambda x: x.log_score, reverse=True)"
   ]
  },
  {
   "cell_type": "code",
   "execution_count": 34,
   "metadata": {},
   "outputs": [
    {
     "output_type": "display_data",
     "data": {
      "text/plain": "<IPython.core.display.HTML object>",
      "text/html": "<table>\n<thead>\n<tr><th>Логаримф оценки правдоподобности текста  </th><th>Перевод                                                                                                                                                                                                                                                                                                                                                                                 </th><th>Перестановка                                          </th></tr>\n</thead>\n<tbody>\n<tr><td>3308.05                                  </td><td>российский чизик александр попов продегонстрировал новейфий прибор предназнашенный для показывания быстрым колебаний в атгосчерног электришестве игенно этот день сшитается днег рождения радиоприегника в разным хородам россии студенты прочильным темнишеским вузов отгешают этот праздник также с прочессиональныг праздниког поздравляют всем работников счеры связи и радиовещания</td><td>&lt;utils.LetterPermutation object at 0x0000028C9DC5D490&gt;</td></tr>\n<tr><td>3268.92                                  </td><td>вассихских пигик орексондв зазам зваделанствивамор намехших звибав зведногноченных дря закогымония быствый каребоних м отласпевнал эректвичестме иленна этат день считоется днел важдения водиазвиелнико м вогный фавадой вассии студенты звапирьный тейнический мугам атлечоют этат звогдник токже с звапессианорьныл звогдникал загдвомряют мсей вобатникам спевы смяги и водиамецония</td><td>&lt;utils.LetterPermutation object at 0x0000028C9DE7F9D0&gt;</td></tr>\n<tr><td>3133.28                                  </td><td>осиилюиялю плуля раняиредо всвск восдньсеитолоскра ескнюшлю волбсо вондеруергнеемю даж всярумкрелж бмитомы ясанбрелю к ртьсипноесь чанятолгниткн льнеес чтст днех иглтрнтиж день осзднелж ордлсволньеляр к оруемы йсосдры осиилл итцднетм восплахемы тныелгниялы кцуск стьнгрэт чтст воруделя трязн и воспниилсерахемь воруделясь всудоркажэт кины орбстеляск ипном икжул л ордлскнфрелж</td><td>&lt;utils.LetterPermutation object at 0x0000028C9DE35F10&gt;</td></tr>\n<tr><td>3127.95                                  </td><td>руссегсмегожечемоиламсинтродудуводрутакунс рерувилонувагщегодребуродратничнизанныготлподумичывинепобыс рыхомулабинеговои кусжарнукойлам резас ваоеканнуой у отаньосзе иа спотнакоруштанепоритеудреакнемиоворичныхоцурутихоруссееос ятан ыодружельныхо ахнезасмеховячувоу казию ой у одричтнемо имшаосодружассеунильныкодричтнемукодучтривлпю овсахорибу немувосжарыосвпчеоеоритеувафинеп</td><td>&lt;utils.LetterPermutation object at 0x0000028C9DE247C0&gt;</td></tr>\n<tr><td>3122.39                                  </td><td>ниее пем пох д моубамеулвножижитожнивакилесн нитуболитапш пожн чиножнавлудлузалльповброжимудьтул рочьесньгомибачул потоускиеханликойбамсн заестао каллиойсисовалыоез суасеровлаконицвал ронув ижн акл муотонудльгофинивугониее  оесявалсьожних быльгосагл заем готядитоисказуюсойсисожнудвл мосумцаоеожнихаее илубылькожнудвл микожидвнутбрюсотеагонучисл митоеханьоетрд о онув итащул р</td><td>&lt;utils.LetterPermutation object at 0x0000028C9DE29BE0&gt;</td></tr>\n</tbody>\n</table>"
     },
     "metadata": {}
    }
   ],
   "source": [
    "headers = [\"Логаримф оценки правдоподобности текста\", \"Перевод\", \"Перестановка\"]\n",
    "display(HTML(tabulate(possible_decodings, headers=headers, numalign=\"left\", tablefmt='html')))"
   ]
  },
  {
   "source": [
    "# 4 Расшифровка тестового текста"
   ],
   "cell_type": "markdown",
   "metadata": {}
  },
  {
   "source": [
    "## 4.1 Расшифровка на основе биграмм"
   ],
   "cell_type": "markdown",
   "metadata": {}
  },
  {
   "cell_type": "code",
   "execution_count": 35,
   "metadata": {},
   "outputs": [],
   "source": [
    "input_text = \"←⇠⇒↟↹↷⇊↹↷↟↤↟↨←↹↝⇛⇯↳⇴⇒⇈↝⇊↾↹↟⇒↟↹⇷⇛⇞↨↟↹↝⇛⇯↳⇴⇒⇈↝⇊↾↹↨←⇌⇠↨↹⇙↹⇸↨⇛↙⇛↹⇠⇛⇛↲⇆←↝↟↞↹⇌⇛↨⇛⇯⇊↾↹⇒←↙⇌⇛↹⇷⇯⇛⇞↟↨⇴↨⇈↹⇠⇌⇛⇯←←↹↷⇠←↙⇛↹↷⇊↹↷⇠←↹⇠↤←⇒⇴⇒↟↹⇷⇯⇴↷↟⇒⇈↝⇛↹↟↹⇷⇛⇒⇙⇞↟↨←↹↳⇴⇌⇠↟↳⇴⇒⇈↝⇊↾↹↲⇴⇒⇒↹⇰⇴↹⇷⇛⇠⇒←↤↝←←↹⇞←↨↷←⇯↨⇛←↹⇰⇴↤⇴↝↟←↹⇌⇙⇯⇠⇴↹↘⇛↨↞↹⇌⇛↝←⇞↝⇛↹↞↹↝↟⇞←↙⇛↹↝←↹⇛↲←⇆⇴⇏\""
   ]
  },
  {
   "cell_type": "code",
   "execution_count": 36,
   "metadata": {},
   "outputs": [
    {
     "output_type": "execute_result",
     "data": {
      "text/plain": [
       "28"
      ]
     },
     "metadata": {},
     "execution_count": 36
    }
   ],
   "source": [
    "len(set(input_text))"
   ]
  },
  {
   "source": [
    "Сначала пробуем расшифровать текст с предположением, что он на русском языке."
   ],
   "cell_type": "markdown",
   "metadata": {}
  },
  {
   "cell_type": "code",
   "execution_count": 37,
   "metadata": {},
   "outputs": [],
   "source": [
    "original_vocab = set(RUSSIAN_LETTERS)\n",
    "original_vocab.add(\" \")\n",
    "target_vocab = list(set(input_text))\n",
    "emojii_vocab = list(get_emoji_vocab())\n",
    "target_vocab += emodji_vocab[:len(original_vocab) - len(target_vocab)]\n",
    "del emojii_vocab\n",
    "\n",
    "symmetric_key = LetterPermutation(original_vocab, target_vocab)"
   ]
  },
  {
   "cell_type": "code",
   "execution_count": 38,
   "metadata": {},
   "outputs": [
    {
     "output_type": "stream",
     "name": "stdout",
     "text": [
      "[('↹', 34), ('←', 22), ('⇛', 22), ('↟', 15), ('⇒', 13), ('↝', 13), ('⇴', 13), ('↨', 12), ('⇠', 10), ('⇯', 8), ('↷', 7), ('⇌', 7), ('⇊', 6), ('⇞', 6), ('⇈', 5), ('⇷', 5), ('↤', 4), ('↳', 4), ('↾', 4), ('↙', 4), ('⇙', 3), ('↲', 3), ('↞', 3), ('⇆', 2), ('⇰', 2), ('⇸', 1), ('↘', 1), ('⇏', 1)]\n"
     ]
    }
   ],
   "source": [
    "print(Counter(input_text).most_common(), sep=\" \")"
   ]
  },
  {
   "cell_type": "code",
   "execution_count": 39,
   "metadata": {},
   "outputs": [
    {
     "output_type": "stream",
     "name": "stdout",
     "text": [
      "Scaling:  0.5 \n\n"
     ]
    },
    {
     "output_type": "display_data",
     "data": {
      "text/plain": "  0%|          | 0/50000 [00:00<?, ?it/s]",
      "application/vnd.jupyter.widget-view+json": {
       "version_major": 2,
       "version_minor": 0,
       "model_id": "5510463597df459aa788082df31d591b"
      }
     },
     "metadata": {}
    },
    {
     "output_type": "display_data",
     "data": {
      "text/plain": "  0%|          | 0/50000 [00:00<?, ?it/s]",
      "application/vnd.jupyter.widget-view+json": {
       "version_major": 2,
       "version_minor": 0,
       "model_id": "0607b83872be425381ed45e5eb39122b"
      }
     },
     "metadata": {}
    },
    {
     "output_type": "display_data",
     "data": {
      "text/plain": "  0%|          | 0/50000 [00:00<?, ?it/s]",
      "application/vnd.jupyter.widget-view+json": {
       "version_major": 2,
       "version_minor": 0,
       "model_id": "11542aa397e54be495b9ca26da14ad3c"
      }
     },
     "metadata": {}
    },
    {
     "output_type": "display_data",
     "data": {
      "text/plain": "  0%|          | 0/50000 [00:00<?, ?it/s]",
      "application/vnd.jupyter.widget-view+json": {
       "version_major": 2,
       "version_minor": 0,
       "model_id": "131f2518761940019ec988cc1aeea91d"
      }
     },
     "metadata": {}
    },
    {
     "output_type": "display_data",
     "data": {
      "text/plain": "  0%|          | 0/50000 [00:00<?, ?it/s]",
      "application/vnd.jupyter.widget-view+json": {
       "version_major": 2,
       "version_minor": 0,
       "model_id": "47e80b0343994bcea53265361005ebcc"
      }
     },
     "metadata": {}
    },
    {
     "output_type": "stream",
     "name": "stdout",
     "text": [
      "Scaling:  1 \n\n"
     ]
    },
    {
     "output_type": "display_data",
     "data": {
      "text/plain": "  0%|          | 0/50000 [00:00<?, ?it/s]",
      "application/vnd.jupyter.widget-view+json": {
       "version_major": 2,
       "version_minor": 0,
       "model_id": "f77a6fab65ba4066b467204955c8b9a5"
      }
     },
     "metadata": {}
    },
    {
     "output_type": "display_data",
     "data": {
      "text/plain": "  0%|          | 0/50000 [00:00<?, ?it/s]",
      "application/vnd.jupyter.widget-view+json": {
       "version_major": 2,
       "version_minor": 0,
       "model_id": "da995970c55846d8b7972be71609216d"
      }
     },
     "metadata": {}
    },
    {
     "output_type": "display_data",
     "data": {
      "text/plain": "  0%|          | 0/50000 [00:00<?, ?it/s]",
      "application/vnd.jupyter.widget-view+json": {
       "version_major": 2,
       "version_minor": 0,
       "model_id": "36d53ec7ace1462c9671290c9b2c3086"
      }
     },
     "metadata": {}
    },
    {
     "output_type": "display_data",
     "data": {
      "text/plain": "  0%|          | 0/50000 [00:00<?, ?it/s]",
      "application/vnd.jupyter.widget-view+json": {
       "version_major": 2,
       "version_minor": 0,
       "model_id": "7c24216640534c4f82fc01c65600f48c"
      }
     },
     "metadata": {}
    },
    {
     "output_type": "display_data",
     "data": {
      "text/plain": "  0%|          | 0/50000 [00:00<?, ?it/s]",
      "application/vnd.jupyter.widget-view+json": {
       "version_major": 2,
       "version_minor": 0,
       "model_id": "859808a85aed49779e0c0460e1fe990e"
      }
     },
     "metadata": {}
    },
    {
     "output_type": "stream",
     "name": "stdout",
     "text": [
      "Scaling:  10 \n\n"
     ]
    },
    {
     "output_type": "display_data",
     "data": {
      "text/plain": "  0%|          | 0/50000 [00:00<?, ?it/s]",
      "application/vnd.jupyter.widget-view+json": {
       "version_major": 2,
       "version_minor": 0,
       "model_id": "e5f19d70e70245a780a0eb603049a7fb"
      }
     },
     "metadata": {}
    },
    {
     "output_type": "display_data",
     "data": {
      "text/plain": "  0%|          | 0/50000 [00:00<?, ?it/s]",
      "application/vnd.jupyter.widget-view+json": {
       "version_major": 2,
       "version_minor": 0,
       "model_id": "d2d2908cf7394c3b9637c114c8364a1a"
      }
     },
     "metadata": {}
    },
    {
     "output_type": "display_data",
     "data": {
      "text/plain": "  0%|          | 0/50000 [00:00<?, ?it/s]",
      "application/vnd.jupyter.widget-view+json": {
       "version_major": 2,
       "version_minor": 0,
       "model_id": "15d8f22e8edd4097a75d5cff2c4cf561"
      }
     },
     "metadata": {}
    },
    {
     "output_type": "display_data",
     "data": {
      "text/plain": "  0%|          | 0/50000 [00:00<?, ?it/s]",
      "application/vnd.jupyter.widget-view+json": {
       "version_major": 2,
       "version_minor": 0,
       "model_id": "3430ae081d30450a87be9b7b78eb39f6"
      }
     },
     "metadata": {}
    },
    {
     "output_type": "display_data",
     "data": {
      "text/plain": "  0%|          | 0/50000 [00:00<?, ?it/s]",
      "application/vnd.jupyter.widget-view+json": {
       "version_major": 2,
       "version_minor": 0,
       "model_id": "d20f13e16ced42c688765e4f8b047dbe"
      }
     },
     "metadata": {}
    }
   ],
   "source": [
    "possible_decodings = []\n",
    "num_iters = 50_000\n",
    "for scaling in [0.5, 1, 10]:\n",
    "    print(\"Scaling: \", scaling, \"\\n\")\n",
    "    for i in range(5):\n",
    "        possible_decodings.append((scaling,) + mcmc_decryption(input_text, bigram_stat, symmetric_key.src_vocab(), symmetric_key.chiper_vocab(), num_iters = num_iters\n",
    ", scaling=scaling, generator=RND_GENERATOR))"
   ]
  },
  {
   "cell_type": "code",
   "execution_count": 40,
   "metadata": {},
   "outputs": [],
   "source": [
    "possible_decodings.sort(key=lambda x: x[1], reverse=True)"
   ]
  },
  {
   "cell_type": "code",
   "execution_count": 41,
   "metadata": {},
   "outputs": [
    {
     "output_type": "display_data",
     "data": {
      "text/plain": "<IPython.core.display.HTML object>",
      "text/html": "<table>\n<thead>\n<tr><th>Параметр масштабирования  </th><th>Логаримф оценки правдоподобности текста  </th><th>Перевод                                                                                                                                                                                                                               </th><th>Перестановка                                          </th></tr>\n</thead>\n<tbody>\n<tr><td>1                         </td><td>2115.46                                  </td><td>если вы вимите нордальный или почти нордальный текст у этого соожбения который легко прочитать скорее всего вы все смелали правильно и получите даксидальный жалл за послемнее четвертое замание курса хотя конечно я ничего не ожебаю</td><td>&lt;utils.LetterPermutation object at 0x0000028C9DDDE220&gt;</td></tr>\n<tr><td>1                         </td><td>2113.82                                  </td><td>если вы вимите норжальный или подти норжальный текст у чтого сообщения который легко продитать скорее всего вы все смелали правильно и полудите жаксижальный балл за послемнее детвертое замание курса хотя конедно я нидего не обещаю</td><td>&lt;utils.LetterPermutation object at 0x0000028C9DDCACA0&gt;</td></tr>\n<tr><td>0.5                       </td><td>2112.62                                  </td><td>если вы вимите норжальный или подти норжальный текст у этого сообщения который легко продитать скорее всего вы все смелали правильно и полудите жаксижальный балл за послемнее детвертое замание курса хотя конедно я нидего не обещаю</td><td>&lt;utils.LetterPermutation object at 0x0000028C9DD86640&gt;</td></tr>\n<tr><td>0.5                       </td><td>2109.71                                  </td><td>если вы вимите норчальный или подти норчальный текст у этого сообщения который легко продитать скорее всего вы все смелали правильно и полудите чаксичальный балл жа послемнее детвертое жамание курса зотя конедно я нидего не обещах</td><td>&lt;utils.LetterPermutation object at 0x0000028C9DD879D0&gt;</td></tr>\n<tr><td>0.5                       </td><td>2101.16                                  </td><td>если вы вимите норжальный или подти норжальный текст у чтого сообшених который легко продитать скорее всего вы все смелали правильно и полудите жаксижальный балл за послемнее детвертое замание курса фотх конедно х нидего не обешая</td><td>&lt;utils.LetterPermutation object at 0x0000028C9DE24370&gt;</td></tr>\n<tr><td>10                        </td><td>2087.94                                  </td><td>евни сь сизите лорканылью ини помти лорканылью тедвт у этого воочшелия доторью негдо промитаты вдорее свего сь све взенани прасиныло и понумите кадвиканылью чанн жа повнезлее метсертое жазалие дурва ботя долемло я лимего ле очешах</td><td>&lt;utils.LetterPermutation object at 0x0000028C9DC5D7C0&gt;</td></tr>\n<tr><td>1                         </td><td>2086.61                                  </td><td>есни вь видите лорманылью ини почти лорманылью текст у этого сообшелия которью негко прочитаты скорее всего вь все сденани правиныло и понучите максиманылью банн за поснедлее четвертое задалие курса хотя колечло я личего ле обешай</td><td>&lt;utils.LetterPermutation object at 0x0000028C9DDC7610&gt;</td></tr>\n<tr><td>0.5                       </td><td>2085.85                                  </td><td>евни сь сишите лорканылью ини почти лорканылью тедвт у этого вообмелия доторью негдо прочитаты вдорее свего сь све вшенани прасиныло и понучите кадвиканылью банн жа повнешлее четсертое жашалие дурва зотя долечло я личего ле обемай</td><td>&lt;utils.LetterPermutation object at 0x0000028C9DDC1FA0&gt;</td></tr>\n<tr><td>0.5                       </td><td>2079.58                                  </td><td>есни вь видите лорманылью ини почти лорманылью текст у фтого сообщелия которью негко прочитаты скорее всего вь все сденани правиныло и понучите максиманылью банн за поснедлее четвертое задалие курса хотя колечло я личего ле обещац</td><td>&lt;utils.LetterPermutation object at 0x0000028C9DE6F640&gt;</td></tr>\n<tr><td>10                        </td><td>2070.39                                  </td><td>есни дл дизите воржанывль ини помти воржанывль текст у этого сообщевия которль негко промитаты скорее дсего дл дсе сзенани прадиныво и понумите жаксижанывль банн ча поснезвее метдертое чазавие курса хотя ковемво я вимего ве обещаю</td><td>&lt;utils.LetterPermutation object at 0x0000028C9DDD9760&gt;</td></tr>\n<tr><td>10                        </td><td>2066.06                                  </td><td>овни сь симиро летканылью ини чегри летканылью родвр у преже веезболия деретью ножде чтегирары вдетоо своже сь сво вмонани чтасиныле и ченугиро кадвиканылью занн ха чевномлоо горсотрео хамалио дутва шеря делогле я лигоже ло езобай</td><td>&lt;utils.LetterPermutation object at 0x0000028C9D5B3FA0&gt;</td></tr>\n<tr><td>10                        </td><td>2063.2                                   </td><td>ерни бы бишиле вотчанувый ини косли вотчанувый лепрл я гломо роождевию полотый немпо ктосилалу рпотее бремо бы бре ршенани ктабинуво и конясиле чапричанувый жанн за корнешвее селбетлое зашавие пятра холю повесво ю висемо ве ожедаф</td><td>&lt;utils.LetterPermutation object at 0x0000028C9D5B3F40&gt;</td></tr>\n<tr><td>1                         </td><td>1983.68                                  </td><td>ерит чь чтытне содалиясью тит вомнт содалиясью некрн з хного рообшесту конодью иегко вдомтнлня ркодее чрего чь чре рыеилит вдлчтиясо т воизмтне алкрталиясью блии эл вориеысее менчедное элылсте кздрл пону косемсо у стмего се обешлж</td><td>&lt;utils.LetterPermutation object at 0x0000028C9DE2FC70&gt;</td></tr>\n<tr><td>10                        </td><td>1935.02                                  </td><td>тусв бя бврвет инапослияй всв зндев инапослияй етмуе к шенын уннчьтивх мненаяй стымн зандвеоел умнатт бутын бя бут уртсосв заобвслин в знскдвет помувпослияй чосс го знустритт дтебтаент гороивт мкауо жнех мнитдин х ивдтын ит нчтьою</td><td>&lt;utils.LetterPermutation object at 0x0000028C9D573B20&gt;</td></tr>\n<tr><td>1                         </td><td>1932.27                                  </td><td>ндасежиежсусонев тпразвилесасей косев тпразвилеонядоечешо ь ед  бынвсмея о тилеанья ейт ксорозедя тннежднь ежиежднедунарасейтржсазв есей ачксонепрядспразвилебрааегрей данувннекножнто негрурвснеячтдрею омея внкв емевскнь евне бнырх</td><td>&lt;utils.LetterPermutation object at 0x0000028C9DE1D370&gt;</td></tr>\n</tbody>\n</table>"
     },
     "metadata": {}
    }
   ],
   "source": [
    "display(HTML(tabulate(possible_decodings, headers=[\"Параметр масштабирования\"] + headers, numalign=\"left\", tablefmt='html')))"
   ]
  },
  {
   "source": [
    "## 4.2 Расшифровка на основе триграмм "
   ],
   "cell_type": "markdown",
   "metadata": {}
  },
  {
   "cell_type": "code",
   "execution_count": 42,
   "metadata": {},
   "outputs": [],
   "source": [
    "n_gram = 3\n",
    "source_freq = Counter()\n",
    "for name in texts:\n",
    "    # if name == \"AnnaKarenina.txt\":\n",
    "    #     big_text = texts[name]\n",
    "    # else:\n",
    "    source_freq.update(count_ngram(texts[name], n_gram=n_gram))"
   ]
  },
  {
   "cell_type": "code",
   "execution_count": 43,
   "metadata": {},
   "outputs": [],
   "source": [
    "trigram_stat = NGramStat(source_freq)"
   ]
  },
  {
   "cell_type": "code",
   "execution_count": 44,
   "metadata": {},
   "outputs": [
    {
     "output_type": "stream",
     "name": "stdout",
     "text": [
      "Scaling:  0.25 \n\n"
     ]
    },
    {
     "output_type": "display_data",
     "data": {
      "text/plain": "  0%|          | 0/8000 [00:00<?, ?it/s]",
      "application/vnd.jupyter.widget-view+json": {
       "version_major": 2,
       "version_minor": 0,
       "model_id": "5c2a6f197ba54882a60aeb45a4b28c69"
      }
     },
     "metadata": {}
    },
    {
     "output_type": "display_data",
     "data": {
      "text/plain": "  0%|          | 0/8000 [00:00<?, ?it/s]",
      "application/vnd.jupyter.widget-view+json": {
       "version_major": 2,
       "version_minor": 0,
       "model_id": "dd23238d80c4455ca7f4813ae77f0fc7"
      }
     },
     "metadata": {}
    },
    {
     "output_type": "display_data",
     "data": {
      "text/plain": "  0%|          | 0/8000 [00:00<?, ?it/s]",
      "application/vnd.jupyter.widget-view+json": {
       "version_major": 2,
       "version_minor": 0,
       "model_id": "6c87ba5486d0427797b0a56190b759ed"
      }
     },
     "metadata": {}
    },
    {
     "output_type": "display_data",
     "data": {
      "text/plain": "  0%|          | 0/8000 [00:00<?, ?it/s]",
      "application/vnd.jupyter.widget-view+json": {
       "version_major": 2,
       "version_minor": 0,
       "model_id": "20da3d63b9114c97af7f8a2b1218f394"
      }
     },
     "metadata": {}
    },
    {
     "output_type": "display_data",
     "data": {
      "text/plain": "  0%|          | 0/8000 [00:00<?, ?it/s]",
      "application/vnd.jupyter.widget-view+json": {
       "version_major": 2,
       "version_minor": 0,
       "model_id": "0e51aacbe0154dbba67149769ef1322b"
      }
     },
     "metadata": {}
    },
    {
     "output_type": "stream",
     "name": "stdout",
     "text": [
      "Scaling:  1 \n\n"
     ]
    },
    {
     "output_type": "display_data",
     "data": {
      "text/plain": "  0%|          | 0/8000 [00:00<?, ?it/s]",
      "application/vnd.jupyter.widget-view+json": {
       "version_major": 2,
       "version_minor": 0,
       "model_id": "b606fa9f89c849c18b362d80dcf8b99b"
      }
     },
     "metadata": {}
    },
    {
     "output_type": "display_data",
     "data": {
      "text/plain": "  0%|          | 0/8000 [00:00<?, ?it/s]",
      "application/vnd.jupyter.widget-view+json": {
       "version_major": 2,
       "version_minor": 0,
       "model_id": "7b311b1fad2740f5b44011885d52540a"
      }
     },
     "metadata": {}
    },
    {
     "output_type": "display_data",
     "data": {
      "text/plain": "  0%|          | 0/8000 [00:00<?, ?it/s]",
      "application/vnd.jupyter.widget-view+json": {
       "version_major": 2,
       "version_minor": 0,
       "model_id": "b66cb5d304514a4a9dcf7fce758c13f4"
      }
     },
     "metadata": {}
    },
    {
     "output_type": "display_data",
     "data": {
      "text/plain": "  0%|          | 0/8000 [00:00<?, ?it/s]",
      "application/vnd.jupyter.widget-view+json": {
       "version_major": 2,
       "version_minor": 0,
       "model_id": "0fba3d9903134115ac02423f499fd1fb"
      }
     },
     "metadata": {}
    },
    {
     "output_type": "display_data",
     "data": {
      "text/plain": "  0%|          | 0/8000 [00:00<?, ?it/s]",
      "application/vnd.jupyter.widget-view+json": {
       "version_major": 2,
       "version_minor": 0,
       "model_id": "dff985fff8934dc58f5f92564691bdd4"
      }
     },
     "metadata": {}
    },
    {
     "output_type": "stream",
     "name": "stdout",
     "text": [
      "Scaling:  10 \n\n"
     ]
    },
    {
     "output_type": "display_data",
     "data": {
      "text/plain": "  0%|          | 0/8000 [00:00<?, ?it/s]",
      "application/vnd.jupyter.widget-view+json": {
       "version_major": 2,
       "version_minor": 0,
       "model_id": "9c88d02ac30c4e05ae4378bd64bdf995"
      }
     },
     "metadata": {}
    },
    {
     "output_type": "display_data",
     "data": {
      "text/plain": "  0%|          | 0/8000 [00:00<?, ?it/s]",
      "application/vnd.jupyter.widget-view+json": {
       "version_major": 2,
       "version_minor": 0,
       "model_id": "612552eac01d486ea82f38ec933d34d4"
      }
     },
     "metadata": {}
    },
    {
     "output_type": "display_data",
     "data": {
      "text/plain": "  0%|          | 0/8000 [00:00<?, ?it/s]",
      "application/vnd.jupyter.widget-view+json": {
       "version_major": 2,
       "version_minor": 0,
       "model_id": "6b65a44323ee45e3b876d7b486ef4cb0"
      }
     },
     "metadata": {}
    },
    {
     "output_type": "display_data",
     "data": {
      "text/plain": "  0%|          | 0/8000 [00:00<?, ?it/s]",
      "application/vnd.jupyter.widget-view+json": {
       "version_major": 2,
       "version_minor": 0,
       "model_id": "20246d708d5c47c89ea307a96fe27f3b"
      }
     },
     "metadata": {}
    },
    {
     "output_type": "display_data",
     "data": {
      "text/plain": "  0%|          | 0/8000 [00:00<?, ?it/s]",
      "application/vnd.jupyter.widget-view+json": {
       "version_major": 2,
       "version_minor": 0,
       "model_id": "15ab3b47211b4458b916064251bf51f7"
      }
     },
     "metadata": {}
    },
    {
     "output_type": "stream",
     "name": "stdout",
     "text": [
      "Scaling:  100 \n\n"
     ]
    },
    {
     "output_type": "display_data",
     "data": {
      "text/plain": "  0%|          | 0/8000 [00:00<?, ?it/s]",
      "application/vnd.jupyter.widget-view+json": {
       "version_major": 2,
       "version_minor": 0,
       "model_id": "4714047e6a5b458ab2ad237149583f94"
      }
     },
     "metadata": {}
    },
    {
     "output_type": "display_data",
     "data": {
      "text/plain": "  0%|          | 0/8000 [00:00<?, ?it/s]",
      "application/vnd.jupyter.widget-view+json": {
       "version_major": 2,
       "version_minor": 0,
       "model_id": "1c15e5ea51804aa89c35c4c65967a67e"
      }
     },
     "metadata": {}
    },
    {
     "output_type": "display_data",
     "data": {
      "text/plain": "  0%|          | 0/8000 [00:00<?, ?it/s]",
      "application/vnd.jupyter.widget-view+json": {
       "version_major": 2,
       "version_minor": 0,
       "model_id": "73f5f3d3c99c4ae5a1f4598a70f52712"
      }
     },
     "metadata": {}
    },
    {
     "output_type": "display_data",
     "data": {
      "text/plain": "  0%|          | 0/8000 [00:00<?, ?it/s]",
      "application/vnd.jupyter.widget-view+json": {
       "version_major": 2,
       "version_minor": 0,
       "model_id": "5e367f3782be49a68a19f1af90f1576a"
      }
     },
     "metadata": {}
    },
    {
     "output_type": "display_data",
     "data": {
      "text/plain": "  0%|          | 0/8000 [00:00<?, ?it/s]",
      "application/vnd.jupyter.widget-view+json": {
       "version_major": 2,
       "version_minor": 0,
       "model_id": "e7c1925dc1ad475f8398c3f3bf8cef8b"
      }
     },
     "metadata": {}
    }
   ],
   "source": [
    "possible_decodings = []\n",
    "num_iters = 8_000\n",
    "for scaling in [0.25, 1, 10, 100]:\n",
    "    print(\"Scaling: \", scaling, \"\\n\")\n",
    "    for i in range(5):\n",
    "        possible_decodings.append((scaling,) + mcmc_decryption(input_text, trigram_stat, symmetric_key.src_vocab(), symmetric_key.chiper_vocab(), num_iters=num_iters, scaling=scaling, generator=RND_GENERATOR))"
   ]
  },
  {
   "cell_type": "code",
   "execution_count": 45,
   "metadata": {},
   "outputs": [],
   "source": [
    "possible_decodings.sort(key=lambda x: x[1], reverse=True)"
   ]
  },
  {
   "cell_type": "code",
   "execution_count": 46,
   "metadata": {},
   "outputs": [
    {
     "output_type": "display_data",
     "data": {
      "text/plain": "<IPython.core.display.HTML object>",
      "text/html": "<table>\n<thead>\n<tr><th>Параметр масштабирования  </th><th>Логаримф оценки правдоподобности текста  </th><th>Перевод                                                                                                                                                                                                                               </th><th>Перестановка                                          </th></tr>\n</thead>\n<tbody>\n<tr><td>1                         </td><td>1608.44                                  </td><td>если вы видите нормальный или почти нормальный текст у этого сообщения который легко прочитать скорее всего вы все сделали правильно и получите максимальный балл за последнее четвертое задание курса хотя конечно я ничего не обещаю</td><td>&lt;utils.LetterPermutation object at 0x0000028C9DC5D790&gt;</td></tr>\n<tr><td>10                        </td><td>1608.44                                  </td><td>если вы видите нормальный или почти нормальный текст у этого сообщения который легко прочитать скорее всего вы все сделали правильно и получите максимальный балл за последнее четвертое задание курса хотя конечно я ничего не обещаю</td><td>&lt;utils.LetterPermutation object at 0x0000028C9DE35250&gt;</td></tr>\n<tr><td>100                       </td><td>1608.44                                  </td><td>если вы видите нормальный или почти нормальный текст у этого сообщения который легко прочитать скорее всего вы все сделали правильно и получите максимальный балл за последнее четвертое задание курса хотя конечно я ничего не обещаю</td><td>&lt;utils.LetterPermutation object at 0x0000028C9DD5B2B0&gt;</td></tr>\n<tr><td>0.25                      </td><td>1597.27                                  </td><td>если вы видите нормальный или почти нормальный текст у этого сообщения который легко прочитать скорее всего вы все сделали правильно и получите максимальный балл за последнее четвертое задание курса фотя конечно я ничего не обещаю</td><td>&lt;utils.LetterPermutation object at 0x0000028C9DE74D30&gt;</td></tr>\n<tr><td>1                         </td><td>1554.63                                  </td><td>если ву видите нормальную или почти нормальную текст ж этого сообщения которую легко прочитать скорее всего ву все сделали правильно и полжчите максимальную балл за последнее четвертое задание кжрса хотя конечно я ничего не обещай</td><td>&lt;utils.LetterPermutation object at 0x0000028C9DC5DDF0&gt;</td></tr>\n<tr><td>10                        </td><td>1519.03                                  </td><td>есла ву вадате нормильную ала пошта нормильную текст ы чтого сообщеная которую легко прошатить скорее всего ву все сделила привально а полышате миксамильную билл жи последнее шетвертое жидинае кырси хотя конешно я нашего не обещий</td><td>&lt;utils.LetterPermutation object at 0x0000028C9DDC1EB0&gt;</td></tr>\n<tr><td>0.25                      </td><td>1517.54                                  </td><td>если ву вимите норчальную или подти норчальную текст й этого сообщения которую легко продитать скорее всего ву все смелали правильно и полйдите чаксичальную балл за послемнее детвертое замание кйрса хотя конедно я нидего не обещаъ</td><td>&lt;utils.LetterPermutation object at 0x0000028C9DDD9AF0&gt;</td></tr>\n<tr><td>100                       </td><td>1342.06                                  </td><td>икто су сохони вержатывую ото педно вержатывую нилкн я энеше кеемчивог ленерую тишле предонаны клерии скише су ски кхитато прасотыве о петядони жалкожатывую матт за пектихвии динсирнеи захавои лярка бенг левидве г водише ви емичай</td><td>&lt;utils.LetterPermutation object at 0x0000028C9DCD8520&gt;</td></tr>\n<tr><td>100                       </td><td>1329.19                                  </td><td>инса ку казали вергоствую аса бедла вергоствую личнл ь элеже неемхивая челерую сижче бредалолт нчерии книже ку кни нзисоса брокастве а бесьдали гочнагоствую мосс по бенсизвии дилкирлеи позоваи чьрно шеля чевидве я вадиже ви емихой</td><td>&lt;utils.LetterPermutation object at 0x0000028C9DDB7C70&gt;</td></tr>\n<tr><td>1                         </td><td>1327.83                                  </td><td>еила чу чазане костылькую ала вомна костылькую недин ж йного иообрекая доносую легдо всоманынь идосее чиего чу чие изелыла всычалько а волжмане тыдиатылькую былл цы воилезкее менчесное цызыкае джсиы поня докемко я камего ке оберых</td><td>&lt;utils.LetterPermutation object at 0x0000028C9DC50400&gt;</td></tr>\n<tr><td>1                         </td><td>1306.13                                  </td><td>еуно пь поботе лардинылью оно касто лардинылью темут я этаха уаачшелов матарью нехма красотиты умарее пуеха пь пуе убенино крипоныла о канясоте димуодинылью чинн ги каунеблее сетпертае гибилое мяруи затв малесла в лосеха ле ачеший</td><td>&lt;utils.LetterPermutation object at 0x0000028C9DC50D90&gt;</td></tr>\n<tr><td>1                         </td><td>1303.45                                  </td><td>ишно пу потоли расмендрую оно кабло расмендрую лившл ы глаза шаачцироя валасую низва ксаболелд швасии пшиза пу пши штинено ксепондра о каныболи мевшомендрую ченн же кашнитрии билпислаи жетерои высше халя варибра я робиза ри ачицей</td><td>&lt;utils.LetterPermutation object at 0x0000028C9DD86970&gt;</td></tr>\n<tr><td>10                        </td><td>1283.24                                  </td><td>илсо ду допони рамбеструю осо вакно рамбеструю низлн ь гнаха лаачшироя занамую сихза вмаконент лзамии длиха ду дли лписесо вмедостра о васькони безлобеструю чесс же валсиприи киндимнаи жеперои зьмле фаня зарикра я рокиха ри ачишей</td><td>&lt;utils.LetterPermutation object at 0x0000028C9DCD8430&gt;</td></tr>\n<tr><td>10                        </td><td>1261.23                                  </td><td>ивна ко казали терьянутой ана песла терьянутой лидвл ы глеже веемчитаю делерой нижде пресалялу вдерии квиже ко кви взиняна прякануте а пенысали ьядваьянутой мянн бя певнизтии силкирлеи бязятаи дырвя шелю детисте ю тасиже ти емичяё</td><td>&lt;utils.LetterPermutation object at 0x0000028C9DE35550&gt;</td></tr>\n<tr><td>0.25                      </td><td>1154.28                                  </td><td>ндивотсотвываное угличесповивом кавое угличеспоанюдаобофа я од  зёневрою а успоиняю ому квалачодю уннотдня отсотднодыниливомултвиче овом ибкваноглюдвгличеспозлииошлом диныеннокнатнуа ношлылевноюбудлох арою енке ороевкня оено знёль</td><td>&lt;utils.LetterPermutation object at 0x0000028C9DDDEA90&gt;</td></tr>\n<tr><td>100                       </td><td>1082.15                                  </td><td>нсалемиемлыл неворуказвичелалегоя леворуказвиче нтс ещей одоесообьнвлжето оричеандтоегроял к зесторннемсндоемиемснесынакалегркмлазвоелегоащял неуктслуказвичебкааешкегосанывннеян мнр онешкыквлнетщрскепо жетовнявоежевляндоевнеобнькъ</td><td>&lt;utils.LetterPermutation object at 0x0000028C9DC73BB0&gt;</td></tr>\n<tr><td>0.25                      </td><td>1081.18                                  </td><td>сдивоегоевявасо ружних гловивопрыаво ружних глоаскдаобоцартродррчьс вмокраруглоисткропурыванаходкруссоедстроегоедсодясинивопуневих ровоприбывасожнкдвжних глочнииознопрдися ссоысаесуарсознян всокбудноюрамокр сы ромо выстро сорчсьнё</td><td>&lt;utils.LetterPermutation object at 0x0000028C9D595CD0&gt;</td></tr>\n<tr><td>100                       </td><td>1064.6                                   </td><td>нясливривлпланио джесторбилслиз калио джесторбианмяаиыица у ия  чьнолгим а дрбиснум изд клаеатиям дннивяну ивривянияпнсеслиздевлсто илиз сыкланижемялжесторбичессишеиз яснпонникнавнда нишепеолнимыдяеих агим онко игиолкну иони чньей</td><td>&lt;utils.LetterPermutation object at 0x0000028C9DE1D910&gt;</td></tr>\n<tr><td>0.25                      </td><td>1001.14                                  </td><td>воитаятаизин тлемукогляютиоитыечнитлемукогляютн рвнтжтцнепетвеейф листренемяюто претымечинкнгтврем  тав петаятав твз окоитымкаиоглетитыеожчин тукрвиукогляютйкоотьктыево зл  тч на мне тькзкли тржмвктщенстрел члетстлич петл тей фкх </td><td>&lt;utils.LetterPermutation object at 0x0000028C9DD720A0&gt;</td></tr>\n<tr><td>10                        </td><td>986.705                                  </td><td>нсадиздиахал двекроствзгдасадьешладвекроствзгдл унлдыдэлебеднеемя важдуелекзгдс буедькешалолтднуек  дин бедиздин днх сосадькоиастведадьесышал дроунароствзгдмоссдподьенс хв  дш ли кле дпохова дуыкнодцелждуев шведждваш бедв дем яоё </td><td>&lt;utils.LetterPermutation object at 0x0000028C9DC5D0A0&gt;</td></tr>\n</tbody>\n</table>"
     },
     "metadata": {}
    }
   ],
   "source": [
    "display(HTML(tabulate(possible_decodings, headers=[\"Параметр масштабирования\"] + headers, numalign=\"left\", tablefmt='html')))"
   ]
  }
 ],
 "metadata": {
  "kernelspec": {
   "name": "python388jvsc74a57bd0d6b2716dc74907285453493007ca2cd23e9ed6a72eadb75b19b1e174f017e4c9",
   "display_name": "Python 3.8.8 64-bit ('made-adv-ml3': conda)"
  },
  "language_info": {
   "codemirror_mode": {
    "name": "ipython",
    "version": 3
   },
   "file_extension": ".py",
   "mimetype": "text/x-python",
   "name": "python",
   "nbconvert_exporter": "python",
   "pygments_lexer": "ipython3",
   "version": "3.8.8"
  },
  "metadata": {
   "interpreter": {
    "hash": "d6b2716dc74907285453493007ca2cd23e9ed6a72eadb75b19b1e174f017e4c9"
   }
  }
 },
 "nbformat": 4,
 "nbformat_minor": 4
}